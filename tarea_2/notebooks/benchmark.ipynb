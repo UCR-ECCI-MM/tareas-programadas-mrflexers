{
 "cells": [
  {
   "cell_type": "markdown",
   "metadata": {},
   "source": [
    "# Things to consider when developing an app\n",
    "\n",
    "This is an experiment to benchmark 3 algos\n",
    "\n",
    "The problem is about graphs. The goal is to found that every node is connected to at least two edges. Every edge has a cost. The goal is to minimize the cost of the edges.\n",
    "\n",
    "## What did I need for this app?\n",
    "\n",
    "### 1. Benchmark system\n",
    "\n",
    "Params needed:\n",
    "\n",
    "- **Algoritihms**: list of algorithms to test\n",
    "- **Input sizes**: list of **n** number of nodes to test \n",
    "- **Repetitions**: number of repetitions to test\n",
    "- **Output**: benchmark results\n",
    "  - **cost** = cost of the edges\n",
    "  - **time** = time to run the algorithm\n",
    "  - **space** = space to run the algorithm\n",
    " \n",
    "Outcomes needed:\n",
    "- Cost\n",
    "  - function to calculate the value ´evaluate_solution´\n",
    "- Temporal Complexity\n",
    "  - Package: ´´timeit´´\n",
    "- Space Complexity\n",
    "  - Package: ´´tracemalloc´´ or ´´memory_profiler´´\n",
    "\n",
    "\n",
    "### 2. Algorithms\n",
    "\n",
    "**Preconditions**\n",
    "\n",
    "Prepare a function to generate a graph.\n",
    "- Params:\n",
    "  - **n**: number of nodes\n",
    "  - **min_weight**: minimum weight of the edges\n",
    "  - **max_weight**: maximum weight of the edges\n",
    "\n",
    "With ´networkx´ library, we can generate full connected graphs to then apply the algorithms.\n",
    "\n",
    "**Implement the following algorithms**\n",
    "\n",
    "- Brute force\n",
    "- Heuristic based in Kruskal algorithm\n",
    "- Metaheuristic based in simulated annealing\n",
    "\n",
    "**How to manage a graph to do algorithm operations?**\n",
    "\n",
    "Use ´´networkx´´ library for this. This way I have the data structure to manage the graph and the algorithms to work with it.\n",
    "\n",
    "Moreover, this library have **minimum spanning tree algorithm**, which is useful for the heuristic algorithm and the simulated annealing algorithm. This algorithm used Kruskal algorithm to find the minimum spanning tree.\n",
    "\n",
    "\n",
    "### 3. Results Analysis\n",
    "\n",
    "We need to compare the results of the algorithms.\n",
    "\n",
    "We can use plots, dicts or df to show the results.\n",
    "\n",
    "Libraries:\n",
    "- ´´matplotlib´´\n",
    "- ´´pandas´´\n",
    "- ´´numpy´´\n",
    "- ´´seaborn´´\n",
    "\n",
    "The results to compare for each number of node input are:\n",
    "- Solution cost \n",
    "- Solution reliability???\n",
    "- Time Complexity\n",
    "- Space Complexity\n",
    "\n",
    "Because each algorithm run with 3 different input sized and each of that runs are repeated, we can calculate:\n",
    "- Average\n",
    "- Min\n",
    "- Max\n",
    "Of the results.\n",
    "\n",
    "\n"
   ]
  },
  {
   "cell_type": "markdown",
   "metadata": {},
   "source": [
    "# Prototyping\n"
   ]
  },
  {
   "cell_type": "code",
   "execution_count": 2,
   "metadata": {},
   "outputs": [],
   "source": [
    "# libraries used\n",
    "import networkx as nx\n",
    "import numpy as np\n",
    "import timeit\n",
    "import tracemalloc\n",
    "import matplotlib.pyplot as plt\n",
    "#scipy needed for nerworkx"
   ]
  },
  {
   "cell_type": "markdown",
   "metadata": {},
   "source": [
    "## networkx example"
   ]
  },
  {
   "cell_type": "code",
   "execution_count": 4,
   "metadata": {},
   "outputs": [
    {
     "name": "stdout",
     "output_type": "stream",
     "text": [
      "[(1, 2), (1, 3)]\n"
     ]
    }
   ],
   "source": [
    "\n",
    "def generate_random_graph(num_nodes, num_edges):\n",
    "    return nx.gnm_random_graph(num_nodes, num_edges)\n",
    "\n",
    "# Example usage:\n",
    "test_graph = generate_random_graph(4, 2)\n",
    "\n",
    "# print the graph\n",
    "print(test_graph.edges())\n"
   ]
  },
  {
   "cell_type": "markdown",
   "metadata": {},
   "source": [
    "## Random graph generation with networkx"
   ]
  },
  {
   "cell_type": "code",
   "execution_count": 5,
   "metadata": {},
   "outputs": [],
   "source": [
    "\n",
    "# Specific problem graph generator\n",
    "def generate_random_graph(num_nodes: int, min_cost: int, max_cost: int):\n",
    "    \"\"\"\n",
    "    Undirected graph generator, where the graph is fully connected\n",
    "    and the weight of the edges are random cost and a reliability value.\n",
    "    Parameters:\n",
    "    ----------\n",
    "    num_nodes: int\n",
    "        Number of nodes in the graph\n",
    "    min_cost: int\n",
    "        Minimum value of the cost of the edges\n",
    "    max_cost: int\n",
    "        Maximum value of the cost of the edges\n",
    "    \"\"\"\n",
    "    # num_edges to have a full connected graph\n",
    "    num_edges = num_nodes * (num_nodes - 1) // 2\n",
    "    # values of weights are random integers between 1 and 100\n",
    "    graph = nx.gnm_random_graph(num_nodes, num_edges)\n",
    "    for u, v in graph.edges:\n",
    "        # cost and reliability of each edge connection beetween nodes\n",
    "        graph[u][v]['values'] = {\n",
    "            \"cost\": np.random.randint(min_cost, max_cost),\n",
    "            \"reliability\": np.random.uniform(0, 1),\n",
    "        }\n",
    "    return graph"
   ]
  },
  {
   "cell_type": "code",
   "execution_count": 6,
   "metadata": {},
   "outputs": [
    {
     "name": "stdout",
     "output_type": "stream",
     "text": [
      "Graph Nodes:\n",
      "[0, 1, 2, 3, 4]\n",
      "\n",
      "Graph Edges with Attributes:\n",
      "(0, 1) -> cost: 6, reliability: 0.76\n",
      "(0, 2) -> cost: 4, reliability: 0.29\n",
      "(0, 3) -> cost: 6, reliability: 0.59\n",
      "(0, 4) -> cost: 9, reliability: 0.69\n",
      "(1, 2) -> cost: 8, reliability: 0.17\n",
      "(1, 3) -> cost: 12, reliability: 0.11\n",
      "(1, 4) -> cost: 15, reliability: 0.66\n",
      "(2, 3) -> cost: 18, reliability: 0.62\n",
      "(2, 4) -> cost: 7, reliability: 0.15\n",
      "(3, 4) -> cost: 5, reliability: 0.78\n"
     ]
    }
   ],
   "source": [
    "# testing the function\n",
    "base_graph = generate_random_graph(num_nodes=5, min_cost=1, max_cost=20)\n",
    "\n",
    "# print matrix with value tuples\n",
    "print(\"Graph Nodes:\")\n",
    "print(base_graph.nodes)\n",
    "\n",
    "\n",
    "print(\"\\nGraph Edges with Attributes:\")\n",
    "for u, v, attr in base_graph.edges(data=True):\n",
    "    print(f\"({u}, {v}) -> cost: {attr['values']['cost']}, reliability: {attr['values']['reliability']:.2f}\")"
   ]
  }
 ],
 "metadata": {
  "kernelspec": {
   "display_name": ".venv",
   "language": "python",
   "name": "python3"
  },
  "language_info": {
   "codemirror_mode": {
    "name": "ipython",
    "version": 3
   },
   "file_extension": ".py",
   "mimetype": "text/x-python",
   "name": "python",
   "nbconvert_exporter": "python",
   "pygments_lexer": "ipython3",
   "version": "3.12.0"
  }
 },
 "nbformat": 4,
 "nbformat_minor": 2
}
