{
 "cells": [
  {
   "cell_type": "markdown",
   "metadata": {},
   "source": [
    "## Evaluation function to calculate the value of each posible solution distribution\n",
    "\n",
    "For all algorithms, we need to calculate the cost total cost of active edges, and reliability of each node to be greater than 1.\n",
    "\n",
    "The solution is a dictionary with total_cost and dict of reliabilities with the following structure:\n",
    "\n",
    "```python\n",
    "{\n",
    "    'total_cost': number of the total cost of the edges selected,\n",
    "    'relabilities': {\n",
    "        '0': sum of reliability of the edges connected to node 0,\n",
    "        '1': sum of reliability of the edges connected to node 1,\n",
    "        ...\n",
    "    }\n",
    "}\n",
    "```"
   ]
  },
  {
   "cell_type": "code",
   "execution_count": null,
   "metadata": {},
   "outputs": [],
   "source": [
    "def is_reliable(solution: dict) -> bool:\n",
    "    \"\"\"\n",
    "    Evaluate if actual solution is reliable for each node.\n",
    "    Parameters:\n",
    "    ----------\n",
    "    solution: dict\n",
    "        Dictionary with the solution of the problem, where the key is the node and the value is the selected edge.\n",
    "\n",
    "    Returns:\n",
    "    -------\n",
    "    bool\n",
    "        True if the solution is reliable, False otherwise.\n",
    "\n",
    "    \"\"\"\n",
    "    is_reliable = True\n",
    "    # Check if each node on solution have a realiable value greater than 1\n",
    "    for rel in solution['relabilities'].values():\n",
    "        if rel < 1:\n",
    "            is_reliable = False\n",
    "            break\n",
    "\n",
    "    return is_reliable"
   ]
  },
  {
   "cell_type": "code",
   "execution_count": null,
   "metadata": {},
   "outputs": [],
   "source": [
    "# testing the function\n",
    "true_solution = {\n",
    "    'total_cost': 10,\n",
    "    'relabilities': {\n",
    "        0: 1.0,\n",
    "        1: 1.9,\n",
    "        2: 1.3,\n",
    "        3: 1.0,\n",
    "        4: 1.2\n",
    "    }\n",
    "}\n",
    "\n",
    "false_solution = {\n",
    "    'total_cost': 10,\n",
    "    'relabilities': {\n",
    "        0: 1.0,\n",
    "        1: 0.9,\n",
    "        2: 1.0,\n",
    "        3: 1.0,\n",
    "        4: 0.8\n",
    "    }\n",
    "}\n",
    "\n",
    "print(is_reliable(true_solution))\n",
    "print(is_reliable(false_solution))"
   ]
  }
 ],
 "metadata": {
  "kernelspec": {
   "display_name": ".venv",
   "language": "python",
   "name": "python3"
  },
  "language_info": {
   "name": "python",
   "version": "3.12.0"
  }
 },
 "nbformat": 4,
 "nbformat_minor": 2
}
