{
 "cells": [
  {
   "cell_type": "markdown",
   "metadata": {},
   "source": [
    "## Evaluation function to calculate the value of each posible solution distribution\n",
    "\n",
    "For all algorithms, we need to calculate the cost total cost of active edges, and reliability of each node to be greater than 1.\n",
    "\n",
    "The solution is a dictionary with total_cost and dict of reliabilities with the following structure:\n",
    "\n",
    "```python\n",
    "{\n",
    "    'total_cost': number of the total cost of the edges selected,\n",
    "    'relabilities': {\n",
    "        0: (1.1, 2)\n",
    "        1: (0.4, 1)\n",
    "        ...\n",
    "    }\n",
    "}\n",
    "```\n",
    "\n",
    "In relibilities dict, the key is the node id, and the value is a tuple with the reliability and the number of edges that are connected to the node."
   ]
  },
  {
   "cell_type": "code",
   "execution_count": 2,
   "metadata": {},
   "outputs": [],
   "source": [
    "def is_reliable(solution: dict) -> bool:\n",
    "    \"\"\"\n",
    "    Evaluate if actual solution is reliable for each node.\n",
    "    Parameters:\n",
    "    ----------\n",
    "    solution: dict\n",
    "        Dictionary with the solution of the problem, where the key is the node and the value is the selected edge.\n",
    "\n",
    "    Returns:\n",
    "    -------\n",
    "    bool\n",
    "        True if the solution is reliable, False otherwise.\n",
    "\n",
    "    \"\"\"\n",
    "    # Check if each node on solution have a realiable value greater than 1\n",
    "    for rel in solution['relabilities'].values():\n",
    "        if rel < 1:\n",
    "            return False\n",
    "\n",
    "    return True"
   ]
  },
  {
   "cell_type": "code",
   "execution_count": 3,
   "metadata": {},
   "outputs": [
    {
     "name": "stdout",
     "output_type": "stream",
     "text": [
      "True\n",
      "False\n"
     ]
    }
   ],
   "source": [
    "# testing the function\n",
    "true_solution = {\n",
    "    'total_cost': 10,\n",
    "    'relabilities': {\n",
    "        0: 1.0,\n",
    "        1: 1.9,\n",
    "        2: 1.3,\n",
    "        3: 1.0,\n",
    "        4: 1.2\n",
    "    }\n",
    "}\n",
    "\n",
    "false_solution = {\n",
    "    'total_cost': 10,\n",
    "    'relabilities': {\n",
    "        0: 1.0,\n",
    "        1: 0.9,\n",
    "        2: 1.0,\n",
    "        3: 1.0,\n",
    "        4: 0.8\n",
    "    }\n",
    "}\n",
    "\n",
    "print(is_reliable(true_solution))\n",
    "print(is_reliable(false_solution))"
   ]
  },
  {
   "cell_type": "markdown",
   "metadata": {},
   "source": [
    "## graph generator"
   ]
  },
  {
   "cell_type": "code",
   "execution_count": 4,
   "metadata": {},
   "outputs": [],
   "source": [
    "import networkx as nx\n",
    "import numpy as np\n",
    "\n",
    "# Specific problem graph generator\n",
    "def generate_random_graph(num_nodes: int, min_cost: int, max_cost: int):\n",
    "    \"\"\"\n",
    "    Undirected graph generator, where the graph is fully connected\n",
    "    and the weight of the edges are random cost and a reliability value.\n",
    "    Parameters:\n",
    "    ----------\n",
    "    num_nodes: int\n",
    "        Number of nodes in the graph\n",
    "    min_cost: int\n",
    "        Minimum value of the cost of the edges\n",
    "    max_cost: int\n",
    "        Maximum value of the cost of the edges\n",
    "    \"\"\"\n",
    "    # num_edges to have a full connected graph\n",
    "    num_edges = num_nodes * (num_nodes - 1) // 2\n",
    "    # generate a random graph with num_nodes nodes and num_edges edges\n",
    "    graph = nx.gnm_random_graph(num_nodes, num_edges)\n",
    "    for u, v in graph.edges:\n",
    "        # cost and reliability of each edge connection beetween nodes\n",
    "        graph[u][v]['values'] = {\n",
    "            \"cost\": np.random.randint(min_cost, max_cost),\n",
    "            \"reliability\": np.random.uniform(0.3, 1),\n",
    "        }\n",
    "    return graph"
   ]
  },
  {
   "cell_type": "code",
   "execution_count": 5,
   "metadata": {},
   "outputs": [
    {
     "name": "stdout",
     "output_type": "stream",
     "text": [
      "Graph Nodes:\n",
      "[0, 1, 2, 3, 4]\n",
      "\n",
      "Graph Edges with Attributes:\n",
      "(0, 1) -> cost: 9, reliability: 0.33\n",
      "(0, 2) -> cost: 9, reliability: 0.48\n",
      "(0, 3) -> cost: 17, reliability: 0.46\n",
      "(0, 4) -> cost: 7, reliability: 0.47\n",
      "(1, 2) -> cost: 6, reliability: 0.48\n",
      "(1, 3) -> cost: 3, reliability: 0.82\n",
      "(1, 4) -> cost: 14, reliability: 0.96\n",
      "(2, 3) -> cost: 15, reliability: 0.54\n",
      "(2, 4) -> cost: 16, reliability: 0.76\n",
      "(3, 4) -> cost: 13, reliability: 0.56\n",
      "\n",
      "Graph Nodes in order:\n",
      "0\n",
      "1\n",
      "2\n",
      "3\n",
      "4\n"
     ]
    }
   ],
   "source": [
    "# testing the function\n",
    "base_graph = generate_random_graph(num_nodes=5, min_cost=1, max_cost=20)\n",
    "\n",
    "# print matrix with value tuples\n",
    "print(\"Graph Nodes:\")\n",
    "print(base_graph.nodes)\n",
    "\n",
    "\n",
    "print(\"\\nGraph Edges with Attributes:\")\n",
    "for u, v, attr in base_graph.edges(data=True):\n",
    "    # u and v are integers representing the nodes\n",
    "    print(f\"({u}, {v}) -> cost: {attr['values']['cost']}, reliability: {attr['values']['reliability']:.2f}\")\n",
    "\n",
    "# print the nodes in order.\n",
    "print(\"\\nGraph Nodes in order:\")\n",
    "for node in base_graph.nodes:\n",
    "    print(node)"
   ]
  },
  {
   "cell_type": "markdown",
   "metadata": {},
   "source": [
    "## Problem description\n",
    "\n",
    "Una organizacion necesita disenar una red de comunicacion robusta contra fallos como respaldo para recuperacion de desastres. La construccion de esta red se modela de la siguiente forma:\n",
    "\n",
    "Cada potencial enlace entre los nodos iniciales tiene:\n",
    "\n",
    "* Un costo mayor a cero\n",
    "* Una calificacion de fiabilidad del cero al uno\n",
    " \n",
    "A partir de estas caracteristicas, para cualquier numero de nodos iniciales con potenciales enlaces, se debe construir una red donde:\n",
    "\n",
    "* Debe existir algun camino entre cualesquiera dos nodos de la red\n",
    "* Se minimice el costo total de todos los enlaces en la red\n",
    "* La suma de la fiabilidad de todos los enlaces a cada nodo sea mayor o igual a uno"
   ]
  },
  {
   "cell_type": "markdown",
   "metadata": {},
   "source": [
    "## Algorithms"
   ]
  },
  {
   "cell_type": "markdown",
   "metadata": {},
   "source": [
    "\n",
    "### Brute force \n",
    "\n"
   ]
  },
  {
   "cell_type": "code",
   "execution_count": 6,
   "metadata": {},
   "outputs": [
    {
     "name": "stdout",
     "output_type": "stream",
     "text": [
      "r = 1\n",
      "r = 2\n",
      "r = 3\n"
     ]
    }
   ],
   "source": [
    "edges = [(0, 1), (1, 2), (2, 3)]\n",
    "for r in range(1, len(edges) + 1):\n",
    "    print(f\"r = {r}\")\n"
   ]
  },
  {
   "cell_type": "code",
   "execution_count": 7,
   "metadata": {},
   "outputs": [
    {
     "name": "stdout",
     "output_type": "stream",
     "text": [
      "((0, 1), (1, 2))\n",
      "((0, 1), (2, 3))\n",
      "((1, 2), (2, 3))\n"
     ]
    }
   ],
   "source": [
    "from itertools import combinations\n",
    "edges = [(0, 1), (1, 2), (2, 3)]\n",
    "for subset in combinations(edges, 2):  # r = 2\n",
    "    print(subset)\n"
   ]
  },
  {
   "cell_type": "markdown",
   "metadata": {},
   "source": [
    "#### Testing for iterate over all possible edges combinations"
   ]
  },
  {
   "cell_type": "code",
   "execution_count": 8,
   "metadata": {},
   "outputs": [],
   "source": [
    "\n",
    "from itertools import combinations\n",
    "import networkx as nx\n",
    "\n",
    "nodes = [0, 1, 2, 3]\n",
    "# build a fully connected graph\n",
    "edges = [\n",
    "    (0, 1, {\"cost\": 5, \"reliability\": 0.9}),\n",
    "    (0, 2, {\"cost\": 4, \"reliability\": 0.95}),\n",
    "    (0, 3, {\"cost\": 3, \"reliability\": 0.8}),\n",
    "    (1, 2, {\"cost\": 7, \"reliability\": 0.8}),\n",
    "    (1, 3, {\"cost\": 2, \"reliability\": 0.9}),\n",
    "    (2, 3, {\"cost\": 6, \"reliability\": 0.85}),\n",
    "]"
   ]
  },
  {
   "cell_type": "code",
   "execution_count": 9,
   "metadata": {},
   "outputs": [
    {
     "name": "stdout",
     "output_type": "stream",
     "text": [
      "Subgrafo con 1 aristas: [(0, 1)]\n",
      "Subgrafo con 1 aristas: [(0, 2)]\n",
      "Subgrafo con 1 aristas: [(0, 3)]\n",
      "Subgrafo con 1 aristas: [(1, 2)]\n",
      "Subgrafo con 1 aristas: [(1, 3)]\n",
      "Subgrafo con 1 aristas: [(2, 3)]\n",
      "Subgrafo con 2 aristas: [(0, 1), (0, 2)]\n",
      "Subgrafo con 2 aristas: [(0, 1), (0, 3)]\n",
      "Subgrafo con 2 aristas: [(0, 1), (1, 2)]\n",
      "Subgrafo con 2 aristas: [(0, 1), (1, 3)]\n",
      "Subgrafo con 2 aristas: [(0, 1), (2, 3)]\n",
      "Subgrafo con 2 aristas: [(0, 2), (0, 3)]\n",
      "Subgrafo con 2 aristas: [(0, 2), (1, 2)]\n",
      "Subgrafo con 2 aristas: [(0, 2), (1, 3)]\n",
      "Subgrafo con 2 aristas: [(0, 2), (2, 3)]\n",
      "Subgrafo con 2 aristas: [(0, 3), (1, 2)]\n",
      "Subgrafo con 2 aristas: [(0, 3), (1, 3)]\n",
      "Subgrafo con 2 aristas: [(0, 3), (2, 3)]\n",
      "Subgrafo con 2 aristas: [(1, 2), (1, 3)]\n",
      "Subgrafo con 2 aristas: [(1, 2), (2, 3)]\n",
      "Subgrafo con 2 aristas: [(1, 3), (2, 3)]\n",
      "Subgrafo con 3 aristas: [(0, 1), (0, 2), (0, 3)]\n",
      "Subgrafo con 3 aristas: [(0, 1), (0, 2), (1, 2)]\n",
      "Subgrafo con 3 aristas: [(0, 1), (0, 2), (1, 3)]\n",
      "Subgrafo con 3 aristas: [(0, 1), (0, 2), (2, 3)]\n",
      "Subgrafo con 3 aristas: [(0, 1), (0, 3), (1, 2)]\n",
      "Subgrafo con 3 aristas: [(0, 1), (0, 3), (1, 3)]\n",
      "Subgrafo con 3 aristas: [(0, 1), (0, 3), (2, 3)]\n",
      "Subgrafo con 3 aristas: [(0, 1), (1, 2), (1, 3)]\n",
      "Subgrafo con 3 aristas: [(0, 1), (1, 2), (2, 3)]\n",
      "Subgrafo con 3 aristas: [(0, 1), (1, 3), (2, 3)]\n",
      "Subgrafo con 3 aristas: [(0, 2), (0, 3), (1, 2)]\n",
      "Subgrafo con 3 aristas: [(0, 2), (0, 3), (1, 3)]\n",
      "Subgrafo con 3 aristas: [(0, 2), (0, 3), (2, 3)]\n",
      "Subgrafo con 3 aristas: [(0, 2), (1, 2), (1, 3)]\n",
      "Subgrafo con 3 aristas: [(0, 2), (1, 2), (2, 3)]\n",
      "Subgrafo con 3 aristas: [(0, 2), (1, 3), (2, 3)]\n",
      "Subgrafo con 3 aristas: [(0, 3), (1, 2), (1, 3)]\n",
      "Subgrafo con 3 aristas: [(0, 3), (1, 2), (2, 3)]\n",
      "Subgrafo con 3 aristas: [(0, 3), (1, 3), (2, 3)]\n",
      "Subgrafo con 3 aristas: [(1, 2), (1, 3), (2, 3)]\n",
      "Subgrafo con 4 aristas: [(0, 1), (0, 2), (0, 3), (1, 2)]\n",
      "Subgrafo con 4 aristas: [(0, 1), (0, 2), (0, 3), (1, 3)]\n",
      "Subgrafo con 4 aristas: [(0, 1), (0, 2), (0, 3), (2, 3)]\n",
      "Subgrafo con 4 aristas: [(0, 1), (0, 2), (1, 2), (1, 3)]\n",
      "Subgrafo con 4 aristas: [(0, 1), (0, 2), (1, 2), (2, 3)]\n",
      "Subgrafo con 4 aristas: [(0, 1), (0, 2), (1, 3), (2, 3)]\n",
      "Subgrafo con 4 aristas: [(0, 1), (0, 3), (1, 2), (1, 3)]\n",
      "Subgrafo con 4 aristas: [(0, 1), (0, 3), (1, 2), (2, 3)]\n",
      "Subgrafo con 4 aristas: [(0, 1), (0, 3), (1, 3), (2, 3)]\n",
      "Subgrafo con 4 aristas: [(0, 1), (1, 2), (1, 3), (2, 3)]\n",
      "Subgrafo con 4 aristas: [(0, 2), (0, 3), (1, 2), (1, 3)]\n",
      "Subgrafo con 4 aristas: [(0, 2), (0, 3), (1, 2), (2, 3)]\n",
      "Subgrafo con 4 aristas: [(0, 2), (0, 3), (1, 3), (2, 3)]\n",
      "Subgrafo con 4 aristas: [(0, 2), (1, 2), (1, 3), (2, 3)]\n",
      "Subgrafo con 4 aristas: [(0, 3), (1, 2), (1, 3), (2, 3)]\n",
      "Subgrafo con 5 aristas: [(0, 1), (0, 2), (0, 3), (1, 2), (1, 3)]\n",
      "Subgrafo con 5 aristas: [(0, 1), (0, 2), (0, 3), (1, 2), (2, 3)]\n",
      "Subgrafo con 5 aristas: [(0, 1), (0, 2), (0, 3), (1, 3), (2, 3)]\n",
      "Subgrafo con 5 aristas: [(0, 1), (0, 2), (1, 2), (1, 3), (2, 3)]\n",
      "Subgrafo con 5 aristas: [(0, 1), (0, 3), (1, 2), (1, 3), (2, 3)]\n",
      "Subgrafo con 5 aristas: [(0, 2), (0, 3), (1, 2), (1, 3), (2, 3)]\n",
      "Subgrafo con 6 aristas: [(0, 1), (0, 2), (0, 3), (1, 2), (1, 3), (2, 3)]\n"
     ]
    }
   ],
   "source": [
    "\n",
    "for r in range(1, len(edges) + 1):  # De 1 a todas las aristas\n",
    "    for subset in combinations(edges, r):\n",
    "        subgraph = nx.Graph()\n",
    "        subgraph.add_nodes_from(nodes)\n",
    "        subgraph.add_edges_from([(u, v, data) for u, v, data in subset])\n",
    "        print(f\"Subgrafo con {r} aristas:\", subgraph.edges())\n"
   ]
  },
  {
   "cell_type": "markdown",
   "metadata": {},
   "source": [
    "#### Testing for iterate over all possible edges combinations with each node having at least two edges"
   ]
  },
  {
   "cell_type": "code",
   "execution_count": 10,
   "metadata": {},
   "outputs": [],
   "source": [
    "# bool function to check if every node has two edges\n",
    "def are_all_nodes_at_least_two_edges(graph: nx.Graph) -> bool:\n",
    "    \"\"\"\n",
    "    Check if every node has two edges\n",
    "    \"\"\"\n",
    "    # Check if every node has two edges\n",
    "    for node in graph.nodes:\n",
    "        if graph.degree(node) < 2:\n",
    "            return False\n",
    "    return True"
   ]
  },
  {
   "cell_type": "code",
   "execution_count": 11,
   "metadata": {},
   "outputs": [
    {
     "name": "stdout",
     "output_type": "stream",
     "text": [
      "Subgrafo con 4 aristas: [(0, 1), (0, 2), (1, 3), (2, 3)]\n",
      "Subgrafo con 4 aristas: [(0, 1), (0, 3), (1, 2), (2, 3)]\n",
      "Subgrafo con 4 aristas: [(0, 2), (0, 3), (1, 2), (1, 3)]\n",
      "Subgrafo con 5 aristas: [(0, 1), (0, 2), (0, 3), (1, 2), (1, 3)]\n",
      "Subgrafo con 5 aristas: [(0, 1), (0, 2), (0, 3), (1, 2), (2, 3)]\n",
      "Subgrafo con 5 aristas: [(0, 1), (0, 2), (0, 3), (1, 3), (2, 3)]\n",
      "Subgrafo con 5 aristas: [(0, 1), (0, 2), (1, 2), (1, 3), (2, 3)]\n",
      "Subgrafo con 5 aristas: [(0, 1), (0, 3), (1, 2), (1, 3), (2, 3)]\n",
      "Subgrafo con 5 aristas: [(0, 2), (0, 3), (1, 2), (1, 3), (2, 3)]\n",
      "Subgrafo con 6 aristas: [(0, 1), (0, 2), (0, 3), (1, 2), (1, 3), (2, 3)]\n"
     ]
    }
   ],
   "source": [
    "\n",
    "for r in range(1, len(edges) + 1):  # De 1 a todas las aristas\n",
    "    for subset in combinations(edges, r):\n",
    "        subgraph = nx.Graph()\n",
    "        subgraph.add_nodes_from(nodes)\n",
    "        subgraph.add_edges_from([(u, v, data) for u, v, data in subset])\n",
    "        if are_all_nodes_at_least_two_edges(subgraph):\n",
    "            print(f\"Subgrafo con {r} aristas:\", subgraph.edges())\n"
   ]
  },
  {
   "cell_type": "markdown",
   "metadata": {},
   "source": [
    "### Brute force algorithm"
   ]
  },
  {
   "cell_type": "code",
   "execution_count": 12,
   "metadata": {},
   "outputs": [],
   "source": [
    "import networkx as nx\n",
    "import numpy as np\n",
    "from itertools import combinations\n",
    "\n",
    "def brute_force_reliable_network(graph: nx.Graph) -> dict:\n",
    "    \"\"\"\n",
    "    Solve the reliable network problem using brute force.\n",
    "\n",
    "    Parameters:\n",
    "    ----------\n",
    "    graph: nx.Graph\n",
    "        Graph with nodes and edges containing 'cost' and 'reliability'.\n",
    "\n",
    "    Returns:\n",
    "    -------\n",
    "    dict\n",
    "        The best solution with minimum cost and sufficient reliability for all nodes.\n",
    "    \"\"\"\n",
    "    nodes = graph.nodes\n",
    "    edges = list(graph.edges(data=True))  # Extract edges with attributes\n",
    "    best_solution = {\n",
    "        'total_cost': float('inf'),\n",
    "        'relabilities': {node: 0 for node in nodes}\n",
    "    }\n",
    "\n",
    "    # Iterate over all possible subsets of edges. Begin with 1 edge.\n",
    "    for num_edges in range(1, len(edges) + 1):\n",
    "        # subset is a combination of edges with num_edges edges\n",
    "        for subset in combinations(edges, num_edges):\n",
    "            # Build a subgraph from the current subset\n",
    "            subgraph = nx.Graph()\n",
    "            # Populate the subgraph with the current subset of nodes\n",
    "            subgraph.add_nodes_from(nodes)\n",
    "            # Populate the subgraph with the current subset of edges\n",
    "            subgraph.add_edges_from(\n",
    "                [(u, v, data) for u, v, data in subset]\n",
    "            )\n",
    "\n",
    "            # Check connectivity of the subgraph\n",
    "            if are_all_nodes_at_least_two_edges(subgraph):\n",
    "                # Calculate cost and reliability\n",
    "                total_cost = 0\n",
    "                relabilities = {node: 0 for node in nodes}\n",
    "\n",
    "                for u, v, data in subset:\n",
    "                    edge_values = data['values']\n",
    "                    total_cost += edge_values['cost']\n",
    "                    relabilities[u] += edge_values['reliability']\n",
    "                    relabilities[v] += edge_values['reliability']\n",
    "\n",
    "                # Build solution\n",
    "                current_solution = {\n",
    "                    'total_cost': total_cost,\n",
    "                    'relabilities': relabilities\n",
    "                }\n",
    "\n",
    "                # Check reliability\n",
    "                if is_reliable(current_solution) and total_cost < best_solution['total_cost']:\n",
    "                    best_solution = current_solution\n",
    "\n",
    "    return best_solution\n"
   ]
  },
  {
   "cell_type": "markdown",
   "metadata": {},
   "source": [
    "#### Testing for the brute force algorithm"
   ]
  },
  {
   "cell_type": "markdown",
   "metadata": {},
   "source": [
    "**Unit testing**"
   ]
  },
  {
   "cell_type": "code",
   "execution_count": 13,
   "metadata": {},
   "outputs": [
    {
     "data": {
      "text/plain": [
       "True"
      ]
     },
     "execution_count": 13,
     "metadata": {},
     "output_type": "execute_result"
    }
   ],
   "source": [
    "# testing the function\n",
    "\n",
    "# arrange\n",
    "valid_solution = {\n",
    "    'total_cost': 29,\n",
    "    'relabilities': {\n",
    "        0: 1.0,\n",
    "        1: 1.0,\n",
    "        2: 1.2,\n",
    "        3: 1.0,\n",
    "        4: 1.2\n",
    "    }\n",
    "}\n",
    "graph = nx.Graph()\n",
    "graph.add_nodes_from([0, 1, 2, 3, 4])\n",
    "graph.add_edges_from([\n",
    "    (0, 1, {\"values\": {\"cost\": 2, \"reliability\": 0.3}}),\n",
    "    (0, 2, {\"values\": {\"cost\": 9, \"reliability\": 0.4}}),\n",
    "    (0, 3, {\"values\": {\"cost\": 5, \"reliability\": 0.2}}),\n",
    "    (0, 4, {\"values\": {\"cost\": 3, \"reliability\": 0.7}}),\n",
    "    (1, 2, {\"values\": {\"cost\": 6, \"reliability\": 0.7}}),\n",
    "    (1, 3, {\"values\": {\"cost\": 9, \"reliability\": 0.7}}),\n",
    "    (1, 4, {\"values\": {\"cost\": 7, \"reliability\": 0.9}}),\n",
    "    (2, 3, {\"values\": {\"cost\": 8, \"reliability\": 0.5}}),\n",
    "    (2, 4, {\"values\": {\"cost\": 6, \"reliability\": 0.2}}),\n",
    "    (3, 4, {\"values\": {\"cost\": 10, \"reliability\": 0.5}})\n",
    "])\n",
    "\n",
    "# act\n",
    "solution = brute_force_reliable_network(graph)\n",
    "\n",
    "# assert\n",
    "valid_solution == solution"
   ]
  },
  {
   "cell_type": "markdown",
   "metadata": {},
   "source": [
    "**Sample Solution with random graph generator**"
   ]
  },
  {
   "cell_type": "code",
   "execution_count": 14,
   "metadata": {},
   "outputs": [
    {
     "name": "stdout",
     "output_type": "stream",
     "text": [
      "Mejor solución encontrada:\n",
      "Costo total: 45\n",
      "Fiabilidad por nodo: {0: 1.5142998723589507, 1: 1.537987730617293, 2: 1.122014291298257, 3: 1.3804650502550428, 4: 1.606033428200495}\n"
     ]
    }
   ],
   "source": [
    "# Generar grafo completamente conexo\n",
    "num_nodes = 5\n",
    "min_cost, max_cost = 1, 20\n",
    "\n",
    "graph = generate_random_graph(num_nodes, min_cost, max_cost)\n",
    "\n",
    "# Resolver el problema con fuerza bruta\n",
    "solution = brute_force_reliable_network(graph)\n",
    "\n",
    "print(\"Mejor solución encontrada:\")\n",
    "print(\"Costo total:\", solution['total_cost'])\n",
    "print(\"Fiabilidad por nodo:\", solution['relabilities'])\n"
   ]
  }
 ],
 "metadata": {
  "kernelspec": {
   "display_name": ".venv",
   "language": "python",
   "name": "python3"
  },
  "language_info": {
   "codemirror_mode": {
    "name": "ipython",
    "version": 3
   },
   "file_extension": ".py",
   "mimetype": "text/x-python",
   "name": "python",
   "nbconvert_exporter": "python",
   "pygments_lexer": "ipython3",
   "version": "3.12.0"
  }
 },
 "nbformat": 4,
 "nbformat_minor": 2
}
