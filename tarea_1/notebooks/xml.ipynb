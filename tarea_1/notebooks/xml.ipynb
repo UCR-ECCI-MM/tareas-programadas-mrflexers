{
 "cells": [
  {
   "metadata": {},
   "cell_type": "code",
   "outputs": [],
   "execution_count": null,
   "source": [
    "import xmltodict as xd\n",
    "import pandas as pd\n",
    "\n",
    "RENAMINGS = {\n",
    "        'title': 'Title',\n",
    "        'date-created': 'Date Created',\n",
    "        'language': 'Language',\n",
    "        'meta-desc': 'Description',\n",
    "        'url': 'URL'\n",
    "}\n",
    "\n",
    "with open(\"data/mplus_topics_2024-08-10(2).xml\", 'r') as file:\n",
    "    health_topic_dict = xd.parse(file.read(), attr_prefix='')\n",
    "\n",
    "health_topic_df = pd.json_normalize(health_topic_dict['health-topics']['health-topic'])\n",
    "\n",
    "health_topic_df['id'] = health_topic_df['id'].astype(int)\n",
    "\n",
    "indexed_health_topic_df = health_topic_df.set_index('id').sort_index()\n",
    "\n",
    "renamed_health_topic_df = indexed_health_topic_df.rename(columns=RENAMINGS)\n",
    "\n",
    "renamed_health_topic_df[['Title', 'Date Created', 'Language', 'Description', 'URL']]"
   ],
   "id": "3acf391e3b82071e"
  }
 ],
 "metadata": {
  "kernelspec": {
   "display_name": "Python 3",
   "language": "python",
   "name": "python3"
  },
  "language_info": {
   "codemirror_mode": {
    "name": "ipython",
    "version": 2
   },
   "file_extension": ".py",
   "mimetype": "text/x-python",
   "name": "python",
   "nbconvert_exporter": "python",
   "pygments_lexer": "ipython2",
   "version": "2.7.6"
  }
 },
 "nbformat": 4,
 "nbformat_minor": 5
}
