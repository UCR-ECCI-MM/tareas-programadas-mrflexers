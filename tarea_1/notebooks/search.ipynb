{
 "cells": [
  {
   "metadata": {},
   "cell_type": "markdown",
   "source": "# Search",
   "id": "fc1f01e42bc891bb"
  },
  {
   "cell_type": "code",
   "id": "initial_id",
   "metadata": {
    "collapsed": true,
    "ExecuteTime": {
     "end_time": "2024-10-01T04:29:54.708519Z",
     "start_time": "2024-10-01T04:29:54.705327Z"
    }
   },
   "source": [
    "import json\n",
    "\n",
    "dummy_data_file_path = '../data/dummy_data.json'\n",
    "\n",
    "with open(dummy_data_file_path) as dummy_data_file:\n",
    "    dummy_data = json.load(dummy_data_file)"
   ],
   "outputs": [],
   "execution_count": 38
  },
  {
   "metadata": {
    "ExecuteTime": {
     "end_time": "2024-10-01T04:29:54.717218Z",
     "start_time": "2024-10-01T04:29:54.715378Z"
    }
   },
   "cell_type": "code",
   "source": [
    "health_topics = dummy_data['health-topic']\n",
    "id_and_summary = [(ht['id'], ht['full-summary']) for ht in health_topics]"
   ],
   "id": "3c3e4cd2a971dae5",
   "outputs": [],
   "execution_count": 39
  },
  {
   "metadata": {
    "ExecuteTime": {
     "end_time": "2024-10-01T04:29:55.943638Z",
     "start_time": "2024-10-01T04:29:54.730910Z"
    }
   },
   "cell_type": "code",
   "source": [
    "from sentence_transformers import SentenceTransformer, util\n",
    "\n",
    "MODEL_NAME = \"all-MiniLM-L6-v2\"\n",
    "model = SentenceTransformer(MODEL_NAME, cache_folder=\".cache_models\")\n",
    "summary_embeddings = model.encode([summary for _, summary in id_and_summary])"
   ],
   "id": "45589b5c508a0e47",
   "outputs": [],
   "execution_count": 40
  },
  {
   "metadata": {
    "ExecuteTime": {
     "end_time": "2024-10-01T04:29:55.957559Z",
     "start_time": "2024-10-01T04:29:55.948942Z"
    }
   },
   "cell_type": "code",
   "source": [
    "query = \"cancer\"\n",
    "query_embedding = model.encode(query)"
   ],
   "id": "f0ffa88fe488cde1",
   "outputs": [],
   "execution_count": 41
  },
  {
   "metadata": {
    "ExecuteTime": {
     "end_time": "2024-10-01T04:29:55.964186Z",
     "start_time": "2024-10-01T04:29:55.962275Z"
    }
   },
   "cell_type": "code",
   "source": "cosine_scores = util.pytorch_cos_sim(query_embedding, summary_embeddings)[0].tolist()",
   "id": "c564916ac04cf0f3",
   "outputs": [],
   "execution_count": 42
  },
  {
   "metadata": {
    "ExecuteTime": {
     "end_time": "2024-10-01T04:29:55.970600Z",
     "start_time": "2024-10-01T04:29:55.969066Z"
    }
   },
   "cell_type": "code",
   "source": "valid_indices = [i for i in range(len(cosine_scores)) if cosine_scores[i] > 0.2]",
   "id": "a35064cafd7af1cf",
   "outputs": [],
   "execution_count": 43
  },
  {
   "metadata": {
    "ExecuteTime": {
     "end_time": "2024-10-01T04:29:55.977138Z",
     "start_time": "2024-10-01T04:29:55.975500Z"
    }
   },
   "cell_type": "code",
   "source": "valid_ids = [ias[0] for i, ias in enumerate(id_and_summary) if i in valid_indices]",
   "id": "523a1775496c9ec0",
   "outputs": [],
   "execution_count": 44
  },
  {
   "metadata": {
    "ExecuteTime": {
     "end_time": "2024-10-01T04:29:55.983254Z",
     "start_time": "2024-10-01T04:29:55.981785Z"
    }
   },
   "cell_type": "code",
   "source": "valid_hts = [ht for ht in health_topics if ht['id'] in valid_ids]",
   "id": "8fea492ed5f956be",
   "outputs": [],
   "execution_count": 45
  },
  {
   "metadata": {
    "ExecuteTime": {
     "end_time": "2024-10-01T04:29:55.989878Z",
     "start_time": "2024-10-01T04:29:55.988027Z"
    }
   },
   "cell_type": "code",
   "source": [
    "for ht in valid_hts:\n",
    "    print(ht['title'])\n",
    "    print()"
   ],
   "id": "29c420625320b0c2",
   "outputs": [
    {
     "name": "stdout",
     "output_type": "stream",
     "text": [
      "Cáncer del ano\n",
      "\n"
     ]
    }
   ],
   "execution_count": 46
  }
 ],
 "metadata": {
  "kernelspec": {
   "display_name": "Python 3",
   "language": "python",
   "name": "python3"
  },
  "language_info": {
   "codemirror_mode": {
    "name": "ipython",
    "version": 2
   },
   "file_extension": ".py",
   "mimetype": "text/x-python",
   "name": "python",
   "nbconvert_exporter": "python",
   "pygments_lexer": "ipython2",
   "version": "2.7.6"
  }
 },
 "nbformat": 4,
 "nbformat_minor": 5
}
