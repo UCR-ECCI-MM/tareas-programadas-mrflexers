{
 "cells": [
  {
   "metadata": {},
   "cell_type": "markdown",
   "source": "# Search",
   "id": "fc1f01e42bc891bb"
  },
  {
   "metadata": {},
   "cell_type": "markdown",
   "source": "Note: Add language filter",
   "id": "79234f1497ef1c4d"
  },
  {
   "metadata": {},
   "cell_type": "markdown",
   "source": "## Setup",
   "id": "18786dad25968140"
  },
  {
   "metadata": {
    "ExecuteTime": {
     "end_time": "2024-10-02T00:07:37.214108Z",
     "start_time": "2024-10-02T00:07:37.212388Z"
    }
   },
   "cell_type": "code",
   "source": "from health_topic_index.analysis.parsing import XmlParser",
   "id": "be7d51f686349e30",
   "outputs": [],
   "execution_count": 98
  },
  {
   "metadata": {
    "ExecuteTime": {
     "end_time": "2024-10-02T00:07:40.763426Z",
     "start_time": "2024-10-02T00:07:37.220552Z"
    }
   },
   "cell_type": "code",
   "source": [
    "xml_file_path = '../data/mplus_topics_full.xml'\n",
    "\n",
    "with open(xml_file_path, mode='rb') as file:\n",
    "    document_dict = XmlParser.parse_file(file)\n",
    "\n",
    "health_topics_dict = document_dict['health-topics']\n",
    "health_topics = health_topics_dict['health-topic']\n",
    "id_and_summary = [(ht['id'], ht['full-summary']) for ht in health_topics]\n",
    "documents = [summary for _, summary in id_and_summary]\n",
    "id_to_title = {ht['id']: ht['title'] for ht in health_topics}"
   ],
   "id": "d06987f8d51705eb",
   "outputs": [
    {
     "name": "stderr",
     "output_type": "stream",
     "text": [
      "Generating LALR tables\n",
      "WARNING: 1 reduce/reduce conflict\n",
      "WARNING: reduce/reduce conflict in state 111 resolved using rule (QualifierListOpt -> empty)\n",
      "WARNING: rejected rule (QualifierList -> empty) in state 111\n"
     ]
    }
   ],
   "execution_count": 99
  },
  {
   "metadata": {
    "ExecuteTime": {
     "end_time": "2024-10-02T00:23:57.374122Z",
     "start_time": "2024-10-02T00:23:57.371746Z"
    }
   },
   "cell_type": "code",
   "source": "query = \"feces\"",
   "id": "64bdb4a7ff64391b",
   "outputs": [],
   "execution_count": 160
  },
  {
   "metadata": {},
   "cell_type": "markdown",
   "source": "## Cosine Similarity",
   "id": "2b7c217b9f285661"
  },
  {
   "metadata": {
    "ExecuteTime": {
     "end_time": "2024-10-02T00:07:47.485061Z",
     "start_time": "2024-10-02T00:07:40.784011Z"
    }
   },
   "cell_type": "code",
   "source": [
    "from sentence_transformers import SentenceTransformer, util\n",
    "\n",
    "MODEL_NAME = \"all-MiniLM-L6-v2\"\n",
    "model = SentenceTransformer(MODEL_NAME, cache_folder=\".cache_models\")\n",
    "summary_embeddings = model.encode([summary for _, summary in id_and_summary])"
   ],
   "id": "6c975d8bddce6dc9",
   "outputs": [
    {
     "name": "stderr",
     "output_type": "stream",
     "text": [
      "/Users/ariel.arevalo/Workspace/tareas-programadas-mrflexers/tarea_1/venv/lib/python3.12/site-packages/transformers/tokenization_utils_base.py:1617: FutureWarning: `clean_up_tokenization_spaces` was not set. It will be set to `True` by default. This behavior will be deprecated in transformers v4.45, and will be then set to `False` by default. For more details check this issue: https://github.com/huggingface/transformers/issues/31884\n",
      "  warnings.warn(\n"
     ]
    }
   ],
   "execution_count": 101
  },
  {
   "metadata": {
    "ExecuteTime": {
     "end_time": "2024-10-02T00:07:47.609305Z",
     "start_time": "2024-10-02T00:07:47.494806Z"
    }
   },
   "cell_type": "code",
   "source": [
    "query_embedding = model.encode(query)\n",
    "cosine_scores = util.pytorch_cos_sim(query_embedding, summary_embeddings)[0].tolist()\n",
    "\n",
    "valid_indices = [i for i in range(len(cosine_scores)) if cosine_scores[i] > 0.3]\n",
    "valid_ids = [ias[0] for i, ias in enumerate(id_and_summary) if i in valid_indices]\n",
    "valid_hts = [ht for ht in health_topics if ht['id'] in valid_ids]\n",
    "\n",
    "for ht in valid_hts:\n",
    "    print(ht['title'])\n",
    "    print()"
   ],
   "id": "45589b5c508a0e47",
   "outputs": [],
   "execution_count": 102
  },
  {
   "metadata": {},
   "cell_type": "markdown",
   "source": "## BM25",
   "id": "1e5acd01a6ee421"
  },
  {
   "metadata": {
    "ExecuteTime": {
     "end_time": "2024-10-02T00:24:12.676506Z",
     "start_time": "2024-10-02T00:24:10.750911Z"
    }
   },
   "cell_type": "code",
   "source": [
    "from rank_bm25 import BM25Okapi\n",
    "from nltk.tokenize import word_tokenize\n",
    "import numpy as np\n",
    "import pandas as pd\n",
    "\n",
    "# Tokenize documents and build BM25\n",
    "tokenized_docs = [word_tokenize(doc.lower()) for doc in documents]\n",
    "bm25 = BM25Okapi(tokenized_docs)"
   ],
   "id": "715a1c07840962c3",
   "outputs": [],
   "execution_count": 165
  },
  {
   "metadata": {
    "ExecuteTime": {
     "end_time": "2024-10-02T00:24:12.686008Z",
     "start_time": "2024-10-02T00:24:12.680904Z"
    }
   },
   "cell_type": "code",
   "source": [
    "# Query\n",
    "tokenized_query = word_tokenize(query.lower())\n",
    "scores = bm25.get_scores(tokenized_query)\n",
    "\n",
    "# Define a minimum relevance score threshold\n",
    "threshold = 3.3\n",
    "\n",
    "# Sort indices by scores in descending order\n",
    "sorted_indices = np.argsort(scores)[::-1]\n",
    "\n",
    "# Filter sorted indices to only keep those with scores above the threshold\n",
    "filtered_sorted_indices = [i for i in sorted_indices if scores[i] >= threshold]\n",
    "\n",
    "# Retrieve valid IDs and corresponding health topics in sorted order\n",
    "sorted_ids = [id_and_summary[i][0] for i in filtered_sorted_indices]\n",
    "sorted_scores = [scores[i] for i in filtered_sorted_indices]\n",
    "sorted_titles = [id_to_title[id] for id in sorted_ids]\n",
    "\n",
    "# Create a pandas DataFrame\n",
    "pd.DataFrame({\n",
    "    \"Title\": sorted_titles,\n",
    "    \"Score\": sorted_scores\n",
    "})"
   ],
   "id": "2556a39ff8cd3c65",
   "outputs": [
    {
     "data": {
      "text/plain": [
       "                      Title     Score\n",
       "0            Bowel Movement  8.200078\n",
       "1        Giardia Infections  7.410399\n",
       "2  Campylobacter Infections  7.132720\n",
       "3                   Cholera  6.098384\n",
       "4         Germs and Hygiene  4.809052\n",
       "5        C. diff Infections  3.820874"
      ],
      "text/html": [
       "<div>\n",
       "<style scoped>\n",
       "    .dataframe tbody tr th:only-of-type {\n",
       "        vertical-align: middle;\n",
       "    }\n",
       "\n",
       "    .dataframe tbody tr th {\n",
       "        vertical-align: top;\n",
       "    }\n",
       "\n",
       "    .dataframe thead th {\n",
       "        text-align: right;\n",
       "    }\n",
       "</style>\n",
       "<table border=\"1\" class=\"dataframe\">\n",
       "  <thead>\n",
       "    <tr style=\"text-align: right;\">\n",
       "      <th></th>\n",
       "      <th>Title</th>\n",
       "      <th>Score</th>\n",
       "    </tr>\n",
       "  </thead>\n",
       "  <tbody>\n",
       "    <tr>\n",
       "      <th>0</th>\n",
       "      <td>Bowel Movement</td>\n",
       "      <td>8.200078</td>\n",
       "    </tr>\n",
       "    <tr>\n",
       "      <th>1</th>\n",
       "      <td>Giardia Infections</td>\n",
       "      <td>7.410399</td>\n",
       "    </tr>\n",
       "    <tr>\n",
       "      <th>2</th>\n",
       "      <td>Campylobacter Infections</td>\n",
       "      <td>7.132720</td>\n",
       "    </tr>\n",
       "    <tr>\n",
       "      <th>3</th>\n",
       "      <td>Cholera</td>\n",
       "      <td>6.098384</td>\n",
       "    </tr>\n",
       "    <tr>\n",
       "      <th>4</th>\n",
       "      <td>Germs and Hygiene</td>\n",
       "      <td>4.809052</td>\n",
       "    </tr>\n",
       "    <tr>\n",
       "      <th>5</th>\n",
       "      <td>C. diff Infections</td>\n",
       "      <td>3.820874</td>\n",
       "    </tr>\n",
       "  </tbody>\n",
       "</table>\n",
       "</div>"
      ]
     },
     "execution_count": 166,
     "metadata": {},
     "output_type": "execute_result"
    }
   ],
   "execution_count": 166
  },
  {
   "metadata": {},
   "cell_type": "markdown",
   "source": "### Full results",
   "id": "b7e00ed7fc4e707e"
  },
  {
   "metadata": {
    "ExecuteTime": {
     "end_time": "2024-10-02T00:24:12.719040Z",
     "start_time": "2024-10-02T00:24:12.716047Z"
    }
   },
   "cell_type": "code",
   "source": [
    "# Retrieve valid IDs and corresponding health topics in sorted order\n",
    "sorted_ids = [id_and_summary[i][0] for i in sorted_indices]\n",
    "sorted_scores = [scores[i] for i in sorted_indices]\n",
    "sorted_titles = [id_to_title[id] for id in sorted_ids]\n",
    "\n",
    "# Create a pandas DataFrame\n",
    "df = pd.DataFrame({\n",
    "    \"Title\": sorted_titles,\n",
    "    \"Score\": sorted_scores\n",
    "})"
   ],
   "id": "37b4df915f035388",
   "outputs": [],
   "execution_count": 167
  },
  {
   "metadata": {},
   "cell_type": "markdown",
   "source": "## BM25 + WordNet",
   "id": "d54386d4d812344"
  },
  {
   "metadata": {},
   "cell_type": "code",
   "outputs": [],
   "execution_count": null,
   "source": "language = 'eng' # or 'spa' for Spanish",
   "id": "9a4dc6d03994df24"
  },
  {
   "metadata": {
    "ExecuteTime": {
     "end_time": "2024-10-02T00:24:04.730886Z",
     "start_time": "2024-10-02T00:24:02.724859Z"
    }
   },
   "cell_type": "code",
   "source": [
    "from rank_bm25 import BM25Okapi\n",
    "from nltk.tokenize import word_tokenize\n",
    "from nltk.corpus import wordnet as wn\n",
    "import nltk\n",
    "import numpy as np\n",
    "import pandas as pd\n",
    "\n",
    "nltk.download('wordnet')\n",
    "nltk.download('omw-1.4')\n",
    "\n",
    "# Tokenize documents and build BM25\n",
    "tokenized_docs = [word_tokenize(doc.lower()) for doc in documents]\n",
    "bm25 = BM25Okapi(tokenized_docs)"
   ],
   "id": "a4e45bb7d3cdd786",
   "outputs": [
    {
     "name": "stderr",
     "output_type": "stream",
     "text": [
      "[nltk_data] Downloading package wordnet to\n",
      "[nltk_data]     /Users/ariel.arevalo/nltk_data...\n",
      "[nltk_data]   Package wordnet is already up-to-date!\n",
      "[nltk_data] Downloading package omw-1.4 to\n",
      "[nltk_data]     /Users/ariel.arevalo/nltk_data...\n",
      "[nltk_data]   Package omw-1.4 is already up-to-date!\n"
     ]
    }
   ],
   "execution_count": 161
  },
  {
   "metadata": {
    "ExecuteTime": {
     "end_time": "2024-10-02T00:24:04.736061Z",
     "start_time": "2024-10-02T00:24:04.734181Z"
    }
   },
   "cell_type": "code",
   "source": [
    "# Function to expand a query with synonyms\n",
    "def expand_with_synonyms(tokenized_query):\n",
    "    expanded_query = set(tokenized_query)\n",
    "\n",
    "    for token in tokenized_query:\n",
    "        for syn in wn.synsets(token, lang=language):\n",
    "            for lemma in syn.lemmas(language):\n",
    "                expanded_query.add(lemma.name().replace(\"_\", \" \"))\n",
    "\n",
    "    return list(expanded_query)"
   ],
   "id": "40de3a699b2aa578",
   "outputs": [],
   "execution_count": 162
  },
  {
   "metadata": {
    "ExecuteTime": {
     "end_time": "2024-10-02T00:24:04.755028Z",
     "start_time": "2024-10-02T00:24:04.746756Z"
    }
   },
   "cell_type": "code",
   "source": [
    "# Query\n",
    "tokenized_query = word_tokenize(query.lower())\n",
    "expanded_query = expand_with_synonyms(tokenized_query)\n",
    "scores = bm25.get_scores(expanded_query)\n",
    "\n",
    "# Define a minimum relevance score threshold\n",
    "threshold = 3.3\n",
    "\n",
    "# Sort indices by scores in descending order\n",
    "sorted_indices = np.argsort(scores)[::-1]\n",
    "\n",
    "# Filter sorted indices to only keep those with scores above the threshold\n",
    "filtered_sorted_indices = [i for i in sorted_indices if scores[i] >= threshold]\n",
    "\n",
    "# Retrieve valid IDs and corresponding health topics in sorted order\n",
    "sorted_ids = [id_and_summary[i][0] for i in filtered_sorted_indices]\n",
    "sorted_scores = [scores[i] for i in filtered_sorted_indices]\n",
    "sorted_titles = [id_to_title[id] for id in sorted_ids]\n",
    "\n",
    "# Create a pandas DataFrame\n",
    "pd.DataFrame({\n",
    "    \"Title\": sorted_titles,\n",
    "    \"Score\": sorted_scores\n",
    "})"
   ],
   "id": "434a2d22cc14a6ec",
   "outputs": [
    {
     "data": {
      "text/plain": [
       "                                Title      Score\n",
       "0                      Bowel Movement  16.410220\n",
       "1                  Giardia Infections  12.440567\n",
       "2            Campylobacter Infections  11.974400\n",
       "3                             Cholera  10.237958\n",
       "4                  C. diff Infections   8.900498\n",
       "5           Gastrointestinal Bleeding   7.714020\n",
       "6                    Rectal Disorders   5.900668\n",
       "7                   Cryptosporidiosis   5.806919\n",
       "8                      Anal Disorders   5.741955\n",
       "9                   Colorectal Cancer   5.561184\n",
       "10                Lactose Intolerance   5.503807\n",
       "11                     Abdominal Pain   5.497645\n",
       "12             Intestinal Obstruction   5.436770\n",
       "13           Irritable Bowel Syndrome   5.418769\n",
       "14                  Intestinal Cancer   5.359619\n",
       "15                 Digestive Diseases   5.318976\n",
       "16                       Constipation   5.206179\n",
       "17                     Colonic Polyps   5.184191\n",
       "18                   Colonic Diseases   5.178723\n",
       "19      Polio and Post-Polio Syndrome   5.133062\n",
       "20                 Ulcerative Colitis   5.130025\n",
       "21                        Colonoscopy   5.107698\n",
       "22                     Stomach Cancer   5.087501\n",
       "23                          Porphyria   5.061280\n",
       "24                        Hemorrhoids   5.019045\n",
       "25              Salmonella Infections   4.949045\n",
       "26                     Liver Diseases   4.939088\n",
       "27                       Peptic Ulcer   4.856046\n",
       "28                  Germs and Hygiene   4.809052\n",
       "29             Pelvic Floor Disorders   4.775749\n",
       "30  Diverticulosis and Diverticulitis   4.406453\n",
       "31     Helicobacter Pylori Infections   4.269150"
      ],
      "text/html": [
       "<div>\n",
       "<style scoped>\n",
       "    .dataframe tbody tr th:only-of-type {\n",
       "        vertical-align: middle;\n",
       "    }\n",
       "\n",
       "    .dataframe tbody tr th {\n",
       "        vertical-align: top;\n",
       "    }\n",
       "\n",
       "    .dataframe thead th {\n",
       "        text-align: right;\n",
       "    }\n",
       "</style>\n",
       "<table border=\"1\" class=\"dataframe\">\n",
       "  <thead>\n",
       "    <tr style=\"text-align: right;\">\n",
       "      <th></th>\n",
       "      <th>Title</th>\n",
       "      <th>Score</th>\n",
       "    </tr>\n",
       "  </thead>\n",
       "  <tbody>\n",
       "    <tr>\n",
       "      <th>0</th>\n",
       "      <td>Bowel Movement</td>\n",
       "      <td>16.410220</td>\n",
       "    </tr>\n",
       "    <tr>\n",
       "      <th>1</th>\n",
       "      <td>Giardia Infections</td>\n",
       "      <td>12.440567</td>\n",
       "    </tr>\n",
       "    <tr>\n",
       "      <th>2</th>\n",
       "      <td>Campylobacter Infections</td>\n",
       "      <td>11.974400</td>\n",
       "    </tr>\n",
       "    <tr>\n",
       "      <th>3</th>\n",
       "      <td>Cholera</td>\n",
       "      <td>10.237958</td>\n",
       "    </tr>\n",
       "    <tr>\n",
       "      <th>4</th>\n",
       "      <td>C. diff Infections</td>\n",
       "      <td>8.900498</td>\n",
       "    </tr>\n",
       "    <tr>\n",
       "      <th>5</th>\n",
       "      <td>Gastrointestinal Bleeding</td>\n",
       "      <td>7.714020</td>\n",
       "    </tr>\n",
       "    <tr>\n",
       "      <th>6</th>\n",
       "      <td>Rectal Disorders</td>\n",
       "      <td>5.900668</td>\n",
       "    </tr>\n",
       "    <tr>\n",
       "      <th>7</th>\n",
       "      <td>Cryptosporidiosis</td>\n",
       "      <td>5.806919</td>\n",
       "    </tr>\n",
       "    <tr>\n",
       "      <th>8</th>\n",
       "      <td>Anal Disorders</td>\n",
       "      <td>5.741955</td>\n",
       "    </tr>\n",
       "    <tr>\n",
       "      <th>9</th>\n",
       "      <td>Colorectal Cancer</td>\n",
       "      <td>5.561184</td>\n",
       "    </tr>\n",
       "    <tr>\n",
       "      <th>10</th>\n",
       "      <td>Lactose Intolerance</td>\n",
       "      <td>5.503807</td>\n",
       "    </tr>\n",
       "    <tr>\n",
       "      <th>11</th>\n",
       "      <td>Abdominal Pain</td>\n",
       "      <td>5.497645</td>\n",
       "    </tr>\n",
       "    <tr>\n",
       "      <th>12</th>\n",
       "      <td>Intestinal Obstruction</td>\n",
       "      <td>5.436770</td>\n",
       "    </tr>\n",
       "    <tr>\n",
       "      <th>13</th>\n",
       "      <td>Irritable Bowel Syndrome</td>\n",
       "      <td>5.418769</td>\n",
       "    </tr>\n",
       "    <tr>\n",
       "      <th>14</th>\n",
       "      <td>Intestinal Cancer</td>\n",
       "      <td>5.359619</td>\n",
       "    </tr>\n",
       "    <tr>\n",
       "      <th>15</th>\n",
       "      <td>Digestive Diseases</td>\n",
       "      <td>5.318976</td>\n",
       "    </tr>\n",
       "    <tr>\n",
       "      <th>16</th>\n",
       "      <td>Constipation</td>\n",
       "      <td>5.206179</td>\n",
       "    </tr>\n",
       "    <tr>\n",
       "      <th>17</th>\n",
       "      <td>Colonic Polyps</td>\n",
       "      <td>5.184191</td>\n",
       "    </tr>\n",
       "    <tr>\n",
       "      <th>18</th>\n",
       "      <td>Colonic Diseases</td>\n",
       "      <td>5.178723</td>\n",
       "    </tr>\n",
       "    <tr>\n",
       "      <th>19</th>\n",
       "      <td>Polio and Post-Polio Syndrome</td>\n",
       "      <td>5.133062</td>\n",
       "    </tr>\n",
       "    <tr>\n",
       "      <th>20</th>\n",
       "      <td>Ulcerative Colitis</td>\n",
       "      <td>5.130025</td>\n",
       "    </tr>\n",
       "    <tr>\n",
       "      <th>21</th>\n",
       "      <td>Colonoscopy</td>\n",
       "      <td>5.107698</td>\n",
       "    </tr>\n",
       "    <tr>\n",
       "      <th>22</th>\n",
       "      <td>Stomach Cancer</td>\n",
       "      <td>5.087501</td>\n",
       "    </tr>\n",
       "    <tr>\n",
       "      <th>23</th>\n",
       "      <td>Porphyria</td>\n",
       "      <td>5.061280</td>\n",
       "    </tr>\n",
       "    <tr>\n",
       "      <th>24</th>\n",
       "      <td>Hemorrhoids</td>\n",
       "      <td>5.019045</td>\n",
       "    </tr>\n",
       "    <tr>\n",
       "      <th>25</th>\n",
       "      <td>Salmonella Infections</td>\n",
       "      <td>4.949045</td>\n",
       "    </tr>\n",
       "    <tr>\n",
       "      <th>26</th>\n",
       "      <td>Liver Diseases</td>\n",
       "      <td>4.939088</td>\n",
       "    </tr>\n",
       "    <tr>\n",
       "      <th>27</th>\n",
       "      <td>Peptic Ulcer</td>\n",
       "      <td>4.856046</td>\n",
       "    </tr>\n",
       "    <tr>\n",
       "      <th>28</th>\n",
       "      <td>Germs and Hygiene</td>\n",
       "      <td>4.809052</td>\n",
       "    </tr>\n",
       "    <tr>\n",
       "      <th>29</th>\n",
       "      <td>Pelvic Floor Disorders</td>\n",
       "      <td>4.775749</td>\n",
       "    </tr>\n",
       "    <tr>\n",
       "      <th>30</th>\n",
       "      <td>Diverticulosis and Diverticulitis</td>\n",
       "      <td>4.406453</td>\n",
       "    </tr>\n",
       "    <tr>\n",
       "      <th>31</th>\n",
       "      <td>Helicobacter Pylori Infections</td>\n",
       "      <td>4.269150</td>\n",
       "    </tr>\n",
       "  </tbody>\n",
       "</table>\n",
       "</div>"
      ]
     },
     "execution_count": 163,
     "metadata": {},
     "output_type": "execute_result"
    }
   ],
   "execution_count": 163
  },
  {
   "metadata": {},
   "cell_type": "markdown",
   "source": "### Full results",
   "id": "6c0523a076c8fa0c"
  },
  {
   "metadata": {
    "ExecuteTime": {
     "end_time": "2024-10-02T00:24:04.789012Z",
     "start_time": "2024-10-02T00:24:04.786030Z"
    }
   },
   "cell_type": "code",
   "source": [
    "# Retrieve valid IDs and corresponding health topics in sorted order\n",
    "sorted_ids = [id_and_summary[i][0] for i in sorted_indices]\n",
    "sorted_scores = [scores[i] for i in sorted_indices]\n",
    "sorted_titles = [id_to_title[id] for id in sorted_ids]\n",
    "\n",
    "# Create a pandas DataFrame\n",
    "df = pd.DataFrame({\n",
    "    \"Title\": sorted_titles,\n",
    "    \"Score\": sorted_scores\n",
    "})"
   ],
   "id": "6dbef2c74e6478c3",
   "outputs": [],
   "execution_count": 164
  }
 ],
 "metadata": {
  "kernelspec": {
   "display_name": "Python 3",
   "language": "python",
   "name": "python3"
  },
  "language_info": {
   "codemirror_mode": {
    "name": "ipython",
    "version": 2
   },
   "file_extension": ".py",
   "mimetype": "text/x-python",
   "name": "python",
   "nbconvert_exporter": "python",
   "pygments_lexer": "ipython2",
   "version": "2.7.6"
  }
 },
 "nbformat": 4,
 "nbformat_minor": 5
}
