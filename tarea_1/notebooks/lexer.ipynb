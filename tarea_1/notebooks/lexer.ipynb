{
 "cells": [
  {
   "cell_type": "code",
   "execution_count": 15,
   "id": "defc521b858b515b",
   "metadata": {
    "ExecuteTime": {
     "end_time": "2024-09-01T03:34:41.345295Z",
     "start_time": "2024-09-01T03:34:41.343397Z"
    }
   },
   "outputs": [],
   "source": [
    "from datetime import datetime\n",
    "import ply.lex as lex"
   ]
  },
  {
   "cell_type": "code",
   "execution_count": 18,
   "id": "initial_id",
   "metadata": {
    "ExecuteTime": {
     "end_time": "2024-09-01T02:53:03.894814Z",
     "start_time": "2024-09-01T02:53:03.866083Z"
    },
    "collapsed": true
   },
   "outputs": [
    {
     "data": {
      "text/plain": [
       "LexToken(XmlDeclStartTag,'<?xml',1,0)"
      ]
     },
     "metadata": {},
     "output_type": "display_data"
    },
    {
     "data": {
      "text/plain": [
       "LexToken(VersionKey,'version=',1,6)"
      ]
     },
     "metadata": {},
     "output_type": "display_data"
    },
    {
     "data": {
      "text/plain": [
       "LexToken(String,'\"1.0\"',1,14)"
      ]
     },
     "metadata": {},
     "output_type": "display_data"
    },
    {
     "data": {
      "text/plain": [
       "LexToken(EncodingKey,'encoding=',1,20)"
      ]
     },
     "metadata": {},
     "output_type": "display_data"
    },
    {
     "data": {
      "text/plain": [
       "LexToken(String,'\"UTF-8\"',1,29)"
      ]
     },
     "metadata": {},
     "output_type": "display_data"
    },
    {
     "data": {
      "text/plain": [
       "LexToken(XmlDeclEndTag,'?>',1,36)"
      ]
     },
     "metadata": {},
     "output_type": "display_data"
    },
    {
     "data": {
      "text/plain": [
       "LexToken(DocTypeDeclStartTag,'<!DOCTYPE',2,39)"
      ]
     },
     "metadata": {},
     "output_type": "display_data"
    },
    {
     "data": {
      "text/plain": [
       "LexToken(DocTypeDeclName,'health-topics',2,49)"
      ]
     },
     "metadata": {},
     "output_type": "display_data"
    },
    {
     "data": {
      "text/plain": [
       "LexToken(DocTypeDeclExternalId,'PUBLIC \"-//NLM//DTD health-topics //EN\" \"https://medlineplus.gov/xml/mplus_topics.dtd\"',2,63)"
      ]
     },
     "metadata": {},
     "output_type": "display_data"
    },
    {
     "data": {
      "text/plain": [
       "LexToken(StartTagClose,'>',2,149)"
      ]
     },
     "metadata": {},
     "output_type": "display_data"
    },
    {
     "data": {
      "text/plain": [
       "LexToken(HealthTopicsStartTagOpen,'<health-topics',3,151)"
      ]
     },
     "metadata": {},
     "output_type": "display_data"
    },
    {
     "data": {
      "text/plain": [
       "LexToken(TotalKey,'total=',3,166)"
      ]
     },
     "metadata": {},
     "output_type": "display_data"
    },
    {
     "data": {
      "text/plain": [
       "LexToken(Integer,2044,3,172)"
      ]
     },
     "metadata": {},
     "output_type": "display_data"
    },
    {
     "data": {
      "text/plain": [
       "LexToken(DateGeneratedKey,'date-generated=',3,179)"
      ]
     },
     "metadata": {},
     "output_type": "display_data"
    },
    {
     "data": {
      "text/plain": [
       "LexToken(Timestamp,datetime.datetime(2024, 8, 30, 2, 30, 25),3,194)"
      ]
     },
     "metadata": {},
     "output_type": "display_data"
    },
    {
     "data": {
      "text/plain": [
       "LexToken(StartTagClose,'>',3,215)"
      ]
     },
     "metadata": {},
     "output_type": "display_data"
    },
    {
     "data": {
      "text/plain": [
       "LexToken(HealthTopicStartTagOpen,'<health-topic',4,218)"
      ]
     },
     "metadata": {},
     "output_type": "display_data"
    },
    {
     "data": {
      "text/plain": [
       "LexToken(MetaDescKey,'meta-desc=',4,232)"
      ]
     },
     "metadata": {},
     "output_type": "display_data"
    },
    {
     "data": {
      "text/plain": [
       "LexToken(String,'\"If you are being tested for Type 2 diabetes, your doctor gives you an A1C test. The test is also used to monitor your A1C levels.\"',4,242)"
      ]
     },
     "metadata": {},
     "output_type": "display_data"
    },
    {
     "data": {
      "text/plain": [
       "LexToken(TitleKey,'title=',4,374)"
      ]
     },
     "metadata": {},
     "output_type": "display_data"
    },
    {
     "data": {
      "text/plain": [
       "LexToken(String,'\"A1C\"',4,380)"
      ]
     },
     "metadata": {},
     "output_type": "display_data"
    },
    {
     "data": {
      "text/plain": [
       "LexToken(UrlKey,'url=',4,386)"
      ]
     },
     "metadata": {},
     "output_type": "display_data"
    },
    {
     "data": {
      "text/plain": [
       "LexToken(Uri,'https://medlineplus.gov/a1c.html',4,390)"
      ]
     },
     "metadata": {},
     "output_type": "display_data"
    },
    {
     "data": {
      "text/plain": [
       "LexToken(IdKey,'id=',4,425)"
      ]
     },
     "metadata": {},
     "output_type": "display_data"
    },
    {
     "data": {
      "text/plain": [
       "LexToken(Integer,6308,4,428)"
      ]
     },
     "metadata": {},
     "output_type": "display_data"
    },
    {
     "data": {
      "text/plain": [
       "LexToken(LanguageKey,'language=',4,435)"
      ]
     },
     "metadata": {},
     "output_type": "display_data"
    },
    {
     "data": {
      "text/plain": [
       "LexToken(Language,'English',4,444)"
      ]
     },
     "metadata": {},
     "output_type": "display_data"
    },
    {
     "data": {
      "text/plain": [
       "LexToken(DateCreatedKey,'date-created=',4,454)"
      ]
     },
     "metadata": {},
     "output_type": "display_data"
    },
    {
     "data": {
      "text/plain": [
       "LexToken(Date,datetime.date(2015, 12, 22),4,467)"
      ]
     },
     "metadata": {},
     "output_type": "display_data"
    },
    {
     "data": {
      "text/plain": [
       "LexToken(StartTagClose,'>',4,479)"
      ]
     },
     "metadata": {},
     "output_type": "display_data"
    },
    {
     "data": {
      "text/plain": [
       "LexToken(AlsoCalledStartTagOpen,'<also-called',5,483)"
      ]
     },
     "metadata": {},
     "output_type": "display_data"
    },
    {
     "data": {
      "text/plain": [
       "LexToken(StartTagClose,'>',5,495)"
      ]
     },
     "metadata": {},
     "output_type": "display_data"
    },
    {
     "data": {
      "text/plain": [
       "LexToken(Text,'Glycohemoglobin',5,496)"
      ]
     },
     "metadata": {},
     "output_type": "display_data"
    },
    {
     "data": {
      "text/plain": [
       "LexToken(AlsoCalledEndTag,'</also-called>',5,511)"
      ]
     },
     "metadata": {},
     "output_type": "display_data"
    },
    {
     "data": {
      "text/plain": [
       "LexToken(AlsoCalledStartTagOpen,'<also-called',6,528)"
      ]
     },
     "metadata": {},
     "output_type": "display_data"
    },
    {
     "data": {
      "text/plain": [
       "LexToken(StartTagClose,'>',6,540)"
      ]
     },
     "metadata": {},
     "output_type": "display_data"
    },
    {
     "data": {
      "text/plain": [
       "LexToken(Text,'HbA1C',6,541)"
      ]
     },
     "metadata": {},
     "output_type": "display_data"
    },
    {
     "data": {
      "text/plain": [
       "LexToken(AlsoCalledEndTag,'</also-called>',6,546)"
      ]
     },
     "metadata": {},
     "output_type": "display_data"
    },
    {
     "data": {
      "text/plain": [
       "LexToken(AlsoCalledStartTagOpen,'<also-called',7,563)"
      ]
     },
     "metadata": {},
     "output_type": "display_data"
    },
    {
     "data": {
      "text/plain": [
       "LexToken(StartTagClose,'>',7,575)"
      ]
     },
     "metadata": {},
     "output_type": "display_data"
    },
    {
     "data": {
      "text/plain": [
       "LexToken(Text,'Hemoglobin A1C test',7,576)"
      ]
     },
     "metadata": {},
     "output_type": "display_data"
    },
    {
     "data": {
      "text/plain": [
       "LexToken(AlsoCalledEndTag,'</also-called>',7,595)"
      ]
     },
     "metadata": {},
     "output_type": "display_data"
    },
    {
     "data": {
      "text/plain": [
       "LexToken(FullSummaryStartTagOpen,'<full-summary',8,612)"
      ]
     },
     "metadata": {},
     "output_type": "display_data"
    },
    {
     "data": {
      "text/plain": [
       "LexToken(StartTagClose,'>',8,625)"
      ]
     },
     "metadata": {},
     "output_type": "display_data"
    },
    {
     "data": {
      "text/plain": [
       "LexToken(ParagraphStartTagOpen,'<p',8,626)"
      ]
     },
     "metadata": {},
     "output_type": "display_data"
    },
    {
     "data": {
      "text/plain": [
       "LexToken(StartTagClose,'>',8,628)"
      ]
     },
     "metadata": {},
     "output_type": "display_data"
    },
    {
     "data": {
      "text/plain": [
       "LexToken(Text,'A1C is a blood test for ',8,629)"
      ]
     },
     "metadata": {},
     "output_type": "display_data"
    },
    {
     "data": {
      "text/plain": [
       "LexToken(AnchorStartTagOpen,'<a',8,653)"
      ]
     },
     "metadata": {},
     "output_type": "display_data"
    },
    {
     "data": {
      "text/plain": [
       "LexToken(HrefKey,'href=',8,656)"
      ]
     },
     "metadata": {},
     "output_type": "display_data"
    },
    {
     "data": {
      "text/plain": [
       "LexToken(Uri,'https://medlineplus.gov/diabetestype2.html',8,661)"
      ]
     },
     "metadata": {},
     "output_type": "display_data"
    },
    {
     "data": {
      "text/plain": [
       "LexToken(StartTagClose,'>',8,705)"
      ]
     },
     "metadata": {},
     "output_type": "display_data"
    },
    {
     "data": {
      "text/plain": [
       "LexToken(Text,'type 2 diabetes',8,706)"
      ]
     },
     "metadata": {},
     "output_type": "display_data"
    },
    {
     "data": {
      "text/plain": [
       "LexToken(AnchorEndTag,'</a>',8,721)"
      ]
     },
     "metadata": {},
     "output_type": "display_data"
    },
    {
     "data": {
      "text/plain": [
       "LexToken(Text,'and ',8,726)"
      ]
     },
     "metadata": {},
     "output_type": "display_data"
    },
    {
     "data": {
      "text/plain": [
       "LexToken(AnchorStartTagOpen,'<a',8,730)"
      ]
     },
     "metadata": {},
     "output_type": "display_data"
    },
    {
     "data": {
      "text/plain": [
       "LexToken(HrefKey,'href=',8,733)"
      ]
     },
     "metadata": {},
     "output_type": "display_data"
    },
    {
     "data": {
      "text/plain": [
       "LexToken(Uri,'https://medlineplus.gov/prediabetes.html',8,738)"
      ]
     },
     "metadata": {},
     "output_type": "display_data"
    },
    {
     "data": {
      "text/plain": [
       "LexToken(StartTagClose,'>',8,780)"
      ]
     },
     "metadata": {},
     "output_type": "display_data"
    },
    {
     "data": {
      "text/plain": [
       "LexToken(Text,'prediabetes',8,781)"
      ]
     },
     "metadata": {},
     "output_type": "display_data"
    },
    {
     "data": {
      "text/plain": [
       "LexToken(AnchorEndTag,'</a>',8,792)"
      ]
     },
     "metadata": {},
     "output_type": "display_data"
    },
    {
     "data": {
      "text/plain": [
       "LexToken(Text,'. It measures your average blood glucose, or ',8,796)"
      ]
     },
     "metadata": {},
     "output_type": "display_data"
    },
    {
     "data": {
      "text/plain": [
       "LexToken(AnchorStartTagOpen,'<a',8,841)"
      ]
     },
     "metadata": {},
     "output_type": "display_data"
    },
    {
     "data": {
      "text/plain": [
       "LexToken(HrefKey,'href=',8,844)"
      ]
     },
     "metadata": {},
     "output_type": "display_data"
    },
    {
     "data": {
      "text/plain": [
       "LexToken(Uri,'https://medlineplus.gov/bloodglucose.html',8,849)"
      ]
     },
     "metadata": {},
     "output_type": "display_data"
    },
    {
     "data": {
      "text/plain": [
       "LexToken(StartTagClose,'>',8,892)"
      ]
     },
     "metadata": {},
     "output_type": "display_data"
    },
    {
     "data": {
      "text/plain": [
       "LexToken(Text,'blood sugar',8,893)"
      ]
     },
     "metadata": {},
     "output_type": "display_data"
    },
    {
     "data": {
      "text/plain": [
       "LexToken(AnchorEndTag,'</a>',8,904)"
      ]
     },
     "metadata": {},
     "output_type": "display_data"
    },
    {
     "data": {
      "text/plain": [
       "LexToken(Text,', level over the past 3 months. Doctors may use the A1C alone or in combination with other diabetes tests to make a diagnosis. They also use the A1C to see how well you are managing your diabetes. This test is different from the blood sugar checks that people with diabetes do every day.',8,908)"
      ]
     },
     "metadata": {},
     "output_type": "display_data"
    },
    {
     "data": {
      "text/plain": [
       "LexToken(ParagraphEndTag,'</p>',8,1195)"
      ]
     },
     "metadata": {},
     "output_type": "display_data"
    },
    {
     "data": {
      "text/plain": [
       "LexToken(ParagraphStartTagOpen,'<p',10,1201)"
      ]
     },
     "metadata": {},
     "output_type": "display_data"
    },
    {
     "data": {
      "text/plain": [
       "LexToken(StartTagClose,'>',10,1203)"
      ]
     },
     "metadata": {},
     "output_type": "display_data"
    },
    {
     "data": {
      "text/plain": [
       "LexToken(Text,'Your A1C test result is given in percentages. The higher the percentage, the higher your blood sugar levels have been:',10,1204)"
      ]
     },
     "metadata": {},
     "output_type": "display_data"
    },
    {
     "data": {
      "text/plain": [
       "LexToken(ParagraphEndTag,'</p>',10,1322)"
      ]
     },
     "metadata": {},
     "output_type": "display_data"
    },
    {
     "data": {
      "text/plain": [
       "LexToken(UnorderedListStartTagOpen,'<ul',11,1327)"
      ]
     },
     "metadata": {},
     "output_type": "display_data"
    },
    {
     "data": {
      "text/plain": [
       "LexToken(StartTagClose,'>',11,1330)"
      ]
     },
     "metadata": {},
     "output_type": "display_data"
    },
    {
     "data": {
      "text/plain": [
       "LexToken(ListItemStartTagOpen,'<li',12,1332)"
      ]
     },
     "metadata": {},
     "output_type": "display_data"
    },
    {
     "data": {
      "text/plain": [
       "LexToken(StartTagClose,'>',12,1335)"
      ]
     },
     "metadata": {},
     "output_type": "display_data"
    },
    {
     "data": {
      "text/plain": [
       "LexToken(Text,'A normal A1C level is below 5.7%',12,1336)"
      ]
     },
     "metadata": {},
     "output_type": "display_data"
    },
    {
     "data": {
      "text/plain": [
       "LexToken(ListItemEndTag,'</li>',12,1368)"
      ]
     },
     "metadata": {},
     "output_type": "display_data"
    },
    {
     "data": {
      "text/plain": [
       "LexToken(ListItemStartTagOpen,'<li',13,1374)"
      ]
     },
     "metadata": {},
     "output_type": "display_data"
    },
    {
     "data": {
      "text/plain": [
       "LexToken(StartTagClose,'>',13,1377)"
      ]
     },
     "metadata": {},
     "output_type": "display_data"
    },
    {
     "data": {
      "text/plain": [
       "LexToken(Text,'Prediabetes is between 5.7 to 6.4%. Having prediabetes is a risk factor for getting type 2 diabetes. People with prediabetes may need retests every year.',13,1378)"
      ]
     },
     "metadata": {},
     "output_type": "display_data"
    },
    {
     "data": {
      "text/plain": [
       "LexToken(ListItemEndTag,'</li>',13,1531)"
      ]
     },
     "metadata": {},
     "output_type": "display_data"
    },
    {
     "data": {
      "text/plain": [
       "LexToken(ListItemStartTagOpen,'<li',14,1537)"
      ]
     },
     "metadata": {},
     "output_type": "display_data"
    },
    {
     "data": {
      "text/plain": [
       "LexToken(StartTagClose,'>',14,1540)"
      ]
     },
     "metadata": {},
     "output_type": "display_data"
    },
    {
     "data": {
      "text/plain": [
       "LexToken(Text,'Type 2 diabetes is above 6.5%',14,1541)"
      ]
     },
     "metadata": {},
     "output_type": "display_data"
    },
    {
     "data": {
      "text/plain": [
       "LexToken(ListItemEndTag,'</li>',14,1570)"
      ]
     },
     "metadata": {},
     "output_type": "display_data"
    },
    {
     "data": {
      "text/plain": [
       "LexToken(ListItemStartTagOpen,'<li',15,1576)"
      ]
     },
     "metadata": {},
     "output_type": "display_data"
    },
    {
     "data": {
      "text/plain": [
       "LexToken(StartTagClose,'>',15,1579)"
      ]
     },
     "metadata": {},
     "output_type": "display_data"
    },
    {
     "data": {
      "text/plain": [
       "LexToken(Text,'If you have diabetes, you should have the A1C test at least twice a year. The A1C goal for many people with diabetes is below 7. It may be different for you. Ask what your goal should be. If your A1C result is too high, you may need to change your diabetes care plan.',15,1580)"
      ]
     },
     "metadata": {},
     "output_type": "display_data"
    },
    {
     "data": {
      "text/plain": [
       "LexToken(ListItemEndTag,'</li>',15,1847)"
      ]
     },
     "metadata": {},
     "output_type": "display_data"
    },
    {
     "data": {
      "text/plain": [
       "LexToken(UnorderedListEndTag,'</ul>',16,1853)"
      ]
     },
     "metadata": {},
     "output_type": "display_data"
    },
    {
     "data": {
      "text/plain": [
       "LexToken(ParagraphStartTagOpen,'<p',18,1860)"
      ]
     },
     "metadata": {},
     "output_type": "display_data"
    },
    {
     "data": {
      "text/plain": [
       "LexToken(ClassKey,'class=',18,1863)"
      ]
     },
     "metadata": {},
     "output_type": "display_data"
    },
    {
     "data": {
      "text/plain": [
       "LexToken(String,'\"\"',18,1869)"
      ]
     },
     "metadata": {},
     "output_type": "display_data"
    },
    {
     "data": {
      "text/plain": [
       "LexToken(StartTagClose,'>',18,1871)"
      ]
     },
     "metadata": {},
     "output_type": "display_data"
    },
    {
     "data": {
      "text/plain": [
       "LexToken(Text,'NIH: National Institute of Diabetes and Digestive and Kidney Diseases',18,1872)"
      ]
     },
     "metadata": {},
     "output_type": "display_data"
    },
    {
     "data": {
      "text/plain": [
       "LexToken(ParagraphEndTag,'</p>',18,1941)"
      ]
     },
     "metadata": {},
     "output_type": "display_data"
    },
    {
     "data": {
      "text/plain": [
       "LexToken(FullSummaryEndTag,'</full-summary>',18,1945)"
      ]
     },
     "metadata": {},
     "output_type": "display_data"
    },
    {
     "data": {
      "text/plain": [
       "LexToken(GroupStartTagOpen,'<group',19,1963)"
      ]
     },
     "metadata": {},
     "output_type": "display_data"
    },
    {
     "data": {
      "text/plain": [
       "LexToken(UrlKey,'url=',19,1970)"
      ]
     },
     "metadata": {},
     "output_type": "display_data"
    },
    {
     "data": {
      "text/plain": [
       "LexToken(Uri,'https://medlineplus.gov/diagnostictests.html',19,1974)"
      ]
     },
     "metadata": {},
     "output_type": "display_data"
    },
    {
     "data": {
      "text/plain": [
       "LexToken(IdKey,'id=',19,2021)"
      ]
     },
     "metadata": {},
     "output_type": "display_data"
    },
    {
     "data": {
      "text/plain": [
       "LexToken(Integer,25,19,2024)"
      ]
     },
     "metadata": {},
     "output_type": "display_data"
    },
    {
     "data": {
      "text/plain": [
       "LexToken(StartTagClose,'>',19,2028)"
      ]
     },
     "metadata": {},
     "output_type": "display_data"
    },
    {
     "data": {
      "text/plain": [
       "LexToken(Text,'Diagnostic Tests',19,2029)"
      ]
     },
     "metadata": {},
     "output_type": "display_data"
    },
    {
     "data": {
      "text/plain": [
       "LexToken(GroupEndTag,'</group>',19,2045)"
      ]
     },
     "metadata": {},
     "output_type": "display_data"
    },
    {
     "data": {
      "text/plain": [
       "LexToken(GroupStartTagOpen,'<group',20,2056)"
      ]
     },
     "metadata": {},
     "output_type": "display_data"
    },
    {
     "data": {
      "text/plain": [
       "LexToken(UrlKey,'url=',20,2063)"
      ]
     },
     "metadata": {},
     "output_type": "display_data"
    },
    {
     "data": {
      "text/plain": [
       "LexToken(Uri,'https://medlineplus.gov/diabetesmellitus.html',20,2067)"
      ]
     },
     "metadata": {},
     "output_type": "display_data"
    },
    {
     "data": {
      "text/plain": [
       "LexToken(IdKey,'id=',20,2115)"
      ]
     },
     "metadata": {},
     "output_type": "display_data"
    },
    {
     "data": {
      "text/plain": [
       "LexToken(Integer,45,20,2118)"
      ]
     },
     "metadata": {},
     "output_type": "display_data"
    },
    {
     "data": {
      "text/plain": [
       "LexToken(StartTagClose,'>',20,2122)"
      ]
     },
     "metadata": {},
     "output_type": "display_data"
    },
    {
     "data": {
      "text/plain": [
       "LexToken(Text,'Diabetes Mellitus',20,2123)"
      ]
     },
     "metadata": {},
     "output_type": "display_data"
    },
    {
     "data": {
      "text/plain": [
       "LexToken(GroupEndTag,'</group>',20,2140)"
      ]
     },
     "metadata": {},
     "output_type": "display_data"
    },
    {
     "data": {
      "text/plain": [
       "LexToken(LanguageMappedTopicStartTagOpen,'<language-mapped-topic',21,2151)"
      ]
     },
     "metadata": {},
     "output_type": "display_data"
    },
    {
     "data": {
      "text/plain": [
       "LexToken(UrlKey,'url=',21,2174)"
      ]
     },
     "metadata": {},
     "output_type": "display_data"
    },
    {
     "data": {
      "text/plain": [
       "LexToken(Uri,'https://medlineplus.gov/spanish/a1c.html',21,2178)"
      ]
     },
     "metadata": {},
     "output_type": "display_data"
    },
    {
     "data": {
      "text/plain": [
       "LexToken(IdKey,'id=',21,2221)"
      ]
     },
     "metadata": {},
     "output_type": "display_data"
    },
    {
     "data": {
      "text/plain": [
       "LexToken(Integer,6309,21,2224)"
      ]
     },
     "metadata": {},
     "output_type": "display_data"
    },
    {
     "data": {
      "text/plain": [
       "LexToken(LanguageKey,'language=',21,2231)"
      ]
     },
     "metadata": {},
     "output_type": "display_data"
    },
    {
     "data": {
      "text/plain": [
       "LexToken(Language,'Spanish',21,2240)"
      ]
     },
     "metadata": {},
     "output_type": "display_data"
    },
    {
     "data": {
      "text/plain": [
       "LexToken(StartTagClose,'>',21,2249)"
      ]
     },
     "metadata": {},
     "output_type": "display_data"
    },
    {
     "data": {
      "text/plain": [
       "LexToken(Text,'Prueba de hemoglobina glicosilada (HbA1c)',21,2250)"
      ]
     },
     "metadata": {},
     "output_type": "display_data"
    },
    {
     "data": {
      "text/plain": [
       "LexToken(LanguageMappedTopicEndTag,'</language-mapped-topic>',21,2291)"
      ]
     },
     "metadata": {},
     "output_type": "display_data"
    },
    {
     "data": {
      "text/plain": [
       "LexToken(MeshHeadingStartTagOpen,'<mesh-heading',22,2318)"
      ]
     },
     "metadata": {},
     "output_type": "display_data"
    },
    {
     "data": {
      "text/plain": [
       "LexToken(StartTagClose,'>',22,2331)"
      ]
     },
     "metadata": {},
     "output_type": "display_data"
    },
    {
     "data": {
      "text/plain": [
       "LexToken(DescriptorStartTagOpen,'<descriptor',23,2336)"
      ]
     },
     "metadata": {},
     "output_type": "display_data"
    },
    {
     "data": {
      "text/plain": [
       "LexToken(IdKey,'id=',23,2348)"
      ]
     },
     "metadata": {},
     "output_type": "display_data"
    },
    {
     "data": {
      "text/plain": [
       "LexToken(String,'\"D006442\"',23,2351)"
      ]
     },
     "metadata": {},
     "output_type": "display_data"
    },
    {
     "data": {
      "text/plain": [
       "LexToken(StartTagClose,'>',23,2360)"
      ]
     },
     "metadata": {},
     "output_type": "display_data"
    },
    {
     "data": {
      "text/plain": [
       "LexToken(Text,'Glycated Hemoglobin',23,2361)"
      ]
     },
     "metadata": {},
     "output_type": "display_data"
    },
    {
     "data": {
      "text/plain": [
       "LexToken(DescriptorEndTag,'</descriptor>',23,2380)"
      ]
     },
     "metadata": {},
     "output_type": "display_data"
    },
    {
     "data": {
      "text/plain": [
       "LexToken(MeshHeadingEndTag,'</mesh-heading>',24,2396)"
      ]
     },
     "metadata": {},
     "output_type": "display_data"
    },
    {
     "data": {
      "text/plain": [
       "LexToken(OtherLanguageStartTagOpen,'<other-language',25,2414)"
      ]
     },
     "metadata": {},
     "output_type": "display_data"
    },
    {
     "data": {
      "text/plain": [
       "LexToken(VernacularNameKey,'vernacular-name=',25,2430)"
      ]
     },
     "metadata": {},
     "output_type": "display_data"
    },
    {
     "data": {
      "text/plain": [
       "LexToken(String,'\"简体中文\"',25,2446)"
      ]
     },
     "metadata": {},
     "output_type": "display_data"
    },
    {
     "data": {
      "text/plain": [
       "LexToken(UrlKey,'url=',25,2453)"
      ]
     },
     "metadata": {},
     "output_type": "display_data"
    },
    {
     "data": {
      "text/plain": [
       "LexToken(Uri,'https://medlineplus.gov/languages/abortion.html#Chinese',25,2457)"
      ]
     },
     "metadata": {},
     "output_type": "display_data"
    },
    {
     "data": {
      "text/plain": [
       "LexToken(StartTagClose,'>',25,2545)"
      ]
     },
     "metadata": {},
     "output_type": "display_data"
    },
    {
     "data": {
      "text/plain": [
       "LexToken(Text,'Chinese, Simplified (Mandarin dialect)',25,2546)"
      ]
     },
     "metadata": {},
     "output_type": "display_data"
    },
    {
     "data": {
      "text/plain": [
       "LexToken(OtherLanguageEndTag,'</other-language>',25,2584)"
      ]
     },
     "metadata": {},
     "output_type": "display_data"
    },
    {
     "data": {
      "text/plain": [
       "LexToken(OtherLanguageStartTagOpen,'<other-language',26,2604)"
      ]
     },
     "metadata": {},
     "output_type": "display_data"
    },
    {
     "data": {
      "text/plain": [
       "LexToken(VernacularNameKey,'vernacular-name=',26,2620)"
      ]
     },
     "metadata": {},
     "output_type": "display_data"
    },
    {
     "data": {
      "text/plain": [
       "LexToken(String,'\"Tiếng Việt\"',26,2636)"
      ]
     },
     "metadata": {},
     "output_type": "display_data"
    },
    {
     "data": {
      "text/plain": [
       "LexToken(UrlKey,'url=',26,2649)"
      ]
     },
     "metadata": {},
     "output_type": "display_data"
    },
    {
     "data": {
      "text/plain": [
       "LexToken(Uri,'https://medlineplus.gov/languages/abortion.html#Vietnamese',26,2653)"
      ]
     },
     "metadata": {},
     "output_type": "display_data"
    },
    {
     "data": {
      "text/plain": [
       "LexToken(StartTagClose,'>',26,2713)"
      ]
     },
     "metadata": {},
     "output_type": "display_data"
    },
    {
     "data": {
      "text/plain": [
       "LexToken(Text,'Vietnamese',26,2714)"
      ]
     },
     "metadata": {},
     "output_type": "display_data"
    },
    {
     "data": {
      "text/plain": [
       "LexToken(OtherLanguageEndTag,'</other-language>',26,2724)"
      ]
     },
     "metadata": {},
     "output_type": "display_data"
    },
    {
     "data": {
      "text/plain": [
       "LexToken(OtherLanguageStartTagOpen,'<other-language',27,2744)"
      ]
     },
     "metadata": {},
     "output_type": "display_data"
    },
    {
     "data": {
      "text/plain": [
       "LexToken(VernacularNameKey,'vernacular-name=',27,2760)"
      ]
     },
     "metadata": {},
     "output_type": "display_data"
    },
    {
     "data": {
      "text/plain": [
       "LexToken(String,'\"español\"',27,2776)"
      ]
     },
     "metadata": {},
     "output_type": "display_data"
    },
    {
     "data": {
      "text/plain": [
       "LexToken(UrlKey,'url=',27,2786)"
      ]
     },
     "metadata": {},
     "output_type": "display_data"
    },
    {
     "data": {
      "text/plain": [
       "LexToken(Uri,'https://medlineplus.gov/spanish/a1c.html',27,2790)"
      ]
     },
     "metadata": {},
     "output_type": "display_data"
    },
    {
     "data": {
      "text/plain": [
       "LexToken(StartTagClose,'>',27,2832)"
      ]
     },
     "metadata": {},
     "output_type": "display_data"
    },
    {
     "data": {
      "text/plain": [
       "LexToken(Text,'Spanish',27,2833)"
      ]
     },
     "metadata": {},
     "output_type": "display_data"
    },
    {
     "data": {
      "text/plain": [
       "LexToken(OtherLanguageEndTag,'</other-language>',27,2840)"
      ]
     },
     "metadata": {},
     "output_type": "display_data"
    },
    {
     "data": {
      "text/plain": [
       "LexToken(PrimaryInstituteStartTagOpen,'<primary-institute',28,2860)"
      ]
     },
     "metadata": {},
     "output_type": "display_data"
    },
    {
     "data": {
      "text/plain": [
       "LexToken(UrlKey,'url=',28,2879)"
      ]
     },
     "metadata": {},
     "output_type": "display_data"
    },
    {
     "data": {
      "text/plain": [
       "LexToken(Uri,'https://www.niddk.nih.gov',28,2883)"
      ]
     },
     "metadata": {},
     "output_type": "display_data"
    },
    {
     "data": {
      "text/plain": [
       "LexToken(StartTagClose,'>',28,2910)"
      ]
     },
     "metadata": {},
     "output_type": "display_data"
    },
    {
     "data": {
      "text/plain": [
       "LexToken(Text,'National Institute of Diabetes and Digestive and Kidney Diseases',28,2911)"
      ]
     },
     "metadata": {},
     "output_type": "display_data"
    },
    {
     "data": {
      "text/plain": [
       "LexToken(PrimaryInstituteEndTag,'</primary-institute>',28,2975)"
      ]
     },
     "metadata": {},
     "output_type": "display_data"
    },
    {
     "data": {
      "text/plain": [
       "LexToken(SeeReferenceStartTagOpen,'<see-reference',29,2998)"
      ]
     },
     "metadata": {},
     "output_type": "display_data"
    },
    {
     "data": {
      "text/plain": [
       "LexToken(StartTagClose,'>',29,3012)"
      ]
     },
     "metadata": {},
     "output_type": "display_data"
    },
    {
     "data": {
      "text/plain": [
       "LexToken(Text,'Hemoglobin A1c',29,3013)"
      ]
     },
     "metadata": {},
     "output_type": "display_data"
    },
    {
     "data": {
      "text/plain": [
       "LexToken(SeeReferenceEndTag,'</see-reference>',29,3027)"
      ]
     },
     "metadata": {},
     "output_type": "display_data"
    },
    {
     "data": {
      "text/plain": [
       "LexToken(SiteStartTagOpen,'<site',30,3046)"
      ]
     },
     "metadata": {},
     "output_type": "display_data"
    },
    {
     "data": {
      "text/plain": [
       "LexToken(TitleKey,'title=',30,3052)"
      ]
     },
     "metadata": {},
     "output_type": "display_data"
    },
    {
     "data": {
      "text/plain": [
       "LexToken(String,'\"A1C and eAG\"',30,3058)"
      ]
     },
     "metadata": {},
     "output_type": "display_data"
    },
    {
     "data": {
      "text/plain": [
       "LexToken(UrlKey,'url=',30,3072)"
      ]
     },
     "metadata": {},
     "output_type": "display_data"
    },
    {
     "data": {
      "text/plain": [
       "LexToken(Uri,'https://diabetes.org/a1c-eag-conversion-calculator',30,3076)"
      ]
     },
     "metadata": {},
     "output_type": "display_data"
    },
    {
     "data": {
      "text/plain": [
       "LexToken(LanguageMappedUrlKey,'language-mapped-url=',30,3129)"
      ]
     },
     "metadata": {},
     "output_type": "display_data"
    },
    {
     "data": {
      "text/plain": [
       "LexToken(Uri,'http://www.diabetes.org/es/vivir-con-diabetes/tratamiento-y-cuidado/el-control-de-la-glucosa-en-la-sangre/a1c-y-eag.html?loc=lwd-es-slabnav',30,3149)"
      ]
     },
     "metadata": {},
     "output_type": "display_data"
    },
    {
     "data": {
      "text/plain": [
       "LexToken(StartTagClose,'>',30,3290)"
      ]
     },
     "metadata": {},
     "output_type": "display_data"
    },
    {
     "data": {
      "text/plain": [
       "LexToken(InformationCategoryStartTagOpen,'<information-category',31,3295)"
      ]
     },
     "metadata": {},
     "output_type": "display_data"
    },
    {
     "data": {
      "text/plain": [
       "LexToken(StartTagClose,'>',31,3316)"
      ]
     },
     "metadata": {},
     "output_type": "display_data"
    },
    {
     "data": {
      "text/plain": [
       "LexToken(Text,'Learn More',31,3317)"
      ]
     },
     "metadata": {},
     "output_type": "display_data"
    },
    {
     "data": {
      "text/plain": [
       "LexToken(InformationCategoryEndTag,'</information-category>',31,3327)"
      ]
     },
     "metadata": {},
     "output_type": "display_data"
    },
    {
     "data": {
      "text/plain": [
       "LexToken(OrganizationStartTagOpen,'<organization',32,3354)"
      ]
     },
     "metadata": {},
     "output_type": "display_data"
    },
    {
     "data": {
      "text/plain": [
       "LexToken(StartTagClose,'>',32,3367)"
      ]
     },
     "metadata": {},
     "output_type": "display_data"
    },
    {
     "data": {
      "text/plain": [
       "LexToken(Text,'American Diabetes Association',32,3368)"
      ]
     },
     "metadata": {},
     "output_type": "display_data"
    },
    {
     "data": {
      "text/plain": [
       "LexToken(OrganizationEndTag,'</organization>',32,3397)"
      ]
     },
     "metadata": {},
     "output_type": "display_data"
    },
    {
     "data": {
      "text/plain": [
       "LexToken(SiteEndTag,'</site>',33,3415)"
      ]
     },
     "metadata": {},
     "output_type": "display_data"
    },
    {
     "data": {
      "text/plain": [
       "LexToken(SiteStartTagOpen,'<site',34,3425)"
      ]
     },
     "metadata": {},
     "output_type": "display_data"
    },
    {
     "data": {
      "text/plain": [
       "LexToken(TitleKey,'title=',34,3431)"
      ]
     },
     "metadata": {},
     "output_type": "display_data"
    },
    {
     "data": {
      "text/plain": [
       "LexToken(String,'\"A1C test\"',34,3437)"
      ]
     },
     "metadata": {},
     "output_type": "display_data"
    },
    {
     "data": {
      "text/plain": [
       "LexToken(UrlKey,'url=',34,3448)"
      ]
     },
     "metadata": {},
     "output_type": "display_data"
    },
    {
     "data": {
      "text/plain": [
       "LexToken(Uri,'https://medlineplus.gov/ency/article/003640.htm',34,3452)"
      ]
     },
     "metadata": {},
     "output_type": "display_data"
    },
    {
     "data": {
      "text/plain": [
       "LexToken(LanguageMappedUrlKey,'language-mapped-url=',34,3502)"
      ]
     },
     "metadata": {},
     "output_type": "display_data"
    },
    {
     "data": {
      "text/plain": [
       "LexToken(Uri,'https://medlineplus.gov/spanish/ency/article/003640.htm',34,3522)"
      ]
     },
     "metadata": {},
     "output_type": "display_data"
    },
    {
     "data": {
      "text/plain": [
       "LexToken(StartTagClose,'>',34,3579)"
      ]
     },
     "metadata": {},
     "output_type": "display_data"
    },
    {
     "data": {
      "text/plain": [
       "LexToken(InformationCategoryStartTagOpen,'<information-category',35,3584)"
      ]
     },
     "metadata": {},
     "output_type": "display_data"
    },
    {
     "data": {
      "text/plain": [
       "LexToken(StartTagClose,'>',35,3605)"
      ]
     },
     "metadata": {},
     "output_type": "display_data"
    },
    {
     "data": {
      "text/plain": [
       "LexToken(Text,'Patient Handouts',35,3606)"
      ]
     },
     "metadata": {},
     "output_type": "display_data"
    },
    {
     "data": {
      "text/plain": [
       "LexToken(InformationCategoryEndTag,'</information-category>',35,3622)"
      ]
     },
     "metadata": {},
     "output_type": "display_data"
    },
    {
     "data": {
      "text/plain": [
       "LexToken(OrganizationStartTagOpen,'<organization',36,3649)"
      ]
     },
     "metadata": {},
     "output_type": "display_data"
    },
    {
     "data": {
      "text/plain": [
       "LexToken(StartTagClose,'>',36,3662)"
      ]
     },
     "metadata": {},
     "output_type": "display_data"
    },
    {
     "data": {
      "text/plain": [
       "LexToken(Text,'Medical Encyclopedia',36,3663)"
      ]
     },
     "metadata": {},
     "output_type": "display_data"
    },
    {
     "data": {
      "text/plain": [
       "LexToken(OrganizationEndTag,'</organization>',36,3683)"
      ]
     },
     "metadata": {},
     "output_type": "display_data"
    },
    {
     "data": {
      "text/plain": [
       "LexToken(SiteEndTag,'</site>',37,3701)"
      ]
     },
     "metadata": {},
     "output_type": "display_data"
    },
    {
     "data": {
      "text/plain": [
       "LexToken(SiteStartTagOpen,'<site',38,3711)"
      ]
     },
     "metadata": {},
     "output_type": "display_data"
    },
    {
     "data": {
      "text/plain": [
       "LexToken(TitleKey,'title=',38,3717)"
      ]
     },
     "metadata": {},
     "output_type": "display_data"
    },
    {
     "data": {
      "text/plain": [
       "LexToken(String,'\"A1C Test and Diabetes\"',38,3723)"
      ]
     },
     "metadata": {},
     "output_type": "display_data"
    },
    {
     "data": {
      "text/plain": [
       "LexToken(UrlKey,'url=',38,3747)"
      ]
     },
     "metadata": {},
     "output_type": "display_data"
    },
    {
     "data": {
      "text/plain": [
       "LexToken(Uri,'https://www.niddk.nih.gov/health-information/diagnostic-tests/a1c-test',38,3751)"
      ]
     },
     "metadata": {},
     "output_type": "display_data"
    },
    {
     "data": {
      "text/plain": [
       "LexToken(LanguageMappedUrlKey,'language-mapped-url=',38,3824)"
      ]
     },
     "metadata": {},
     "output_type": "display_data"
    },
    {
     "data": {
      "text/plain": [
       "LexToken(Uri,'https://www.niddk.nih.gov/health-information/informacion-de-la-salud/pruebas-diagnosticas/prueba-a1c-diabetes',38,3844)"
      ]
     },
     "metadata": {},
     "output_type": "display_data"
    },
    {
     "data": {
      "text/plain": [
       "LexToken(StartTagClose,'>',38,3955)"
      ]
     },
     "metadata": {},
     "output_type": "display_data"
    },
    {
     "data": {
      "text/plain": [
       "LexToken(InformationCategoryStartTagOpen,'<information-category',39,3960)"
      ]
     },
     "metadata": {},
     "output_type": "display_data"
    },
    {
     "data": {
      "text/plain": [
       "LexToken(StartTagClose,'>',39,3981)"
      ]
     },
     "metadata": {},
     "output_type": "display_data"
    },
    {
     "data": {
      "text/plain": [
       "LexToken(Text,'Learn More',39,3982)"
      ]
     },
     "metadata": {},
     "output_type": "display_data"
    },
    {
     "data": {
      "text/plain": [
       "LexToken(InformationCategoryEndTag,'</information-category>',39,3992)"
      ]
     },
     "metadata": {},
     "output_type": "display_data"
    },
    {
     "data": {
      "text/plain": [
       "LexToken(OrganizationStartTagOpen,'<organization',40,4019)"
      ]
     },
     "metadata": {},
     "output_type": "display_data"
    },
    {
     "data": {
      "text/plain": [
       "LexToken(StartTagClose,'>',40,4032)"
      ]
     },
     "metadata": {},
     "output_type": "display_data"
    },
    {
     "data": {
      "text/plain": [
       "LexToken(Text,'National Institute of Diabetes and Digestive and Kidney Diseases',40,4033)"
      ]
     },
     "metadata": {},
     "output_type": "display_data"
    },
    {
     "data": {
      "text/plain": [
       "LexToken(OrganizationEndTag,'</organization>',40,4097)"
      ]
     },
     "metadata": {},
     "output_type": "display_data"
    },
    {
     "data": {
      "text/plain": [
       "LexToken(StandardDescriptionStartTagOpen,'<standard-description',41,4116)"
      ]
     },
     "metadata": {},
     "output_type": "display_data"
    },
    {
     "data": {
      "text/plain": [
       "LexToken(StartTagClose,'>',41,4137)"
      ]
     },
     "metadata": {},
     "output_type": "display_data"
    },
    {
     "data": {
      "text/plain": [
       "LexToken(Text,'NIH',41,4138)"
      ]
     },
     "metadata": {},
     "output_type": "display_data"
    },
    {
     "data": {
      "text/plain": [
       "LexToken(StandardDescriptionEndTag,'</standard-description>',41,4141)"
      ]
     },
     "metadata": {},
     "output_type": "display_data"
    },
    {
     "data": {
      "text/plain": [
       "LexToken(SiteEndTag,'</site>',42,4167)"
      ]
     },
     "metadata": {},
     "output_type": "display_data"
    },
    {
     "data": {
      "text/plain": [
       "LexToken(SiteStartTagOpen,'<site',43,4177)"
      ]
     },
     "metadata": {},
     "output_type": "display_data"
    },
    {
     "data": {
      "text/plain": [
       "LexToken(TitleKey,'title=',43,4183)"
      ]
     },
     "metadata": {},
     "output_type": "display_data"
    },
    {
     "data": {
      "text/plain": [
       "LexToken(String,'\"A1C Test and Race/Ethnicity\"',43,4189)"
      ]
     },
     "metadata": {},
     "output_type": "display_data"
    },
    {
     "data": {
      "text/plain": [
       "LexToken(UrlKey,'url=',43,4219)"
      ]
     },
     "metadata": {},
     "output_type": "display_data"
    },
    {
     "data": {
      "text/plain": [
       "LexToken(Uri,'https://www.niddk.nih.gov/health-information/diagnostic-tests/a1c-test-race-ethnicity',43,4223)"
      ]
     },
     "metadata": {},
     "output_type": "display_data"
    },
    {
     "data": {
      "text/plain": [
       "LexToken(StartTagClose,'>',43,4310)"
      ]
     },
     "metadata": {},
     "output_type": "display_data"
    },
    {
     "data": {
      "text/plain": [
       "LexToken(InformationCategoryStartTagOpen,'<information-category',44,4315)"
      ]
     },
     "metadata": {},
     "output_type": "display_data"
    },
    {
     "data": {
      "text/plain": [
       "LexToken(StartTagClose,'>',44,4336)"
      ]
     },
     "metadata": {},
     "output_type": "display_data"
    },
    {
     "data": {
      "text/plain": [
       "LexToken(Text,'Learn More',44,4337)"
      ]
     },
     "metadata": {},
     "output_type": "display_data"
    },
    {
     "data": {
      "text/plain": [
       "LexToken(InformationCategoryEndTag,'</information-category>',44,4347)"
      ]
     },
     "metadata": {},
     "output_type": "display_data"
    },
    {
     "data": {
      "text/plain": [
       "LexToken(OrganizationStartTagOpen,'<organization',45,4374)"
      ]
     },
     "metadata": {},
     "output_type": "display_data"
    },
    {
     "data": {
      "text/plain": [
       "LexToken(StartTagClose,'>',45,4387)"
      ]
     },
     "metadata": {},
     "output_type": "display_data"
    },
    {
     "data": {
      "text/plain": [
       "LexToken(Text,'National Institute of Diabetes and Digestive and Kidney Diseases',45,4388)"
      ]
     },
     "metadata": {},
     "output_type": "display_data"
    },
    {
     "data": {
      "text/plain": [
       "LexToken(OrganizationEndTag,'</organization>',45,4452)"
      ]
     },
     "metadata": {},
     "output_type": "display_data"
    },
    {
     "data": {
      "text/plain": [
       "LexToken(StandardDescriptionStartTagOpen,'<standard-description',46,4471)"
      ]
     },
     "metadata": {},
     "output_type": "display_data"
    },
    {
     "data": {
      "text/plain": [
       "LexToken(StartTagClose,'>',46,4492)"
      ]
     },
     "metadata": {},
     "output_type": "display_data"
    },
    {
     "data": {
      "text/plain": [
       "LexToken(Text,'NIH',46,4493)"
      ]
     },
     "metadata": {},
     "output_type": "display_data"
    },
    {
     "data": {
      "text/plain": [
       "LexToken(StandardDescriptionEndTag,'</standard-description>',46,4496)"
      ]
     },
     "metadata": {},
     "output_type": "display_data"
    },
    {
     "data": {
      "text/plain": [
       "LexToken(SiteEndTag,'</site>',47,4522)"
      ]
     },
     "metadata": {},
     "output_type": "display_data"
    },
    {
     "data": {
      "text/plain": [
       "LexToken(SiteStartTagOpen,'<site',48,4532)"
      ]
     },
     "metadata": {},
     "output_type": "display_data"
    },
    {
     "data": {
      "text/plain": [
       "LexToken(TitleKey,'title=',48,4538)"
      ]
     },
     "metadata": {},
     "output_type": "display_data"
    },
    {
     "data": {
      "text/plain": [
       "LexToken(String,'\"ClinicalTrials.gov: Hemoglobin A1C\"',48,4544)"
      ]
     },
     "metadata": {},
     "output_type": "display_data"
    },
    {
     "data": {
      "text/plain": [
       "LexToken(UrlKey,'url=',48,4581)"
      ]
     },
     "metadata": {},
     "output_type": "display_data"
    },
    {
     "data": {
      "text/plain": [
       "LexToken(Uri,'https://clinicaltrials.gov/search?intr=%22Hemoglobin+A1C%22&amp;aggFilters=status:not%20rec',48,4585)"
      ]
     },
     "metadata": {},
     "output_type": "display_data"
    },
    {
     "data": {
      "text/plain": [
       "LexToken(StartTagClose,'>',48,4678)"
      ]
     },
     "metadata": {},
     "output_type": "display_data"
    },
    {
     "data": {
      "text/plain": [
       "LexToken(InformationCategoryStartTagOpen,'<information-category',49,4683)"
      ]
     },
     "metadata": {},
     "output_type": "display_data"
    },
    {
     "data": {
      "text/plain": [
       "LexToken(StartTagClose,'>',49,4704)"
      ]
     },
     "metadata": {},
     "output_type": "display_data"
    },
    {
     "data": {
      "text/plain": [
       "LexToken(Text,'Clinical Trials',49,4705)"
      ]
     },
     "metadata": {},
     "output_type": "display_data"
    },
    {
     "data": {
      "text/plain": [
       "LexToken(InformationCategoryEndTag,'</information-category>',49,4720)"
      ]
     },
     "metadata": {},
     "output_type": "display_data"
    },
    {
     "data": {
      "text/plain": [
       "LexToken(OrganizationStartTagOpen,'<organization',50,4747)"
      ]
     },
     "metadata": {},
     "output_type": "display_data"
    },
    {
     "data": {
      "text/plain": [
       "LexToken(StartTagClose,'>',50,4760)"
      ]
     },
     "metadata": {},
     "output_type": "display_data"
    },
    {
     "data": {
      "text/plain": [
       "LexToken(Text,'National Institutes of Health',50,4761)"
      ]
     },
     "metadata": {},
     "output_type": "display_data"
    },
    {
     "data": {
      "text/plain": [
       "LexToken(OrganizationEndTag,'</organization>',50,4790)"
      ]
     },
     "metadata": {},
     "output_type": "display_data"
    },
    {
     "data": {
      "text/plain": [
       "LexToken(StandardDescriptionStartTagOpen,'<standard-description',51,4809)"
      ]
     },
     "metadata": {},
     "output_type": "display_data"
    },
    {
     "data": {
      "text/plain": [
       "LexToken(StartTagClose,'>',51,4830)"
      ]
     },
     "metadata": {},
     "output_type": "display_data"
    },
    {
     "data": {
      "text/plain": [
       "LexToken(Text,'NIH',51,4831)"
      ]
     },
     "metadata": {},
     "output_type": "display_data"
    },
    {
     "data": {
      "text/plain": [
       "LexToken(StandardDescriptionEndTag,'</standard-description>',51,4834)"
      ]
     },
     "metadata": {},
     "output_type": "display_data"
    },
    {
     "data": {
      "text/plain": [
       "LexToken(SiteEndTag,'</site>',52,4860)"
      ]
     },
     "metadata": {},
     "output_type": "display_data"
    },
    {
     "data": {
      "text/plain": [
       "LexToken(SiteStartTagOpen,'<site',53,4870)"
      ]
     },
     "metadata": {},
     "output_type": "display_data"
    },
    {
     "data": {
      "text/plain": [
       "LexToken(TitleKey,'title=',53,4876)"
      ]
     },
     "metadata": {},
     "output_type": "display_data"
    },
    {
     "data": {
      "text/plain": [
       "LexToken(String,'\"Hemoglobin A1C (HbA1c) Test\"',53,4882)"
      ]
     },
     "metadata": {},
     "output_type": "display_data"
    },
    {
     "data": {
      "text/plain": [
       "LexToken(UrlKey,'url=',53,4912)"
      ]
     },
     "metadata": {},
     "output_type": "display_data"
    },
    {
     "data": {
      "text/plain": [
       "LexToken(Uri,'https://medlineplus.gov/lab-tests/hemoglobin-a1c-hba1c-test/',53,4916)"
      ]
     },
     "metadata": {},
     "output_type": "display_data"
    },
    {
     "data": {
      "text/plain": [
       "LexToken(LanguageMappedUrlKey,'language-mapped-url=',53,4979)"
      ]
     },
     "metadata": {},
     "output_type": "display_data"
    },
    {
     "data": {
      "text/plain": [
       "LexToken(Uri,'https://medlineplus.gov/spanish/pruebas-de-laboratorio/prueba-de-hemoglobina-a1c/',53,4999)"
      ]
     },
     "metadata": {},
     "output_type": "display_data"
    },
    {
     "data": {
      "text/plain": [
       "LexToken(StartTagClose,'>',53,5082)"
      ]
     },
     "metadata": {},
     "output_type": "display_data"
    },
    {
     "data": {
      "text/plain": [
       "LexToken(InformationCategoryStartTagOpen,'<information-category',54,5087)"
      ]
     },
     "metadata": {},
     "output_type": "display_data"
    },
    {
     "data": {
      "text/plain": [
       "LexToken(StartTagClose,'>',54,5108)"
      ]
     },
     "metadata": {},
     "output_type": "display_data"
    },
    {
     "data": {
      "text/plain": [
       "LexToken(Text,'Learn More',54,5109)"
      ]
     },
     "metadata": {},
     "output_type": "display_data"
    },
    {
     "data": {
      "text/plain": [
       "LexToken(InformationCategoryEndTag,'</information-category>',54,5119)"
      ]
     },
     "metadata": {},
     "output_type": "display_data"
    },
    {
     "data": {
      "text/plain": [
       "LexToken(OrganizationStartTagOpen,'<organization',55,5146)"
      ]
     },
     "metadata": {},
     "output_type": "display_data"
    },
    {
     "data": {
      "text/plain": [
       "LexToken(StartTagClose,'>',55,5159)"
      ]
     },
     "metadata": {},
     "output_type": "display_data"
    },
    {
     "data": {
      "text/plain": [
       "LexToken(Text,'National Library of Medicine',55,5160)"
      ]
     },
     "metadata": {},
     "output_type": "display_data"
    },
    {
     "data": {
      "text/plain": [
       "LexToken(OrganizationEndTag,'</organization>',55,5188)"
      ]
     },
     "metadata": {},
     "output_type": "display_data"
    },
    {
     "data": {
      "text/plain": [
       "LexToken(StandardDescriptionStartTagOpen,'<standard-description',56,5207)"
      ]
     },
     "metadata": {},
     "output_type": "display_data"
    },
    {
     "data": {
      "text/plain": [
       "LexToken(StartTagClose,'>',56,5228)"
      ]
     },
     "metadata": {},
     "output_type": "display_data"
    },
    {
     "data": {
      "text/plain": [
       "LexToken(Text,'NIH',56,5229)"
      ]
     },
     "metadata": {},
     "output_type": "display_data"
    },
    {
     "data": {
      "text/plain": [
       "LexToken(StandardDescriptionEndTag,'</standard-description>',56,5232)"
      ]
     },
     "metadata": {},
     "output_type": "display_data"
    },
    {
     "data": {
      "text/plain": [
       "LexToken(SiteEndTag,'</site>',57,5258)"
      ]
     },
     "metadata": {},
     "output_type": "display_data"
    },
    {
     "data": {
      "text/plain": [
       "LexToken(SiteStartTagOpen,'<site',58,5268)"
      ]
     },
     "metadata": {},
     "output_type": "display_data"
    },
    {
     "data": {
      "text/plain": [
       "LexToken(TitleKey,'title=',58,5274)"
      ]
     },
     "metadata": {},
     "output_type": "display_data"
    },
    {
     "data": {
      "text/plain": [
       "LexToken(String,'\"A1C\"',58,5280)"
      ]
     },
     "metadata": {},
     "output_type": "display_data"
    },
    {
     "data": {
      "text/plain": [
       "LexToken(UrlKey,'url=',58,5286)"
      ]
     },
     "metadata": {},
     "output_type": "display_data"
    },
    {
     "data": {
      "text/plain": [
       "LexToken(Uri,'https://pubmed.ncbi.nlm.nih.gov/?term=%22Glycated+Hemoglobin%22%5Bmajr%3Anoexp%5D+AND+humans%5Bmh%5D+AND+english%5Bla%5D+AND+%22last+1+Year%22+%5Bedat%5D+NOT+%28letter%5Bpt%5D+OR+case+reports%5Bpt%5D+OR+editorial%5Bpt%5D+OR+comment%5Bpt%5D%29+AND+free+full+text%5Bsb%5D+',58,5290)"
      ]
     },
     "metadata": {},
     "output_type": "display_data"
    },
    {
     "data": {
      "text/plain": [
       "LexToken(StartTagClose,'>',58,5562)"
      ]
     },
     "metadata": {},
     "output_type": "display_data"
    },
    {
     "data": {
      "text/plain": [
       "LexToken(InformationCategoryStartTagOpen,'<information-category',59,5567)"
      ]
     },
     "metadata": {},
     "output_type": "display_data"
    },
    {
     "data": {
      "text/plain": [
       "LexToken(StartTagClose,'>',59,5588)"
      ]
     },
     "metadata": {},
     "output_type": "display_data"
    },
    {
     "data": {
      "text/plain": [
       "LexToken(Text,'Journal Articles',59,5589)"
      ]
     },
     "metadata": {},
     "output_type": "display_data"
    },
    {
     "data": {
      "text/plain": [
       "LexToken(InformationCategoryEndTag,'</information-category>',59,5605)"
      ]
     },
     "metadata": {},
     "output_type": "display_data"
    },
    {
     "data": {
      "text/plain": [
       "LexToken(SiteEndTag,'</site>',60,5631)"
      ]
     },
     "metadata": {},
     "output_type": "display_data"
    },
    {
     "data": {
      "text/plain": [
       "LexToken(SiteStartTagOpen,'<site',61,5641)"
      ]
     },
     "metadata": {},
     "output_type": "display_data"
    },
    {
     "data": {
      "text/plain": [
       "LexToken(TitleKey,'title=',61,5647)"
      ]
     },
     "metadata": {},
     "output_type": "display_data"
    },
    {
     "data": {
      "text/plain": [
       "LexToken(String,'\"Understanding A1C\"',61,5653)"
      ]
     },
     "metadata": {},
     "output_type": "display_data"
    },
    {
     "data": {
      "text/plain": [
       "LexToken(UrlKey,'url=',61,5673)"
      ]
     },
     "metadata": {},
     "output_type": "display_data"
    },
    {
     "data": {
      "text/plain": [
       "LexToken(Uri,'https://diabetes.org/about-diabetes/a1c',61,5677)"
      ]
     },
     "metadata": {},
     "output_type": "display_data"
    },
    {
     "data": {
      "text/plain": [
       "LexToken(StartTagClose,'>',61,5718)"
      ]
     },
     "metadata": {},
     "output_type": "display_data"
    },
    {
     "data": {
      "text/plain": [
       "LexToken(InformationCategoryStartTagOpen,'<information-category',62,5723)"
      ]
     },
     "metadata": {},
     "output_type": "display_data"
    },
    {
     "data": {
      "text/plain": [
       "LexToken(StartTagClose,'>',62,5744)"
      ]
     },
     "metadata": {},
     "output_type": "display_data"
    },
    {
     "data": {
      "text/plain": [
       "LexToken(Text,'Learn More',62,5745)"
      ]
     },
     "metadata": {},
     "output_type": "display_data"
    },
    {
     "data": {
      "text/plain": [
       "LexToken(InformationCategoryEndTag,'</information-category>',62,5755)"
      ]
     },
     "metadata": {},
     "output_type": "display_data"
    },
    {
     "data": {
      "text/plain": [
       "LexToken(OrganizationStartTagOpen,'<organization',63,5782)"
      ]
     },
     "metadata": {},
     "output_type": "display_data"
    },
    {
     "data": {
      "text/plain": [
       "LexToken(StartTagClose,'>',63,5795)"
      ]
     },
     "metadata": {},
     "output_type": "display_data"
    },
    {
     "data": {
      "text/plain": [
       "LexToken(Text,'American Diabetes Association',63,5796)"
      ]
     },
     "metadata": {},
     "output_type": "display_data"
    },
    {
     "data": {
      "text/plain": [
       "LexToken(OrganizationEndTag,'</organization>',63,5825)"
      ]
     },
     "metadata": {},
     "output_type": "display_data"
    },
    {
     "data": {
      "text/plain": [
       "LexToken(SiteEndTag,'</site>',64,5843)"
      ]
     },
     "metadata": {},
     "output_type": "display_data"
    },
    {
     "data": {
      "text/plain": [
       "LexToken(HealthTopicEndTag,'</health-topic>',65,5852)"
      ]
     },
     "metadata": {},
     "output_type": "display_data"
    },
    {
     "data": {
      "text/plain": [
       "LexToken(HealthTopicStartTagOpen,'<health-topic',66,5869)"
      ]
     },
     "metadata": {},
     "output_type": "display_data"
    },
    {
     "data": {
      "text/plain": [
       "LexToken(MetaDescKey,'meta-desc=',66,5883)"
      ]
     },
     "metadata": {},
     "output_type": "display_data"
    },
    {
     "data": {
      "text/plain": [
       "LexToken(String,'\"Stomach aches can be painful. Find out what might be the cause of your abdominal pain. \"',66,5893)"
      ]
     },
     "metadata": {},
     "output_type": "display_data"
    },
    {
     "data": {
      "text/plain": [
       "LexToken(TitleKey,'title=',66,5983)"
      ]
     },
     "metadata": {},
     "output_type": "display_data"
    },
    {
     "data": {
      "text/plain": [
       "LexToken(String,'\"Abdominal Pain\"',66,5989)"
      ]
     },
     "metadata": {},
     "output_type": "display_data"
    },
    {
     "data": {
      "text/plain": [
       "LexToken(UrlKey,'url=',66,6006)"
      ]
     },
     "metadata": {},
     "output_type": "display_data"
    },
    {
     "data": {
      "text/plain": [
       "LexToken(Uri,'https://medlineplus.gov/abdominalpain.html',66,6010)"
      ]
     },
     "metadata": {},
     "output_type": "display_data"
    },
    {
     "data": {
      "text/plain": [
       "LexToken(IdKey,'id=',66,6055)"
      ]
     },
     "metadata": {},
     "output_type": "display_data"
    },
    {
     "data": {
      "text/plain": [
       "LexToken(Integer,3061,66,6058)"
      ]
     },
     "metadata": {},
     "output_type": "display_data"
    },
    {
     "data": {
      "text/plain": [
       "LexToken(LanguageKey,'language=',66,6065)"
      ]
     },
     "metadata": {},
     "output_type": "display_data"
    },
    {
     "data": {
      "text/plain": [
       "LexToken(Language,'English',66,6074)"
      ]
     },
     "metadata": {},
     "output_type": "display_data"
    },
    {
     "data": {
      "text/plain": [
       "LexToken(DateCreatedKey,'date-created=',66,6084)"
      ]
     },
     "metadata": {},
     "output_type": "display_data"
    },
    {
     "data": {
      "text/plain": [
       "LexToken(Date,datetime.date(2003, 1, 7),66,6097)"
      ]
     },
     "metadata": {},
     "output_type": "display_data"
    },
    {
     "data": {
      "text/plain": [
       "LexToken(StartTagClose,'>',66,6109)"
      ]
     },
     "metadata": {},
     "output_type": "display_data"
    },
    {
     "data": {
      "text/plain": [
       "LexToken(AlsoCalledStartTagOpen,'<also-called',67,6113)"
      ]
     },
     "metadata": {},
     "output_type": "display_data"
    },
    {
     "data": {
      "text/plain": [
       "LexToken(StartTagClose,'>',67,6125)"
      ]
     },
     "metadata": {},
     "output_type": "display_data"
    },
    {
     "data": {
      "text/plain": [
       "LexToken(Text,'Bellyache',67,6126)"
      ]
     },
     "metadata": {},
     "output_type": "display_data"
    },
    {
     "data": {
      "text/plain": [
       "LexToken(AlsoCalledEndTag,'</also-called>',67,6135)"
      ]
     },
     "metadata": {},
     "output_type": "display_data"
    },
    {
     "data": {
      "text/plain": [
       "LexToken(FullSummaryStartTagOpen,'<full-summary',68,6152)"
      ]
     },
     "metadata": {},
     "output_type": "display_data"
    },
    {
     "data": {
      "text/plain": [
       "LexToken(StartTagClose,'>',68,6165)"
      ]
     },
     "metadata": {},
     "output_type": "display_data"
    },
    {
     "data": {
      "text/plain": [
       "LexToken(ParagraphStartTagOpen,'<p',68,6166)"
      ]
     },
     "metadata": {},
     "output_type": "display_data"
    },
    {
     "data": {
      "text/plain": [
       "LexToken(StartTagClose,'>',68,6168)"
      ]
     },
     "metadata": {},
     "output_type": "display_data"
    },
    {
     "data": {
      "text/plain": [
       "LexToken(Text,\"Your abdomen extends from below your chest to your groin. Some people call it the stomach, but your abdomen contains many other important organs. Pain in the abdomen can come from any one of them. The pain may start somewhere else, such as your chest. Severe pain doesn't always mean a serious problem. Nor does mild pain mean a problem is not serious. \",68,6169)"
      ]
     },
     "metadata": {},
     "output_type": "display_data"
    },
    {
     "data": {
      "text/plain": [
       "LexToken(ParagraphEndTag,'</p>',68,6522)"
      ]
     },
     "metadata": {},
     "output_type": "display_data"
    },
    {
     "data": {
      "text/plain": [
       "LexToken(ParagraphStartTagOpen,'<p',70,6528)"
      ]
     },
     "metadata": {},
     "output_type": "display_data"
    },
    {
     "data": {
      "text/plain": [
       "LexToken(StartTagClose,'>',70,6530)"
      ]
     },
     "metadata": {},
     "output_type": "display_data"
    },
    {
     "data": {
      "text/plain": [
       "LexToken(Text,'Call your health care provider if mild pain lasts a week or more or if you have pain with other symptoms. Get medical help immediately if:',70,6531)"
      ]
     },
     "metadata": {},
     "output_type": "display_data"
    },
    {
     "data": {
      "text/plain": [
       "LexToken(ParagraphEndTag,'</p>',70,6669)"
      ]
     },
     "metadata": {},
     "output_type": "display_data"
    },
    {
     "data": {
      "text/plain": [
       "LexToken(UnorderedListStartTagOpen,'<ul',70,6673)"
      ]
     },
     "metadata": {},
     "output_type": "display_data"
    },
    {
     "data": {
      "text/plain": [
       "LexToken(StartTagClose,'>',70,6676)"
      ]
     },
     "metadata": {},
     "output_type": "display_data"
    },
    {
     "data": {
      "text/plain": [
       "LexToken(ListItemStartTagOpen,'<li',71,6678)"
      ]
     },
     "metadata": {},
     "output_type": "display_data"
    },
    {
     "data": {
      "text/plain": [
       "LexToken(StartTagClose,'>',71,6681)"
      ]
     },
     "metadata": {},
     "output_type": "display_data"
    },
    {
     "data": {
      "text/plain": [
       "LexToken(Text,'You have abdominal pain that is sudden and sharp',71,6683)"
      ]
     },
     "metadata": {},
     "output_type": "display_data"
    },
    {
     "data": {
      "text/plain": [
       "LexToken(ListItemEndTag,'</li>',71,6731)"
      ]
     },
     "metadata": {},
     "output_type": "display_data"
    },
    {
     "data": {
      "text/plain": [
       "LexToken(ListItemStartTagOpen,'<li',72,6737)"
      ]
     },
     "metadata": {},
     "output_type": "display_data"
    },
    {
     "data": {
      "text/plain": [
       "LexToken(StartTagClose,'>',72,6740)"
      ]
     },
     "metadata": {},
     "output_type": "display_data"
    },
    {
     "data": {
      "text/plain": [
       "LexToken(Text,'You also have pain in your chest, neck or shoulder ',72,6741)"
      ]
     },
     "metadata": {},
     "output_type": "display_data"
    },
    {
     "data": {
      "text/plain": [
       "LexToken(ListItemEndTag,'</li>',72,6792)"
      ]
     },
     "metadata": {},
     "output_type": "display_data"
    },
    {
     "data": {
      "text/plain": [
       "LexToken(ListItemStartTagOpen,'<li',73,6798)"
      ]
     },
     "metadata": {},
     "output_type": "display_data"
    },
    {
     "data": {
      "text/plain": [
       "LexToken(StartTagClose,'>',73,6801)"
      ]
     },
     "metadata": {},
     "output_type": "display_data"
    },
    {
     "data": {
      "text/plain": [
       "LexToken(Text,\"You're vomiting blood or have blood in your stool \",73,6803)"
      ]
     },
     "metadata": {},
     "output_type": "display_data"
    },
    {
     "data": {
      "text/plain": [
       "LexToken(ListItemEndTag,'</li>',73,6853)"
      ]
     },
     "metadata": {},
     "output_type": "display_data"
    },
    {
     "data": {
      "text/plain": [
       "LexToken(ListItemStartTagOpen,'<li',74,6859)"
      ]
     },
     "metadata": {},
     "output_type": "display_data"
    },
    {
     "data": {
      "text/plain": [
       "LexToken(StartTagClose,'>',74,6862)"
      ]
     },
     "metadata": {},
     "output_type": "display_data"
    },
    {
     "data": {
      "text/plain": [
       "LexToken(Text,'Your abdomen is stiff, hard and tender to touch ',74,6864)"
      ]
     },
     "metadata": {},
     "output_type": "display_data"
    },
    {
     "data": {
      "text/plain": [
       "LexToken(ListItemEndTag,'</li>',74,6912)"
      ]
     },
     "metadata": {},
     "output_type": "display_data"
    },
    {
     "data": {
      "text/plain": [
       "LexToken(ListItemStartTagOpen,'<li',75,6918)"
      ]
     },
     "metadata": {},
     "output_type": "display_data"
    },
    {
     "data": {
      "text/plain": [
       "LexToken(StartTagClose,'>',75,6921)"
      ]
     },
     "metadata": {},
     "output_type": "display_data"
    },
    {
     "data": {
      "text/plain": [
       "LexToken(Text,\"You can't move your bowels, especially if you're also vomiting \",75,6922)"
      ]
     },
     "metadata": {},
     "output_type": "display_data"
    },
    {
     "data": {
      "text/plain": [
       "LexToken(ListItemEndTag,'</li>',75,6985)"
      ]
     },
     "metadata": {},
     "output_type": "display_data"
    },
    {
     "data": {
      "text/plain": [
       "LexToken(UnorderedListEndTag,'</ul>',76,6991)"
      ]
     },
     "metadata": {},
     "output_type": "display_data"
    },
    {
     "data": {
      "text/plain": [
       "LexToken(FullSummaryEndTag,'</full-summary>',76,6996)"
      ]
     },
     "metadata": {},
     "output_type": "display_data"
    },
    {
     "data": {
      "text/plain": [
       "LexToken(GroupStartTagOpen,'<group',77,7014)"
      ]
     },
     "metadata": {},
     "output_type": "display_data"
    },
    {
     "data": {
      "text/plain": [
       "LexToken(UrlKey,'url=',77,7021)"
      ]
     },
     "metadata": {},
     "output_type": "display_data"
    },
    {
     "data": {
      "text/plain": [
       "LexToken(Uri,'https://medlineplus.gov/digestivesystem.html',77,7025)"
      ]
     },
     "metadata": {},
     "output_type": "display_data"
    },
    {
     "data": {
      "text/plain": [
       "LexToken(IdKey,'id=',77,7072)"
      ]
     },
     "metadata": {},
     "output_type": "display_data"
    },
    {
     "data": {
      "text/plain": [
       "LexToken(Integer,2,77,7075)"
      ]
     },
     "metadata": {},
     "output_type": "display_data"
    },
    {
     "data": {
      "text/plain": [
       "LexToken(StartTagClose,'>',77,7078)"
      ]
     },
     "metadata": {},
     "output_type": "display_data"
    },
    {
     "data": {
      "text/plain": [
       "LexToken(Text,'Digestive System',77,7079)"
      ]
     },
     "metadata": {},
     "output_type": "display_data"
    },
    {
     "data": {
      "text/plain": [
       "LexToken(GroupEndTag,'</group>',77,7095)"
      ]
     },
     "metadata": {},
     "output_type": "display_data"
    },
    {
     "data": {
      "text/plain": [
       "LexToken(GroupStartTagOpen,'<group',78,7106)"
      ]
     },
     "metadata": {},
     "output_type": "display_data"
    },
    {
     "data": {
      "text/plain": [
       "LexToken(UrlKey,'url=',78,7113)"
      ]
     },
     "metadata": {},
     "output_type": "display_data"
    },
    {
     "data": {
      "text/plain": [
       "LexToken(Uri,'https://medlineplus.gov/symptoms.html',78,7117)"
      ]
     },
     "metadata": {},
     "output_type": "display_data"
    },
    {
     "data": {
      "text/plain": [
       "LexToken(IdKey,'id=',78,7157)"
      ]
     },
     "metadata": {},
     "output_type": "display_data"
    },
    {
     "data": {
      "text/plain": [
       "LexToken(Integer,31,78,7160)"
      ]
     },
     "metadata": {},
     "output_type": "display_data"
    },
    {
     "data": {
      "text/plain": [
       "LexToken(StartTagClose,'>',78,7164)"
      ]
     },
     "metadata": {},
     "output_type": "display_data"
    },
    {
     "data": {
      "text/plain": [
       "LexToken(Text,'Symptoms',78,7165)"
      ]
     },
     "metadata": {},
     "output_type": "display_data"
    },
    {
     "data": {
      "text/plain": [
       "LexToken(GroupEndTag,'</group>',78,7173)"
      ]
     },
     "metadata": {},
     "output_type": "display_data"
    },
    {
     "data": {
      "text/plain": [
       "LexToken(LanguageMappedTopicStartTagOpen,'<language-mapped-topic',79,7184)"
      ]
     },
     "metadata": {},
     "output_type": "display_data"
    },
    {
     "data": {
      "text/plain": [
       "LexToken(UrlKey,'url=',79,7207)"
      ]
     },
     "metadata": {},
     "output_type": "display_data"
    },
    {
     "data": {
      "text/plain": [
       "LexToken(Uri,'https://medlineplus.gov/spanish/abdominalpain.html',79,7211)"
      ]
     },
     "metadata": {},
     "output_type": "display_data"
    },
    {
     "data": {
      "text/plain": [
       "LexToken(IdKey,'id=',79,7264)"
      ]
     },
     "metadata": {},
     "output_type": "display_data"
    },
    {
     "data": {
      "text/plain": [
       "LexToken(Integer,3062,79,7267)"
      ]
     },
     "metadata": {},
     "output_type": "display_data"
    },
    {
     "data": {
      "text/plain": [
       "LexToken(LanguageKey,'language=',79,7274)"
      ]
     },
     "metadata": {},
     "output_type": "display_data"
    },
    {
     "data": {
      "text/plain": [
       "LexToken(Language,'Spanish',79,7283)"
      ]
     },
     "metadata": {},
     "output_type": "display_data"
    },
    {
     "data": {
      "text/plain": [
       "LexToken(StartTagClose,'>',79,7292)"
      ]
     },
     "metadata": {},
     "output_type": "display_data"
    },
    {
     "data": {
      "text/plain": [
       "LexToken(Text,'Dolor abdominal',79,7293)"
      ]
     },
     "metadata": {},
     "output_type": "display_data"
    },
    {
     "data": {
      "text/plain": [
       "LexToken(LanguageMappedTopicEndTag,'</language-mapped-topic>',79,7308)"
      ]
     },
     "metadata": {},
     "output_type": "display_data"
    },
    {
     "data": {
      "text/plain": [
       "LexToken(MeshHeadingStartTagOpen,'<mesh-heading',80,7335)"
      ]
     },
     "metadata": {},
     "output_type": "display_data"
    },
    {
     "data": {
      "text/plain": [
       "LexToken(StartTagClose,'>',80,7348)"
      ]
     },
     "metadata": {},
     "output_type": "display_data"
    },
    {
     "data": {
      "text/plain": [
       "LexToken(DescriptorStartTagOpen,'<descriptor',81,7353)"
      ]
     },
     "metadata": {},
     "output_type": "display_data"
    },
    {
     "data": {
      "text/plain": [
       "LexToken(IdKey,'id=',81,7365)"
      ]
     },
     "metadata": {},
     "output_type": "display_data"
    },
    {
     "data": {
      "text/plain": [
       "LexToken(String,'\"D015746\"',81,7368)"
      ]
     },
     "metadata": {},
     "output_type": "display_data"
    },
    {
     "data": {
      "text/plain": [
       "LexToken(StartTagClose,'>',81,7377)"
      ]
     },
     "metadata": {},
     "output_type": "display_data"
    },
    {
     "data": {
      "text/plain": [
       "LexToken(Text,'Abdominal Pain',81,7378)"
      ]
     },
     "metadata": {},
     "output_type": "display_data"
    },
    {
     "data": {
      "text/plain": [
       "LexToken(DescriptorEndTag,'</descriptor>',81,7392)"
      ]
     },
     "metadata": {},
     "output_type": "display_data"
    },
    {
     "data": {
      "text/plain": [
       "LexToken(MeshHeadingEndTag,'</mesh-heading>',82,7408)"
      ]
     },
     "metadata": {},
     "output_type": "display_data"
    },
    {
     "data": {
      "text/plain": [
       "LexToken(OtherLanguageStartTagOpen,'<other-language',83,7426)"
      ]
     },
     "metadata": {},
     "output_type": "display_data"
    },
    {
     "data": {
      "text/plain": [
       "LexToken(VernacularNameKey,'vernacular-name=',83,7442)"
      ]
     },
     "metadata": {},
     "output_type": "display_data"
    },
    {
     "data": {
      "text/plain": [
       "LexToken(String,'\"español\"',83,7458)"
      ]
     },
     "metadata": {},
     "output_type": "display_data"
    },
    {
     "data": {
      "text/plain": [
       "LexToken(UrlKey,'url=',83,7468)"
      ]
     },
     "metadata": {},
     "output_type": "display_data"
    },
    {
     "data": {
      "text/plain": [
       "LexToken(Uri,'https://medlineplus.gov/spanish/abdominalpain.html',83,7472)"
      ]
     },
     "metadata": {},
     "output_type": "display_data"
    },
    {
     "data": {
      "text/plain": [
       "LexToken(StartTagClose,'>',83,7524)"
      ]
     },
     "metadata": {},
     "output_type": "display_data"
    },
    {
     "data": {
      "text/plain": [
       "LexToken(Text,'Spanish',83,7525)"
      ]
     },
     "metadata": {},
     "output_type": "display_data"
    },
    {
     "data": {
      "text/plain": [
       "LexToken(OtherLanguageEndTag,'</other-language>',83,7532)"
      ]
     },
     "metadata": {},
     "output_type": "display_data"
    },
    {
     "data": {
      "text/plain": [
       "LexToken(RelatedTopicStartTagOpen,'<related-topic',84,7552)"
      ]
     },
     "metadata": {},
     "output_type": "display_data"
    },
    {
     "data": {
      "text/plain": [
       "LexToken(UrlKey,'url=',84,7567)"
      ]
     },
     "metadata": {},
     "output_type": "display_data"
    },
    {
     "data": {
      "text/plain": [
       "LexToken(Uri,'https://medlineplus.gov/indigestion.html',84,7571)"
      ]
     },
     "metadata": {},
     "output_type": "display_data"
    },
    {
     "data": {
      "text/plain": [
       "LexToken(IdKey,'id=',84,7614)"
      ]
     },
     "metadata": {},
     "output_type": "display_data"
    },
    {
     "data": {
      "text/plain": [
       "LexToken(Integer,4293,84,7617)"
      ]
     },
     "metadata": {},
     "output_type": "display_data"
    },
    {
     "data": {
      "text/plain": [
       "LexToken(StartTagClose,'>',84,7623)"
      ]
     },
     "metadata": {},
     "output_type": "display_data"
    },
    {
     "data": {
      "text/plain": [
       "LexToken(Text,'Indigestion',84,7624)"
      ]
     },
     "metadata": {},
     "output_type": "display_data"
    },
    {
     "data": {
      "text/plain": [
       "LexToken(RelatedTopicEndTag,'</related-topic>',84,7635)"
      ]
     },
     "metadata": {},
     "output_type": "display_data"
    },
    {
     "data": {
      "text/plain": [
       "LexToken(RelatedTopicStartTagOpen,'<related-topic',85,7654)"
      ]
     },
     "metadata": {},
     "output_type": "display_data"
    },
    {
     "data": {
      "text/plain": [
       "LexToken(UrlKey,'url=',85,7669)"
      ]
     },
     "metadata": {},
     "output_type": "display_data"
    },
    {
     "data": {
      "text/plain": [
       "LexToken(Uri,'https://medlineplus.gov/pain.html',85,7673)"
      ]
     },
     "metadata": {},
     "output_type": "display_data"
    },
    {
     "data": {
      "text/plain": [
       "LexToken(IdKey,'id=',85,7709)"
      ]
     },
     "metadata": {},
     "output_type": "display_data"
    },
    {
     "data": {
      "text/plain": [
       "LexToken(Integer,351,85,7712)"
      ]
     },
     "metadata": {},
     "output_type": "display_data"
    },
    {
     "data": {
      "text/plain": [
       "LexToken(StartTagClose,'>',85,7717)"
      ]
     },
     "metadata": {},
     "output_type": "display_data"
    },
    {
     "data": {
      "text/plain": [
       "LexToken(Text,'Pain',85,7718)"
      ]
     },
     "metadata": {},
     "output_type": "display_data"
    },
    {
     "data": {
      "text/plain": [
       "LexToken(RelatedTopicEndTag,'</related-topic>',85,7722)"
      ]
     },
     "metadata": {},
     "output_type": "display_data"
    },
    {
     "data": {
      "text/plain": [
       "LexToken(RelatedTopicStartTagOpen,'<related-topic',86,7741)"
      ]
     },
     "metadata": {},
     "output_type": "display_data"
    },
    {
     "data": {
      "text/plain": [
       "LexToken(UrlKey,'url=',86,7756)"
      ]
     },
     "metadata": {},
     "output_type": "display_data"
    },
    {
     "data": {
      "text/plain": [
       "LexToken(Uri,'https://medlineplus.gov/pelvicpain.html',86,7760)"
      ]
     },
     "metadata": {},
     "output_type": "display_data"
    },
    {
     "data": {
      "text/plain": [
       "LexToken(IdKey,'id=',86,7802)"
      ]
     },
     "metadata": {},
     "output_type": "display_data"
    },
    {
     "data": {
      "text/plain": [
       "LexToken(Integer,4486,86,7805)"
      ]
     },
     "metadata": {},
     "output_type": "display_data"
    },
    {
     "data": {
      "text/plain": [
       "LexToken(StartTagClose,'>',86,7811)"
      ]
     },
     "metadata": {},
     "output_type": "display_data"
    },
    {
     "data": {
      "text/plain": [
       "LexToken(Text,'Pelvic Pain',86,7812)"
      ]
     },
     "metadata": {},
     "output_type": "display_data"
    },
    {
     "data": {
      "text/plain": [
       "LexToken(RelatedTopicEndTag,'</related-topic>',86,7823)"
      ]
     },
     "metadata": {},
     "output_type": "display_data"
    },
    {
     "data": {
      "text/plain": [
       "LexToken(SeeReferenceStartTagOpen,'<see-reference',87,7842)"
      ]
     },
     "metadata": {},
     "output_type": "display_data"
    },
    {
     "data": {
      "text/plain": [
       "LexToken(StartTagClose,'>',87,7856)"
      ]
     },
     "metadata": {},
     "output_type": "display_data"
    },
    {
     "data": {
      "text/plain": [
       "LexToken(Text,'Bellyache',87,7857)"
      ]
     },
     "metadata": {},
     "output_type": "display_data"
    },
    {
     "data": {
      "text/plain": [
       "LexToken(SeeReferenceEndTag,'</see-reference>',87,7866)"
      ]
     },
     "metadata": {},
     "output_type": "display_data"
    },
    {
     "data": {
      "text/plain": [
       "LexToken(SeeReferenceStartTagOpen,'<see-reference',88,7885)"
      ]
     },
     "metadata": {},
     "output_type": "display_data"
    },
    {
     "data": {
      "text/plain": [
       "LexToken(StartTagClose,'>',88,7899)"
      ]
     },
     "metadata": {},
     "output_type": "display_data"
    },
    {
     "data": {
      "text/plain": [
       "LexToken(Text,'Pain, Abdominal',88,7900)"
      ]
     },
     "metadata": {},
     "output_type": "display_data"
    },
    {
     "data": {
      "text/plain": [
       "LexToken(SeeReferenceEndTag,'</see-reference>',88,7915)"
      ]
     },
     "metadata": {},
     "output_type": "display_data"
    },
    {
     "data": {
      "text/plain": [
       "LexToken(SeeReferenceStartTagOpen,'<see-reference',89,7934)"
      ]
     },
     "metadata": {},
     "output_type": "display_data"
    },
    {
     "data": {
      "text/plain": [
       "LexToken(StartTagClose,'>',89,7948)"
      ]
     },
     "metadata": {},
     "output_type": "display_data"
    },
    {
     "data": {
      "text/plain": [
       "LexToken(Text,'Stomach Ache',89,7949)"
      ]
     },
     "metadata": {},
     "output_type": "display_data"
    },
    {
     "data": {
      "text/plain": [
       "LexToken(SeeReferenceEndTag,'</see-reference>',89,7961)"
      ]
     },
     "metadata": {},
     "output_type": "display_data"
    },
    {
     "data": {
      "text/plain": [
       "LexToken(SiteStartTagOpen,'<site',90,7980)"
      ]
     },
     "metadata": {},
     "output_type": "display_data"
    },
    {
     "data": {
      "text/plain": [
       "LexToken(TitleKey,'title=',90,7986)"
      ]
     },
     "metadata": {},
     "output_type": "display_data"
    },
    {
     "data": {
      "text/plain": [
       "LexToken(String,'\"Abdominal and Pelvic CT (Computed Tomography)\"',90,7992)"
      ]
     },
     "metadata": {},
     "output_type": "display_data"
    },
    {
     "data": {
      "text/plain": [
       "LexToken(UrlKey,'url=',90,8040)"
      ]
     },
     "metadata": {},
     "output_type": "display_data"
    },
    {
     "data": {
      "text/plain": [
       "LexToken(Uri,'https://www.radiologyinfo.org/en/info/abdominct',90,8044)"
      ]
     },
     "metadata": {},
     "output_type": "display_data"
    },
    {
     "data": {
      "text/plain": [
       "LexToken(LanguageMappedUrlKey,'language-mapped-url=',90,8094)"
      ]
     },
     "metadata": {},
     "output_type": "display_data"
    },
    {
     "data": {
      "text/plain": [
       "LexToken(Uri,'https://www.radiologyinfo.org/es/info/abdominct',90,8114)"
      ]
     },
     "metadata": {},
     "output_type": "display_data"
    },
    {
     "data": {
      "text/plain": [
       "LexToken(StartTagClose,'>',90,8163)"
      ]
     },
     "metadata": {},
     "output_type": "display_data"
    },
    {
     "data": {
      "text/plain": [
       "LexToken(InformationCategoryStartTagOpen,'<information-category',91,8168)"
      ]
     },
     "metadata": {},
     "output_type": "display_data"
    },
    {
     "data": {
      "text/plain": [
       "LexToken(StartTagClose,'>',91,8189)"
      ]
     },
     "metadata": {},
     "output_type": "display_data"
    },
    {
     "data": {
      "text/plain": [
       "LexToken(Text,'Diagnosis and Tests',91,8190)"
      ]
     },
     "metadata": {},
     "output_type": "display_data"
    },
    {
     "data": {
      "text/plain": [
       "LexToken(InformationCategoryEndTag,'</information-category>',91,8209)"
      ]
     },
     "metadata": {},
     "output_type": "display_data"
    },
    {
     "data": {
      "text/plain": [
       "LexToken(OrganizationStartTagOpen,'<organization',92,8236)"
      ]
     },
     "metadata": {},
     "output_type": "display_data"
    },
    {
     "data": {
      "text/plain": [
       "LexToken(StartTagClose,'>',92,8249)"
      ]
     },
     "metadata": {},
     "output_type": "display_data"
    },
    {
     "data": {
      "text/plain": [
       "LexToken(Text,'Radiological Society of North America',92,8250)"
      ]
     },
     "metadata": {},
     "output_type": "display_data"
    },
    {
     "data": {
      "text/plain": [
       "LexToken(OrganizationEndTag,'</organization>',92,8287)"
      ]
     },
     "metadata": {},
     "output_type": "display_data"
    },
    {
     "data": {
      "text/plain": [
       "LexToken(OrganizationStartTagOpen,'<organization',93,8306)"
      ]
     },
     "metadata": {},
     "output_type": "display_data"
    },
    {
     "data": {
      "text/plain": [
       "LexToken(StartTagClose,'>',93,8319)"
      ]
     },
     "metadata": {},
     "output_type": "display_data"
    },
    {
     "data": {
      "text/plain": [
       "LexToken(Text,'American College of Radiology',93,8320)"
      ]
     },
     "metadata": {},
     "output_type": "display_data"
    },
    {
     "data": {
      "text/plain": [
       "LexToken(OrganizationEndTag,'</organization>',93,8349)"
      ]
     },
     "metadata": {},
     "output_type": "display_data"
    },
    {
     "data": {
      "text/plain": [
       "LexToken(StandardDescriptionStartTagOpen,'<standard-description',94,8368)"
      ]
     },
     "metadata": {},
     "output_type": "display_data"
    },
    {
     "data": {
      "text/plain": [
       "LexToken(StartTagClose,'>',94,8389)"
      ]
     },
     "metadata": {},
     "output_type": "display_data"
    },
    {
     "data": {
      "text/plain": [
       "LexToken(Text,'Video',94,8390)"
      ]
     },
     "metadata": {},
     "output_type": "display_data"
    },
    {
     "data": {
      "text/plain": [
       "LexToken(StandardDescriptionEndTag,'</standard-description>',94,8395)"
      ]
     },
     "metadata": {},
     "output_type": "display_data"
    },
    {
     "data": {
      "text/plain": [
       "LexToken(SiteEndTag,'</site>',95,8421)"
      ]
     },
     "metadata": {},
     "output_type": "display_data"
    },
    {
     "data": {
      "text/plain": [
       "LexToken(SiteStartTagOpen,'<site',96,8431)"
      ]
     },
     "metadata": {},
     "output_type": "display_data"
    },
    {
     "data": {
      "text/plain": [
       "LexToken(TitleKey,'title=',96,8437)"
      ]
     },
     "metadata": {},
     "output_type": "display_data"
    },
    {
     "data": {
      "text/plain": [
       "LexToken(String,'\"Abdominal CT scan\"',96,8443)"
      ]
     },
     "metadata": {},
     "output_type": "display_data"
    },
    {
     "data": {
      "text/plain": [
       "LexToken(UrlKey,'url=',96,8463)"
      ]
     },
     "metadata": {},
     "output_type": "display_data"
    },
    {
     "data": {
      "text/plain": [
       "LexToken(Uri,'https://medlineplus.gov/ency/article/003789.htm',96,8467)"
      ]
     },
     "metadata": {},
     "output_type": "display_data"
    },
    {
     "data": {
      "text/plain": [
       "LexToken(LanguageMappedUrlKey,'language-mapped-url=',96,8517)"
      ]
     },
     "metadata": {},
     "output_type": "display_data"
    },
    {
     "data": {
      "text/plain": [
       "LexToken(Uri,'https://medlineplus.gov/spanish/ency/article/003789.htm',96,8537)"
      ]
     },
     "metadata": {},
     "output_type": "display_data"
    },
    {
     "data": {
      "text/plain": [
       "LexToken(StartTagClose,'>',96,8594)"
      ]
     },
     "metadata": {},
     "output_type": "display_data"
    },
    {
     "data": {
      "text/plain": [
       "LexToken(InformationCategoryStartTagOpen,'<information-category',97,8599)"
      ]
     },
     "metadata": {},
     "output_type": "display_data"
    },
    {
     "data": {
      "text/plain": [
       "LexToken(StartTagClose,'>',97,8620)"
      ]
     },
     "metadata": {},
     "output_type": "display_data"
    },
    {
     "data": {
      "text/plain": [
       "LexToken(Text,'Encyclopedia',97,8621)"
      ]
     },
     "metadata": {},
     "output_type": "display_data"
    },
    {
     "data": {
      "text/plain": [
       "LexToken(InformationCategoryEndTag,'</information-category>',97,8633)"
      ]
     },
     "metadata": {},
     "output_type": "display_data"
    },
    {
     "data": {
      "text/plain": [
       "LexToken(OrganizationStartTagOpen,'<organization',98,8660)"
      ]
     },
     "metadata": {},
     "output_type": "display_data"
    },
    {
     "data": {
      "text/plain": [
       "LexToken(StartTagClose,'>',98,8673)"
      ]
     },
     "metadata": {},
     "output_type": "display_data"
    },
    {
     "data": {
      "text/plain": [
       "LexToken(Text,'Medical Encyclopedia',98,8674)"
      ]
     },
     "metadata": {},
     "output_type": "display_data"
    },
    {
     "data": {
      "text/plain": [
       "LexToken(OrganizationEndTag,'</organization>',98,8694)"
      ]
     },
     "metadata": {},
     "output_type": "display_data"
    },
    {
     "data": {
      "text/plain": [
       "LexToken(SiteEndTag,'</site>',99,8712)"
      ]
     },
     "metadata": {},
     "output_type": "display_data"
    },
    {
     "data": {
      "text/plain": [
       "LexToken(SiteStartTagOpen,'<site',100,8722)"
      ]
     },
     "metadata": {},
     "output_type": "display_data"
    },
    {
     "data": {
      "text/plain": [
       "LexToken(TitleKey,'title=',100,8728)"
      ]
     },
     "metadata": {},
     "output_type": "display_data"
    },
    {
     "data": {
      "text/plain": [
       "LexToken(String,'\"Abdominal mass\"',100,8734)"
      ]
     },
     "metadata": {},
     "output_type": "display_data"
    },
    {
     "data": {
      "text/plain": [
       "LexToken(UrlKey,'url=',100,8751)"
      ]
     },
     "metadata": {},
     "output_type": "display_data"
    },
    {
     "data": {
      "text/plain": [
       "LexToken(Uri,'https://medlineplus.gov/ency/article/003274.htm',100,8755)"
      ]
     },
     "metadata": {},
     "output_type": "display_data"
    },
    {
     "data": {
      "text/plain": [
       "LexToken(LanguageMappedUrlKey,'language-mapped-url=',100,8805)"
      ]
     },
     "metadata": {},
     "output_type": "display_data"
    },
    {
     "data": {
      "text/plain": [
       "LexToken(Uri,'https://medlineplus.gov/spanish/ency/article/003274.htm',100,8825)"
      ]
     },
     "metadata": {},
     "output_type": "display_data"
    },
    {
     "data": {
      "text/plain": [
       "LexToken(StartTagClose,'>',100,8882)"
      ]
     },
     "metadata": {},
     "output_type": "display_data"
    },
    {
     "data": {
      "text/plain": [
       "LexToken(InformationCategoryStartTagOpen,'<information-category',101,8887)"
      ]
     },
     "metadata": {},
     "output_type": "display_data"
    },
    {
     "data": {
      "text/plain": [
       "LexToken(StartTagClose,'>',101,8908)"
      ]
     },
     "metadata": {},
     "output_type": "display_data"
    },
    {
     "data": {
      "text/plain": [
       "LexToken(Text,'Encyclopedia',101,8909)"
      ]
     },
     "metadata": {},
     "output_type": "display_data"
    },
    {
     "data": {
      "text/plain": [
       "LexToken(InformationCategoryEndTag,'</information-category>',101,8921)"
      ]
     },
     "metadata": {},
     "output_type": "display_data"
    },
    {
     "data": {
      "text/plain": [
       "LexToken(OrganizationStartTagOpen,'<organization',102,8948)"
      ]
     },
     "metadata": {},
     "output_type": "display_data"
    },
    {
     "data": {
      "text/plain": [
       "LexToken(StartTagClose,'>',102,8961)"
      ]
     },
     "metadata": {},
     "output_type": "display_data"
    },
    {
     "data": {
      "text/plain": [
       "LexToken(Text,'Medical Encyclopedia',102,8962)"
      ]
     },
     "metadata": {},
     "output_type": "display_data"
    },
    {
     "data": {
      "text/plain": [
       "LexToken(OrganizationEndTag,'</organization>',102,8982)"
      ]
     },
     "metadata": {},
     "output_type": "display_data"
    },
    {
     "data": {
      "text/plain": [
       "LexToken(SiteEndTag,'</site>',103,9000)"
      ]
     },
     "metadata": {},
     "output_type": "display_data"
    },
    {
     "data": {
      "text/plain": [
       "LexToken(SiteStartTagOpen,'<site',104,9010)"
      ]
     },
     "metadata": {},
     "output_type": "display_data"
    }
   ],
   "source": [
    "# List of token names.\n",
    "tokens = [\n",
    "    'StartTagClose',\n",
    "    'XmlDeclStartTag',\n",
    "    'XmlDeclEndTag',\n",
    "    'DocTypeDeclStartTag',\n",
    "    'HealthTopicsStartTagOpen',\n",
    "    'HealthTopicsEndTag',\n",
    "    'HealthTopicStartTagOpen',\n",
    "    'HealthTopicEndTag',\n",
    "    'AlsoCalledStartTagOpen',\n",
    "    'AlsoCalledEndTag',\n",
    "    'FullSummaryStartTagOpen',\n",
    "    'FullSummaryEndTag',\n",
    "    'GroupStartTagOpen',\n",
    "    'GroupEndTag',\n",
    "    'LanguageMappedTopicStartTagOpen',\n",
    "    'LanguageMappedTopicEndTag',\n",
    "    'MeshHeadingStartTagOpen',\n",
    "    'MeshHeadingEndTag',\n",
    "    'DescriptorStartTagOpen',\n",
    "    'DescriptorEndTag',\n",
    "    'OtherLanguageStartTagOpen',\n",
    "    'OtherLanguageEndTag',\n",
    "    'PrimaryInstituteStartTagOpen',\n",
    "    'PrimaryInstituteEndTag',\n",
    "    'SeeReferenceStartTagOpen',\n",
    "    'SeeReferenceEndTag',\n",
    "    'SiteStartTagOpen',\n",
    "    'SiteEndTag',\n",
    "    'InformationCategoryStartTagOpen',\n",
    "    'InformationCategoryEndTag',\n",
    "    'OrganizationStartTagOpen',\n",
    "    'OrganizationEndTag',\n",
    "    'StandardDescriptionStartTagOpen',\n",
    "    'StandardDescriptionEndTag',\n",
    "    'RelatedTopicStartTagOpen',\n",
    "    'RelatedTopicEndTag',\n",
    "    'ParagraphStartTagOpen',\n",
    "    'ParagraphEndTag',\n",
    "    'AnchorStartTagOpen',\n",
    "    'AnchorEndTag',\n",
    "    'UnorderedListStartTagOpen',\n",
    "    'UnorderedListEndTag',\n",
    "    'ListItemStartTagOpen',\n",
    "    'ListItemEndTag',\n",
    "    'DocTypeDeclName',\n",
    "    'DocTypeDeclExternalId',\n",
    "    'VersionKey',\n",
    "    'EncodingKey',\n",
    "    'DateGeneratedKey',\n",
    "    'TotalKey',\n",
    "    'IdKey',\n",
    "    'DateCreatedKey',\n",
    "    'LanguageKey',\n",
    "    'TitleKey',\n",
    "    'UrlKey',\n",
    "    'MetaDescKey',\n",
    "    'VernacularNameKey',\n",
    "    'LanguageMappedUrlKey',\n",
    "    'HrefKey',\n",
    "    'ClassKey',\n",
    "    'Timestamp',\n",
    "    'Integer',\n",
    "    'Date',\n",
    "    'Language',\n",
    "    'Uri',\n",
    "    'String',\n",
    "    'Text'\n",
    "]\n",
    "\n",
    "# Regular expression rules for simple tokens\n",
    "#t_StartTagClose = r'>#'\n",
    "def t_StartTagClose(t):\n",
    "    r'>'\n",
    "    t.lexer.begin('INITIAL')\n",
    "    return t\n",
    "t_XmlDeclStartTag = r'<\\?xml'\n",
    "#t_XmlDeclEndTag = r'\\?>'\n",
    "def t_XmlDeclEndTag(t):\n",
    "    r'\\?>'\n",
    "    t.lexer.begin('INITIAL')\n",
    "    return t\n",
    "t_DocTypeDeclStartTag = r'<!DOCTYPE'\n",
    "t_HealthTopicsStartTagOpen = r'<health-topics'\n",
    "t_HealthTopicsEndTag = r'</health-topics>'\n",
    "t_HealthTopicStartTagOpen = r'<health-topic'\n",
    "t_HealthTopicEndTag = r'</health-topic>'\n",
    "t_AlsoCalledStartTagOpen = r'<also-called'\n",
    "t_AlsoCalledEndTag = r'</also-called>'\n",
    "t_FullSummaryStartTagOpen = r'<full-summary'\n",
    "t_FullSummaryEndTag = r'</full-summary>'\n",
    "t_GroupStartTagOpen = r'<group'\n",
    "t_GroupEndTag = r'</group>'\n",
    "t_LanguageMappedTopicStartTagOpen = r'<language-mapped-topic'\n",
    "t_LanguageMappedTopicEndTag = r'</language-mapped-topic>'\n",
    "t_MeshHeadingStartTagOpen = r'<mesh-heading'\n",
    "t_MeshHeadingEndTag = r'</mesh-heading>'\n",
    "t_DescriptorStartTagOpen = r'<descriptor'\n",
    "t_DescriptorEndTag = r'</descriptor>'\n",
    "t_OtherLanguageStartTagOpen = r'<other-language'\n",
    "t_OtherLanguageEndTag = r'</other-language>'\n",
    "t_PrimaryInstituteStartTagOpen = r'<primary-institute'\n",
    "t_PrimaryInstituteEndTag = r'</primary-institute>'\n",
    "t_SeeReferenceStartTagOpen = r'<see-reference'\n",
    "t_SeeReferenceEndTag = r'</see-reference>'\n",
    "t_SiteStartTagOpen = r'<site'\n",
    "t_SiteEndTag = r'</site>'\n",
    "t_InformationCategoryStartTagOpen = r'<information-category'\n",
    "t_InformationCategoryEndTag = r'</information-category>'\n",
    "t_OrganizationStartTagOpen = r'<organization'\n",
    "t_OrganizationEndTag = r'</organization>'\n",
    "t_StandardDescriptionStartTagOpen = r'<standard-description'\n",
    "t_StandardDescriptionEndTag = r'</standard-description>'\n",
    "t_RelatedTopicStartTagOpen = r'<related-topic'\n",
    "t_RelatedTopicEndTag = r'</related-topic>'\n",
    "t_ParagraphStartTagOpen = r'<p'\n",
    "t_ParagraphEndTag = r'</p>'\n",
    "t_AnchorStartTagOpen = r'<a'\n",
    "t_AnchorEndTag = r'</a>'\n",
    "t_UnorderedListStartTagOpen = r'<ul'\n",
    "t_UnorderedListEndTag = r'</ul>'\n",
    "t_ListItemStartTagOpen = r'<li'\n",
    "t_ListItemEndTag = r'</li>'\n",
    "\n",
    "# Prolog and Doctype attributes\n",
    "#t_DocTypeDeclName = r' health-topics'\n",
    "def t_DocTypeDeclName(t):\n",
    "    r' health-topics'\n",
    "    return t\n",
    "#t_DocTypeDeclExternalId = r'PUBLIC\\s+\"-//NLM//DTD\\s+health-topics\\s+//EN\"\\s+\"https://medlineplus.gov/xml/mplus_topics.dtd\"'\n",
    "def t_DocTypeDeclExternalId(t):\n",
    "    r'PUBLIC\\s+\"-//NLM//DTD\\s+health-topics\\s+//EN\"\\s+\"https://medlineplus.gov/xml/mplus_topics.dtd\"'\n",
    "    return t\n",
    "\n",
    "# Keys of attributes\n",
    "#t_VersionKey = r'version='\n",
    "def t_VersionKey(t):\n",
    "    r'version='\n",
    "    return t\n",
    "#t_EncodingKey = r'encoding='\n",
    "def t_EncodingKey(t):\n",
    "    r'encoding='\n",
    "    return t\n",
    "#t_DateGeneratedKey = r'date-generated='\n",
    "def t_DateGeneratedKey(t):\n",
    "    r'date-generated='\n",
    "    return t\n",
    "#t_TotalKey = r'total='\n",
    "def t_TotalKey(t):\n",
    "    r'total='\n",
    "    return t\n",
    "#t_IdKey = r'id='\n",
    "def t_IdKey(t):\n",
    "    r'id='\n",
    "    return t\n",
    "#t_DateCreatedKey = r'date-created='\n",
    "def t_DateCreatedKey(t):\n",
    "    r'date-created='\n",
    "    return t\n",
    "#t_LanguageKey = r'language='\n",
    "def t_LanguageKey(t):\n",
    "    r'language='\n",
    "    return t\n",
    "#t_TitleKey = r'title='\n",
    "def t_TitleKey(t):\n",
    "    r'title='\n",
    "    return t\n",
    "#t_UrlKey = r'url='\n",
    "def t_UrlKey(t):\n",
    "    r'url='\n",
    "    return t\n",
    "\n",
    "def t_HrefKey(t):\n",
    "    r'href='\n",
    "    return t\n",
    "#t_MetaDescKey = r'meta-desc='\n",
    "def t_MetaDescKey(t):\n",
    "    r'meta-desc='\n",
    "    return t\n",
    "#t_VernacularNameKey = r'vernacular-name='\n",
    "def t_VernacularNameKey(t):\n",
    "    r'vernacular-name='\n",
    "    return t\n",
    "#t_LanguageMappedUrlKey = r'language-mapped-url='\n",
    "def t_LanguageMappedUrlKey(t):\n",
    "    r'language-mapped-url='\n",
    "    return t\n",
    "\n",
    "def t_ClassKey(t):\n",
    "    r'class='\n",
    "    return t\n",
    "\n",
    "# Values types of attributes\n",
    "#t_String = r'\"[^\"]+\"'\n",
    "\n",
    "def t_Date(t):\n",
    "    r'\"\\d{2}/\\d{2}/\\d{4}\"'\n",
    "    value = t.value\n",
    "    t.value  = datetime.strptime(value.replace('\"', ''), \"%m/%d/%Y\").date()\n",
    "    return t\n",
    "\n",
    "def t_Timestamp(t):\n",
    "    r'\"\\d{2}/\\d{2}/\\d{4}\\s\\d{2}:\\d{2}:\\d{2}\"'\n",
    "    value = t.value\n",
    "    t.value  = datetime.strptime(value.replace('\"', ''), \"%m/%d/%Y %H:%M:%S\")\n",
    "    return t\n",
    "\n",
    "def t_Integer(t):\n",
    "    r'\"\\d+\"'\n",
    "    value = t.value\n",
    "    t.value = int(value.replace('\"', ''))\n",
    "    return t\n",
    "\n",
    " # can be Spanish or English only\n",
    "def t_Language(t):\n",
    "    r'\"(Spanish|English)\"'\n",
    "    t.value = t.value.replace('\"', '')\n",
    "    return t\n",
    "\n",
    "def t_Uri(t):\n",
    "    r'\"(?:https?):\\/\\/[^\\s/$.?#].[^\\s\"<>]*[^\"<>]*\"'\n",
    "    t.value = t.value.replace('\"', '').split(',')[0]\n",
    "    return t\n",
    "\n",
    "def t_String(t):\n",
    "    r'\"[^\"]*\"'\n",
    "    return t\n",
    "\n",
    "# Text into ><\n",
    "t_Text = r'[\\w ¿?!:;,\\.\\-\\'\\\"%*\\(\\)]+'\n",
    "\n",
    "# Define a rule so we can track line numbers\n",
    "def t_newline(t):\n",
    "    r'\\n+'\n",
    "    t.lexer.lineno += len(t.value)\n",
    "\n",
    "# A string containing ignored characters (spaces and tabs)\n",
    "t_ignore = ' \\t'\n",
    "\n",
    "# Error handling rule\n",
    "def t_error(t):\n",
    "    print(f\"Illegal character '{t.value[0]}'\")\n",
    "    t.lexer.skip(1)\n",
    "\n",
    "__file__ = \"lexer.ipynb\"\n",
    "lexer = lex.lex()\n",
    "\n",
    "with open('../data/mplus_topics.xml', 'r', encoding='utf-8') as file:\n",
    "    data = file.read()\n",
    "\n",
    "# Give the lexer some input\n",
    "lexer.input(data)\n",
    "\n",
    "# Tokenize\n",
    "for i in range(0, 33):\n",
    "    tok = lexer.token()\n",
    "    if not tok:\n",
    "        break  # No more input\n",
    "    display(tok)\n",
    "\n",
    "# while True:\n",
    "#     tok = lexer.token()\n",
    "#     if not tok:\n",
    "#         break  # No more input\n",
    "#     display(tok)"
   ]
  }
 ],
 "metadata": {
  "kernelspec": {
   "display_name": "Python 3",
   "language": "python",
   "name": "python3"
  },
  "language_info": {
   "codemirror_mode": {
    "name": "ipython",
    "version": 3
   },
   "file_extension": ".py",
   "mimetype": "text/x-python",
   "name": "python",
   "nbconvert_exporter": "python",
   "pygments_lexer": "ipython3",
   "version": "3.12.0"
  }
 },
 "nbformat": 4,
 "nbformat_minor": 5
}
