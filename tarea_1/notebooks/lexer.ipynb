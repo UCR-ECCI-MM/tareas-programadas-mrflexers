{
 "cells": [
  {
   "metadata": {
    "ExecuteTime": {
     "end_time": "2024-09-01T03:34:41.345295Z",
     "start_time": "2024-09-01T03:34:41.343397Z"
    }
   },
   "cell_type": "code",
   "source": [
    "from datetime import datetime\n",
    "import ply.lex as lex"
   ],
   "id": "defc521b858b515b",
   "outputs": [],
   "execution_count": 12
  },
  {
   "cell_type": "code",
   "id": "initial_id",
   "metadata": {
    "collapsed": true,
    "ExecuteTime": {
     "end_time": "2024-09-01T03:34:41.395249Z",
     "start_time": "2024-09-01T03:34:41.366007Z"
    }
   },
   "source": [
    "# List of token names.\n",
    "tokens = [\n",
    "    'StartTagClose',\n",
    "    'XmlDeclStartTag',\n",
    "    'XmlDeclEndTag',\n",
    "    'DocTypeDeclStartTag',\n",
    "    'HealthTopicsStartTagOpen',\n",
    "    'HealthTopicsEndTag',\n",
    "    'HealthTopicStartTagOpen',\n",
    "    'HealthTopicEndTag',\n",
    "    'AlsoCalledStartTagOpen',\n",
    "    'AlsoCalledEndTag',\n",
    "    'FullSummaryStartTagOpen',\n",
    "    'FullSummaryEndTag',\n",
    "    'GroupStartTagOpen',\n",
    "    'GroupEndTag',\n",
    "    'LanguageMappedTopicStartTagOpen',\n",
    "    'LanguageMappedTopicEndTag',\n",
    "    'MeshHeadingStartTagOpen',\n",
    "    'MeshHeadingEndTag',\n",
    "    'DescriptorStartTagOpen',\n",
    "    'DescriptorEndTag',\n",
    "    'OtherLanguageStartTagOpen',\n",
    "    'OtherLanguageEndTag',\n",
    "    'PrimaryInstituteStartTagOpen',\n",
    "    'PrimaryInstituteEndTag',\n",
    "    'SeeReferenceStartTagOpen',\n",
    "    'SeeReferenceEndTag',\n",
    "    'SiteStartTagOpen',\n",
    "    'SiteEndTag',\n",
    "    'InformationCategoryStartTagOpen',\n",
    "    'InformationCategoryEndTag',\n",
    "    'OrganizationStartTagOpen',\n",
    "    'OrganizationEndTag',\n",
    "    'StandardDescriptionStartTagOpen',\n",
    "    'StandardDescriptionEndTag',\n",
    "    'RelatedTopicStartTagOpen',\n",
    "    'RelatedTopicEndTag',\n",
    "    'DocTypeDeclName',\n",
    "    'DocTypeDeclExternalId',\n",
    "    'VersionKey',\n",
    "    'EncodingKey',\n",
    "    'DateGeneratedKey',\n",
    "    'TotalKey',\n",
    "    'IdKey',\n",
    "    'DateCreatedKey',\n",
    "    'LanguageKey',\n",
    "    'TitleKey',\n",
    "    'UrlKey',\n",
    "    'MetaDescKey',\n",
    "    'VernacularNameKey',\n",
    "    'LanguageMappedUrlKey',\n",
    "    'Timestamp',\n",
    "    'Integer',\n",
    "    'Date',\n",
    "    'Uri',\n",
    "    'String',\n",
    "    'Text'\n",
    "]\n",
    "\n",
    "# Regular expression rules for simple tokens\n",
    "t_StartTagClose = r'>'\n",
    "t_XmlDeclStartTag = r'<\\?xml'\n",
    "t_XmlDeclEndTag = r'\\?>'\n",
    "t_DocTypeDeclStartTag = r'<!DOCTYPE'\n",
    "t_HealthTopicsStartTagOpen = r'<health-topics'\n",
    "t_HealthTopicsEndTag = r'</health-topics>'\n",
    "t_HealthTopicStartTagOpen = r'<health-topic'\n",
    "t_HealthTopicEndTag = r'</health-topic>'\n",
    "t_AlsoCalledStartTagOpen = r'<also-called'\n",
    "t_AlsoCalledEndTag = r'</also-called>'\n",
    "t_FullSummaryStartTagOpen = r'<full-summary'\n",
    "t_FullSummaryEndTag = r'</full-summary>'\n",
    "t_GroupStartTagOpen = r'<group'\n",
    "t_GroupEndTag = r'</group>'\n",
    "t_LanguageMappedTopicStartTagOpen = r'<language-mapped-topic'\n",
    "t_LanguageMappedTopicEndTag = r'</language-mapped-topic>'\n",
    "t_MeshHeadingStartTagOpen = r'<mesh-heading'\n",
    "t_MeshHeadingEndTag = r'</mesh-heading>'\n",
    "t_DescriptorStartTagOpen = r'<descriptor'\n",
    "t_DescriptorEndTag = r'</descriptor>'\n",
    "t_OtherLanguageStartTagOpen = r'<other-language'\n",
    "t_OtherLanguageEndTag = r'</other-language>'\n",
    "t_PrimaryInstituteStartTagOpen = r'<primary-institute'\n",
    "t_PrimaryInstituteEndTag = r'</primary-institute>'\n",
    "t_SeeReferenceStartTagOpen = r'<see-reference'\n",
    "t_SeeReferenceEndTag = r'</see-reference>'\n",
    "t_SiteStartTagOpen = r'<site'\n",
    "t_SiteEndTag = r'</site>'\n",
    "t_InformationCategoryStartTagOpen = r'<information-category'\n",
    "t_InformationCategoryEndTag = r'</information-category>'\n",
    "t_OrganizationStartTagOpen = r'<organization'\n",
    "t_OrganizationEndTag = r'</organization>'\n",
    "t_StandardDescriptionStartTagOpen = r'<standard-description'\n",
    "t_StandardDescriptionEndTag = r'</standard-description>'\n",
    "t_RelatedTopicStartTagOpen = r'<related-topic'\n",
    "t_RelatedTopicEndTag = r'</related-topic>'\n",
    "\n",
    "t_DocTypeDeclName = r' health-topics'\n",
    "t_DocTypeDeclExternalId = r'PUBLIC\\s+\"-//NLM//DTD\\s+health-topics\\s+//EN\"\\s+\"https://medlineplus.gov/xml/mplus_topics.dtd\"'\n",
    "\n",
    "t_VersionKey = r'version='\n",
    "t_EncodingKey = r'encoding='\n",
    "t_DateGeneratedKey = r'date-generated='\n",
    "t_TotalKey = r'total='\n",
    "t_IdKey = r'id='\n",
    "t_DateCreatedKey = r'date-created='\n",
    "t_LanguageKey = r'language='\n",
    "t_TitleKey = r'title='\n",
    "t_UrlKey = r'url='\n",
    "t_MetaDescKey = r'meta-desc='\n",
    "t_VernacularNameKey = r'vernacular-name='\n",
    "t_LanguageMappedUrlKey = r'language-mapped-url='\n",
    "\n",
    "t_Uri = r'\"https?:\\/\\/(www\\.)?[-a-zA-Z0-9@:%._\\+~#=]{1,256}\\.[a-zA-Z0-9()]{1,6}\\b([-a-zA-Z0-9()@:%_\\+.~#?&//=]*)\"'\n",
    "t_String = r'\"[^\"]+\"'\n",
    "t_Text = r'(?<=>)[^\\r\\n]+(?=<)'\n",
    "\n",
    "def t_Date(t):\n",
    "     r'\"\\d{2}/\\d{2}/\\d{4}\"'\n",
    "     value = t.value\n",
    "     t.value  = datetime.strptime(value.replace('\"', ''), \"%m/%d/%Y\").date()\n",
    "     return t\n",
    "\n",
    "def t_Timestamp(t):\n",
    "     r'\"\\d{2}/\\d{2}/\\d{4}\\s\\d{2}:\\d{2}:\\d{2}\"'\n",
    "     value = t.value\n",
    "     t.value  = datetime.strptime(value.replace('\"', ''), \"%m/%d/%Y %H:%M:%S\")\n",
    "     return t\n",
    "\n",
    "def t_Integer(t):\n",
    "     r'\"\\d+\"'\n",
    "     value = t.value\n",
    "     t.value = int(value.replace('\"', ''))\n",
    "     return t\n",
    "\n",
    "# Define a rule so we can track line numbers\n",
    "def t_newline(t):\n",
    "     r'\\n+'\n",
    "     t.lexer.lineno += len(t.value)\n",
    "\n",
    "# A string containing ignored characters (spaces and tabs)\n",
    "t_ignore = ' \\t'\n",
    "\n",
    "# Error handling rule\n",
    "def t_error(t):\n",
    "    print(f\"Illegal character '{t.value[0]}'\")\n",
    "    t.lexer.skip(1)\n",
    "\n",
    "__file__ = \"lexer.ipynb\"\n",
    "lexer = lex.lex()\n",
    "\n",
    "with open('../data/mplus_topics.xml', 'r') as file:\n",
    "    data = file.read()\n",
    "\n",
    "# Give the lexer some input\n",
    "lexer.input(data)\n",
    "\n",
    "# Tokenize\n",
    "for i in range(0, 33):\n",
    "    tok = lexer.token()\n",
    "    if not tok:\n",
    "        break  # No more input\n",
    "    display(tok)\n",
    "\n",
    "# while True:\n",
    "#     tok = lexer.token()\n",
    "#     if not tok:\n",
    "#         break  # No more input\n",
    "#     display(tok)"
   ],
   "outputs": [
    {
     "data": {
      "text/plain": [
       "LexToken(XmlDeclStartTag,'<?xml',1,0)"
      ]
     },
     "metadata": {},
     "output_type": "display_data"
    },
    {
     "data": {
      "text/plain": [
       "LexToken(VersionKey,'version=',1,6)"
      ]
     },
     "metadata": {},
     "output_type": "display_data"
    },
    {
     "data": {
      "text/plain": [
       "LexToken(String,'\"1.0\"',1,14)"
      ]
     },
     "metadata": {},
     "output_type": "display_data"
    },
    {
     "data": {
      "text/plain": [
       "LexToken(EncodingKey,'encoding=',1,20)"
      ]
     },
     "metadata": {},
     "output_type": "display_data"
    },
    {
     "data": {
      "text/plain": [
       "LexToken(String,'\"UTF-8\"',1,29)"
      ]
     },
     "metadata": {},
     "output_type": "display_data"
    },
    {
     "data": {
      "text/plain": [
       "LexToken(XmlDeclEndTag,'?>',1,36)"
      ]
     },
     "metadata": {},
     "output_type": "display_data"
    },
    {
     "data": {
      "text/plain": [
       "LexToken(DocTypeDeclStartTag,'<!DOCTYPE',2,39)"
      ]
     },
     "metadata": {},
     "output_type": "display_data"
    },
    {
     "data": {
      "text/plain": [
       "LexToken(DocTypeDeclName,'health-topics',2,49)"
      ]
     },
     "metadata": {},
     "output_type": "display_data"
    },
    {
     "data": {
      "text/plain": [
       "LexToken(DocTypeDeclExternalId,'PUBLIC \"-//NLM//DTD health-topics //EN\" \"https://medlineplus.gov/xml/mplus_topics.dtd\"',2,63)"
      ]
     },
     "metadata": {},
     "output_type": "display_data"
    },
    {
     "data": {
      "text/plain": [
       "LexToken(StartTagClose,'>',2,149)"
      ]
     },
     "metadata": {},
     "output_type": "display_data"
    },
    {
     "data": {
      "text/plain": [
       "LexToken(HealthTopicsStartTagOpen,'<health-topics',3,151)"
      ]
     },
     "metadata": {},
     "output_type": "display_data"
    },
    {
     "data": {
      "text/plain": [
       "LexToken(TotalKey,'total=',3,166)"
      ]
     },
     "metadata": {},
     "output_type": "display_data"
    },
    {
     "data": {
      "text/plain": [
       "LexToken(Integer,2044,3,172)"
      ]
     },
     "metadata": {},
     "output_type": "display_data"
    },
    {
     "data": {
      "text/plain": [
       "LexToken(DateGeneratedKey,'date-generated=',3,179)"
      ]
     },
     "metadata": {},
     "output_type": "display_data"
    },
    {
     "data": {
      "text/plain": [
       "LexToken(Timestamp,datetime.datetime(2024, 8, 30, 2, 30, 25),3,194)"
      ]
     },
     "metadata": {},
     "output_type": "display_data"
    },
    {
     "data": {
      "text/plain": [
       "LexToken(StartTagClose,'>',3,215)"
      ]
     },
     "metadata": {},
     "output_type": "display_data"
    },
    {
     "data": {
      "text/plain": [
       "LexToken(HealthTopicStartTagOpen,'<health-topic',4,218)"
      ]
     },
     "metadata": {},
     "output_type": "display_data"
    },
    {
     "data": {
      "text/plain": [
       "LexToken(MetaDescKey,'meta-desc=',4,232)"
      ]
     },
     "metadata": {},
     "output_type": "display_data"
    },
    {
     "data": {
      "text/plain": [
       "LexToken(String,'\"If you are being tested for Type 2 diabetes, your doctor gives you an A1C test. The test is also used to monitor your A1C levels.\"',4,242)"
      ]
     },
     "metadata": {},
     "output_type": "display_data"
    },
    {
     "data": {
      "text/plain": [
       "LexToken(TitleKey,'title=',4,374)"
      ]
     },
     "metadata": {},
     "output_type": "display_data"
    },
    {
     "data": {
      "text/plain": [
       "LexToken(String,'\"A1C\"',4,380)"
      ]
     },
     "metadata": {},
     "output_type": "display_data"
    },
    {
     "data": {
      "text/plain": [
       "LexToken(UrlKey,'url=',4,386)"
      ]
     },
     "metadata": {},
     "output_type": "display_data"
    },
    {
     "data": {
      "text/plain": [
       "LexToken(Uri,'\"https://medlineplus.gov/a1c.html\"',4,390)"
      ]
     },
     "metadata": {},
     "output_type": "display_data"
    },
    {
     "data": {
      "text/plain": [
       "LexToken(IdKey,'id=',4,425)"
      ]
     },
     "metadata": {},
     "output_type": "display_data"
    },
    {
     "data": {
      "text/plain": [
       "LexToken(Integer,6308,4,428)"
      ]
     },
     "metadata": {},
     "output_type": "display_data"
    },
    {
     "data": {
      "text/plain": [
       "LexToken(LanguageKey,'language=',4,435)"
      ]
     },
     "metadata": {},
     "output_type": "display_data"
    },
    {
     "data": {
      "text/plain": [
       "LexToken(String,'\"English\"',4,444)"
      ]
     },
     "metadata": {},
     "output_type": "display_data"
    },
    {
     "data": {
      "text/plain": [
       "LexToken(DateCreatedKey,'date-created=',4,454)"
      ]
     },
     "metadata": {},
     "output_type": "display_data"
    },
    {
     "data": {
      "text/plain": [
       "LexToken(Date,datetime.date(2015, 12, 22),4,467)"
      ]
     },
     "metadata": {},
     "output_type": "display_data"
    },
    {
     "data": {
      "text/plain": [
       "LexToken(StartTagClose,'>',4,479)"
      ]
     },
     "metadata": {},
     "output_type": "display_data"
    },
    {
     "data": {
      "text/plain": [
       "LexToken(AlsoCalledStartTagOpen,'<also-called',5,483)"
      ]
     },
     "metadata": {},
     "output_type": "display_data"
    },
    {
     "data": {
      "text/plain": [
       "LexToken(StartTagClose,'>',5,495)"
      ]
     },
     "metadata": {},
     "output_type": "display_data"
    },
    {
     "data": {
      "text/plain": [
       "LexToken(Text,'Glycohemoglobin',5,496)"
      ]
     },
     "metadata": {},
     "output_type": "display_data"
    }
   ],
   "execution_count": 13
  },
  {
   "metadata": {
    "ExecuteTime": {
     "end_time": "2024-09-01T03:34:41.437537Z",
     "start_time": "2024-09-01T03:34:41.436069Z"
    }
   },
   "cell_type": "code",
   "source": "",
   "id": "3741ba0887b0ee51",
   "outputs": [],
   "execution_count": null
  }
 ],
 "metadata": {
  "kernelspec": {
   "display_name": "Python 3",
   "language": "python",
   "name": "python3"
  },
  "language_info": {
   "codemirror_mode": {
    "name": "ipython",
    "version": 2
   },
   "file_extension": ".py",
   "mimetype": "text/x-python",
   "name": "python",
   "nbconvert_exporter": "python",
   "pygments_lexer": "ipython2",
   "version": "2.7.6"
  }
 },
 "nbformat": 4,
 "nbformat_minor": 5
}
