{
 "cells": [
  {
   "cell_type": "code",
   "id": "defc521b858b515b",
   "metadata": {
    "ExecuteTime": {
     "end_time": "2024-09-02T00:56:50.005719Z",
     "start_time": "2024-09-02T00:56:50.003195Z"
    }
   },
   "source": [
    "from datetime import datetime\n",
    "import ply.lex as lex"
   ],
   "outputs": [],
   "execution_count": 15
  },
  {
   "cell_type": "code",
   "id": "initial_id",
   "metadata": {
    "collapsed": true,
    "ExecuteTime": {
     "end_time": "2024-09-02T00:56:50.175397Z",
     "start_time": "2024-09-02T00:56:50.092480Z"
    }
   },
   "source": [
    "# List of token names.\n",
    "tokens = [\n",
    "    'StartTagClose',\n",
    "    'XmlDeclStartTag',\n",
    "    'XmlDeclEndTag',\n",
    "    'DocTypeDeclStartTag',\n",
    "    'HealthTopicsStartTagOpen',\n",
    "    'HealthTopicsEndTag',\n",
    "    'HealthTopicStartTagOpen',\n",
    "    'HealthTopicEndTag',\n",
    "    'AlsoCalledStartTagOpen',\n",
    "    'AlsoCalledEndTag',\n",
    "    'FullSummaryStartTagOpen',\n",
    "    'FullSummaryEndTag',\n",
    "    'GroupStartTagOpen',\n",
    "    'GroupEndTag',\n",
    "    'LanguageMappedTopicStartTagOpen',\n",
    "    'LanguageMappedTopicEndTag',\n",
    "    'MeshHeadingStartTagOpen',\n",
    "    'MeshHeadingEndTag',\n",
    "    'DescriptorStartTagOpen',\n",
    "    'DescriptorEndTag',\n",
    "    'OtherLanguageStartTagOpen',\n",
    "    'OtherLanguageEndTag',\n",
    "    'PrimaryInstituteStartTagOpen',\n",
    "    'PrimaryInstituteEndTag',\n",
    "    'SeeReferenceStartTagOpen',\n",
    "    'SeeReferenceEndTag',\n",
    "    'SiteStartTagOpen',\n",
    "    'SiteEndTag',\n",
    "    'InformationCategoryStartTagOpen',\n",
    "    'InformationCategoryEndTag',\n",
    "    'OrganizationStartTagOpen',\n",
    "    'OrganizationEndTag',\n",
    "    'StandardDescriptionStartTagOpen',\n",
    "    'StandardDescriptionEndTag',\n",
    "    'RelatedTopicStartTagOpen',\n",
    "    'RelatedTopicEndTag',\n",
    "    'DocTypeDeclName',\n",
    "    'DocTypeDeclExternalId',\n",
    "    'VersionKey',\n",
    "    'EncodingKey',\n",
    "    'DateGeneratedKey',\n",
    "    'TotalKey',\n",
    "    'IdKey',\n",
    "    'DateCreatedKey',\n",
    "    'LanguageKey',\n",
    "    'TitleKey',\n",
    "    'UrlKey',\n",
    "    'MetaDescKey',\n",
    "    'VernacularNameKey',\n",
    "    'LanguageMappedUrlKey',\n",
    "    'Timestamp',\n",
    "    'Integer',\n",
    "    'Date',\n",
    "    'Language',\n",
    "    'Uri',\n",
    "    'String',\n",
    "    'Text'\n",
    "]\n",
    "\n",
    "# Regular expression rules for simple tokens\n",
    "t_HealthTopicsStartTagOpen = r'<health-topics'\n",
    "t_HealthTopicsEndTag = r'</health-topics>'\n",
    "t_HealthTopicStartTagOpen = r'<health-topic'\n",
    "t_HealthTopicEndTag = r'</health-topic>'\n",
    "t_AlsoCalledStartTagOpen = r'<also-called'\n",
    "t_AlsoCalledEndTag = r'</also-called>'\n",
    "t_FullSummaryStartTagOpen = r'<full-summary'\n",
    "t_FullSummaryEndTag = r'</full-summary>'\n",
    "t_GroupStartTagOpen = r'<group'\n",
    "t_GroupEndTag = r'</group>'\n",
    "t_LanguageMappedTopicStartTagOpen = r'<language-mapped-topic'\n",
    "t_LanguageMappedTopicEndTag = r'</language-mapped-topic>'\n",
    "t_MeshHeadingStartTagOpen = r'<mesh-heading'\n",
    "t_MeshHeadingEndTag = r'</mesh-heading>'\n",
    "t_DescriptorStartTagOpen = r'<descriptor'\n",
    "t_DescriptorEndTag = r'</descriptor>'\n",
    "t_OtherLanguageStartTagOpen = r'<other-language'\n",
    "t_OtherLanguageEndTag = r'</other-language>'\n",
    "t_PrimaryInstituteStartTagOpen = r'<primary-institute'\n",
    "t_PrimaryInstituteEndTag = r'</primary-institute>'\n",
    "t_SeeReferenceStartTagOpen = r'<see-reference'\n",
    "t_SeeReferenceEndTag = r'</see-reference>'\n",
    "t_SiteStartTagOpen = r'<site'\n",
    "t_SiteEndTag = r'</site>'\n",
    "t_InformationCategoryStartTagOpen = r'<information-category'\n",
    "t_InformationCategoryEndTag = r'</information-category>'\n",
    "t_OrganizationStartTagOpen = r'<organization'\n",
    "t_OrganizationEndTag = r'</organization>'\n",
    "t_StandardDescriptionStartTagOpen = r'<standard-description'\n",
    "t_StandardDescriptionEndTag = r'</standard-description>'\n",
    "t_RelatedTopicStartTagOpen = r'<related-topic'\n",
    "t_RelatedTopicEndTag = r'</related-topic>'\n",
    "\n",
    "# Regular expression for Text\n",
    "t_Text = r'[\\w ¿?!:;,&=\\.\\-\\'\\\"%\\*\\(\\)/\\t]+'\n",
    "\n",
    "# Prolog tags\n",
    "def t_XmlDeclStartTag(t):\n",
    "    r'<\\?xml'\n",
    "    return t\n",
    "\n",
    "def t_XmlDeclEndTag(t):\n",
    "    r'\\?>'\n",
    "    return t\n",
    "\n",
    "def t_StartTagClose(t):\n",
    "    r'>'\n",
    "    return t\n",
    "\n",
    "def t_DocTypeDeclStartTag(t):\n",
    "    r'<!DOCTYPE'\n",
    "    return t\n",
    "\n",
    "def t_DocTypeDeclName(t):\n",
    "    r' health-topics'\n",
    "    return t\n",
    "\n",
    "def t_DocTypeDeclExternalId(t):\n",
    "    r'PUBLIC\\s+\"-//NLM//DTD\\s+health-topics\\s+//EN\"\\s+\"https://medlineplus.gov/xml/mplus_topics.dtd\"'\n",
    "    return t\n",
    "\n",
    "# Keys of attributes\n",
    "def t_VersionKey(t):\n",
    "    r'version='\n",
    "    return t\n",
    "\n",
    "def t_EncodingKey(t):\n",
    "    r'encoding='\n",
    "    return t\n",
    "\n",
    "def t_DateGeneratedKey(t):\n",
    "    r'date-generated='\n",
    "    return t\n",
    "\n",
    "def t_TotalKey(t):\n",
    "    r'total='\n",
    "    return t\n",
    "\n",
    "def t_IdKey(t):\n",
    "    r'id='\n",
    "    return t\n",
    "\n",
    "def t_DateCreatedKey(t):\n",
    "    r'date-created='\n",
    "    return t\n",
    "\n",
    "def t_LanguageKey(t):\n",
    "    r'language='\n",
    "    return t\n",
    "\n",
    "def t_TitleKey(t):\n",
    "    r'title='\n",
    "    return t\n",
    "\n",
    "def t_UrlKey(t):\n",
    "    r'url='\n",
    "    return t\n",
    "\n",
    "def t_MetaDescKey(t):\n",
    "    r'meta-desc='\n",
    "    return t\n",
    "\n",
    "def t_VernacularNameKey(t):\n",
    "    r'vernacular-name='\n",
    "    return t\n",
    "\n",
    "def t_LanguageMappedUrlKey(t):\n",
    "    r'language-mapped-url='\n",
    "    return t\n",
    "\n",
    "# Value types of attributes\n",
    "def t_Date(t):\n",
    "    r'\"\\d{2}/\\d{2}/\\d{4}\"'\n",
    "    value = t.value\n",
    "    t.value  = datetime.strptime(value.replace('\"', ''), \"%m/%d/%Y\").date()\n",
    "    return t\n",
    "\n",
    "def t_Timestamp(t):\n",
    "    r'\"\\d{2}/\\d{2}/\\d{4}\\s\\d{2}:\\d{2}:\\d{2}\"'\n",
    "    value = t.value\n",
    "    t.value  = datetime.strptime(value.replace('\"', ''), \"%m/%d/%Y %H:%M:%S\")\n",
    "    return t\n",
    "\n",
    "def t_Integer(t):\n",
    "    r'\"\\d+\"'\n",
    "    value = t.value\n",
    "    t.value = int(value.replace('\"', ''))\n",
    "    return t\n",
    "\n",
    "def t_Language(t):\n",
    "    r'\"(English|Spanish)\"'\n",
    "    t.value = t.value.replace('\"', '')\n",
    "    return t\n",
    "\n",
    "def t_Uri(t):\n",
    "    r'\"(?:https?):\\/\\/[^\\s/$.?#].[^\\s\"<>]*[^\"<>]*\"'\n",
    "    t.value = t.value.replace('\"', '')\n",
    "    return t\n",
    "\n",
    "def t_String(t):\n",
    "    r'\"[^\"]*\"'\n",
    "    t.value = t.value.replace('\"', '')\n",
    "    return t\n",
    "\n",
    "# Define a rule so we can track line numbers\n",
    "def t_newline(t):\n",
    "    r'\\n+'\n",
    "    t.lexer.lineno += len(t.value)\n",
    "\n",
    "# A string containing ignored characters (spaces and tabs)\n",
    "t_ignore = ' \\t'\n",
    "\n",
    "# Error handling rule\n",
    "def t_error(t):\n",
    "    print(f\"Illegal character '{t.value[0]}'\")\n",
    "    t.lexer.skip(1)\n",
    "\n",
    "__file__ = \"lexer.ipynb\"\n",
    "lexer = lex.lex()\n",
    "\n",
    "with open('../data/mplus_topics.xml', 'r', encoding='utf-8') as file:\n",
    "    data = file.read()\n",
    "\n",
    "# Give the lexer some input\n",
    "lexer.input(data)\n",
    "\n",
    "# Tokenize\n",
    "for i in range(0, 248):\n",
    "    tok = lexer.token()\n",
    "    if not tok:\n",
    "        break  # No more input\n",
    "    display(tok)\n",
    "\n",
    "# while True:\n",
    "#     tok = lexer.token()\n",
    "#     if not tok:\n",
    "#         break  # No more input\n",
    "#     display(tok)"
   ],
   "outputs": [
    {
     "data": {
      "text/plain": [
       "LexToken(XmlDeclStartTag,'<?xml',1,0)"
      ]
     },
     "metadata": {},
     "output_type": "display_data"
    },
    {
     "data": {
      "text/plain": [
       "LexToken(VersionKey,'version=',1,6)"
      ]
     },
     "metadata": {},
     "output_type": "display_data"
    },
    {
     "data": {
      "text/plain": [
       "LexToken(String,'1.0',1,14)"
      ]
     },
     "metadata": {},
     "output_type": "display_data"
    },
    {
     "data": {
      "text/plain": [
       "LexToken(EncodingKey,'encoding=',1,20)"
      ]
     },
     "metadata": {},
     "output_type": "display_data"
    },
    {
     "data": {
      "text/plain": [
       "LexToken(String,'UTF-8',1,29)"
      ]
     },
     "metadata": {},
     "output_type": "display_data"
    },
    {
     "data": {
      "text/plain": [
       "LexToken(XmlDeclEndTag,'?>',1,36)"
      ]
     },
     "metadata": {},
     "output_type": "display_data"
    },
    {
     "data": {
      "text/plain": [
       "LexToken(DocTypeDeclStartTag,'<!DOCTYPE',2,39)"
      ]
     },
     "metadata": {},
     "output_type": "display_data"
    },
    {
     "data": {
      "text/plain": [
       "LexToken(DocTypeDeclName,'health-topics',2,49)"
      ]
     },
     "metadata": {},
     "output_type": "display_data"
    },
    {
     "data": {
      "text/plain": [
       "LexToken(DocTypeDeclExternalId,'PUBLIC \"-//NLM//DTD health-topics //EN\" \"https://medlineplus.gov/xml/mplus_topics.dtd\"',2,63)"
      ]
     },
     "metadata": {},
     "output_type": "display_data"
    },
    {
     "data": {
      "text/plain": [
       "LexToken(StartTagClose,'>',2,149)"
      ]
     },
     "metadata": {},
     "output_type": "display_data"
    },
    {
     "data": {
      "text/plain": [
       "LexToken(HealthTopicsStartTagOpen,'<health-topics',3,151)"
      ]
     },
     "metadata": {},
     "output_type": "display_data"
    },
    {
     "data": {
      "text/plain": [
       "LexToken(TotalKey,'total=',3,166)"
      ]
     },
     "metadata": {},
     "output_type": "display_data"
    },
    {
     "data": {
      "text/plain": [
       "LexToken(Integer,2044,3,172)"
      ]
     },
     "metadata": {},
     "output_type": "display_data"
    },
    {
     "data": {
      "text/plain": [
       "LexToken(DateGeneratedKey,'date-generated=',3,179)"
      ]
     },
     "metadata": {},
     "output_type": "display_data"
    },
    {
     "data": {
      "text/plain": [
       "LexToken(Timestamp,datetime.datetime(2024, 8, 30, 2, 30, 25),3,194)"
      ]
     },
     "metadata": {},
     "output_type": "display_data"
    },
    {
     "data": {
      "text/plain": [
       "LexToken(StartTagClose,'>',3,215)"
      ]
     },
     "metadata": {},
     "output_type": "display_data"
    },
    {
     "data": {
      "text/plain": [
       "LexToken(HealthTopicStartTagOpen,'<health-topic',4,218)"
      ]
     },
     "metadata": {},
     "output_type": "display_data"
    },
    {
     "data": {
      "text/plain": [
       "LexToken(MetaDescKey,'meta-desc=',4,232)"
      ]
     },
     "metadata": {},
     "output_type": "display_data"
    },
    {
     "data": {
      "text/plain": [
       "LexToken(String,'If you are being tested for Type 2 diabetes, your doctor gives you an A1C test. The test is also used to monitor your A1C levels.',4,242)"
      ]
     },
     "metadata": {},
     "output_type": "display_data"
    },
    {
     "data": {
      "text/plain": [
       "LexToken(TitleKey,'title=',4,374)"
      ]
     },
     "metadata": {},
     "output_type": "display_data"
    },
    {
     "data": {
      "text/plain": [
       "LexToken(String,'A1C',4,380)"
      ]
     },
     "metadata": {},
     "output_type": "display_data"
    },
    {
     "data": {
      "text/plain": [
       "LexToken(UrlKey,'url=',4,386)"
      ]
     },
     "metadata": {},
     "output_type": "display_data"
    },
    {
     "data": {
      "text/plain": [
       "LexToken(Uri,'https://medlineplus.gov/a1c.html',4,390)"
      ]
     },
     "metadata": {},
     "output_type": "display_data"
    },
    {
     "data": {
      "text/plain": [
       "LexToken(IdKey,'id=',4,425)"
      ]
     },
     "metadata": {},
     "output_type": "display_data"
    },
    {
     "data": {
      "text/plain": [
       "LexToken(Integer,6308,4,428)"
      ]
     },
     "metadata": {},
     "output_type": "display_data"
    },
    {
     "data": {
      "text/plain": [
       "LexToken(LanguageKey,'language=',4,435)"
      ]
     },
     "metadata": {},
     "output_type": "display_data"
    },
    {
     "data": {
      "text/plain": [
       "LexToken(Language,'English',4,444)"
      ]
     },
     "metadata": {},
     "output_type": "display_data"
    },
    {
     "data": {
      "text/plain": [
       "LexToken(DateCreatedKey,'date-created=',4,454)"
      ]
     },
     "metadata": {},
     "output_type": "display_data"
    },
    {
     "data": {
      "text/plain": [
       "LexToken(Date,datetime.date(2015, 12, 22),4,467)"
      ]
     },
     "metadata": {},
     "output_type": "display_data"
    },
    {
     "data": {
      "text/plain": [
       "LexToken(StartTagClose,'>',4,479)"
      ]
     },
     "metadata": {},
     "output_type": "display_data"
    },
    {
     "data": {
      "text/plain": [
       "LexToken(AlsoCalledStartTagOpen,'<also-called',5,483)"
      ]
     },
     "metadata": {},
     "output_type": "display_data"
    },
    {
     "data": {
      "text/plain": [
       "LexToken(StartTagClose,'>',5,495)"
      ]
     },
     "metadata": {},
     "output_type": "display_data"
    },
    {
     "data": {
      "text/plain": [
       "LexToken(Text,'Glycohemoglobin',5,496)"
      ]
     },
     "metadata": {},
     "output_type": "display_data"
    },
    {
     "data": {
      "text/plain": [
       "LexToken(AlsoCalledEndTag,'</also-called>',5,511)"
      ]
     },
     "metadata": {},
     "output_type": "display_data"
    },
    {
     "data": {
      "text/plain": [
       "LexToken(AlsoCalledStartTagOpen,'<also-called',6,528)"
      ]
     },
     "metadata": {},
     "output_type": "display_data"
    },
    {
     "data": {
      "text/plain": [
       "LexToken(StartTagClose,'>',6,540)"
      ]
     },
     "metadata": {},
     "output_type": "display_data"
    },
    {
     "data": {
      "text/plain": [
       "LexToken(Text,'HbA1C',6,541)"
      ]
     },
     "metadata": {},
     "output_type": "display_data"
    },
    {
     "data": {
      "text/plain": [
       "LexToken(AlsoCalledEndTag,'</also-called>',6,546)"
      ]
     },
     "metadata": {},
     "output_type": "display_data"
    },
    {
     "data": {
      "text/plain": [
       "LexToken(AlsoCalledStartTagOpen,'<also-called',7,563)"
      ]
     },
     "metadata": {},
     "output_type": "display_data"
    },
    {
     "data": {
      "text/plain": [
       "LexToken(StartTagClose,'>',7,575)"
      ]
     },
     "metadata": {},
     "output_type": "display_data"
    },
    {
     "data": {
      "text/plain": [
       "LexToken(Text,'Hemoglobin A1C test',7,576)"
      ]
     },
     "metadata": {},
     "output_type": "display_data"
    },
    {
     "data": {
      "text/plain": [
       "LexToken(AlsoCalledEndTag,'</also-called>',7,595)"
      ]
     },
     "metadata": {},
     "output_type": "display_data"
    },
    {
     "data": {
      "text/plain": [
       "LexToken(FullSummaryStartTagOpen,'<full-summary',8,612)"
      ]
     },
     "metadata": {},
     "output_type": "display_data"
    },
    {
     "data": {
      "text/plain": [
       "LexToken(StartTagClose,'>',8,625)"
      ]
     },
     "metadata": {},
     "output_type": "display_data"
    },
    {
     "data": {
      "text/plain": [
       "LexToken(Text,'&lt;p&gt;A1C is a blood test for &lt;a href=\"https://medlineplus.gov/diabetestype2.html\"&gt;type 2 diabetes&lt;/a&gt; and &lt;a href=\"https://medlineplus.gov/prediabetes.html\"&gt;prediabetes&lt;/a&gt;. It measures your average blood glucose, or &lt;a href=\"https://medlineplus.gov/bloodglucose.html\"&gt;blood sugar&lt;/a&gt;, level over the past 3 months. Doctors may use the A1C alone or in combination with other diabetes tests to make a diagnosis. They also use the A1C to see how well you are managing your diabetes. This test is different from the blood sugar checks that people with diabetes do every day.&lt;/p&gt;',8,626)"
      ]
     },
     "metadata": {},
     "output_type": "display_data"
    },
    {
     "data": {
      "text/plain": [
       "LexToken(Text,'&lt;p&gt;Your A1C test result is given in percentages. The higher the percentage, the higher your blood sugar levels have been:&lt;/p&gt;',10,1249)"
      ]
     },
     "metadata": {},
     "output_type": "display_data"
    },
    {
     "data": {
      "text/plain": [
       "LexToken(Text,'&lt;ul&gt;',11,1387)"
      ]
     },
     "metadata": {},
     "output_type": "display_data"
    },
    {
     "data": {
      "text/plain": [
       "LexToken(Text,'&lt;li&gt;A normal A1C level is below 5.7%&lt;/li&gt;',12,1398)"
      ]
     },
     "metadata": {},
     "output_type": "display_data"
    },
    {
     "data": {
      "text/plain": [
       "LexToken(Text,'&lt;li&gt;Prediabetes is between 5.7 to 6.4%. Having prediabetes is a risk factor for getting type 2 diabetes. People with prediabetes may need retests every year.&lt;/li&gt;',13,1452)"
      ]
     },
     "metadata": {},
     "output_type": "display_data"
    },
    {
     "data": {
      "text/plain": [
       "LexToken(Text,'&lt;li&gt;Type 2 diabetes is above 6.5%&lt;/li&gt;',14,1627)"
      ]
     },
     "metadata": {},
     "output_type": "display_data"
    },
    {
     "data": {
      "text/plain": [
       "LexToken(Text,'&lt;li&gt;If you have diabetes, you should have the A1C test at least twice a year. The A1C goal for many people with diabetes is below 7. It may be different for you. Ask what your goal should be. If your A1C result is too high, you may need to change your diabetes care plan.&lt;/li&gt;',15,1678)"
      ]
     },
     "metadata": {},
     "output_type": "display_data"
    },
    {
     "data": {
      "text/plain": [
       "LexToken(Text,'&lt;/ul&gt;',16,1967)"
      ]
     },
     "metadata": {},
     "output_type": "display_data"
    },
    {
     "data": {
      "text/plain": [
       "LexToken(Text,'&lt;p class=\"\"&gt;NIH: National Institute of Diabetes and Digestive and Kidney Diseases&lt;/p&gt;',18,1980)"
      ]
     },
     "metadata": {},
     "output_type": "display_data"
    },
    {
     "data": {
      "text/plain": [
       "LexToken(FullSummaryEndTag,'</full-summary>',18,2077)"
      ]
     },
     "metadata": {},
     "output_type": "display_data"
    },
    {
     "data": {
      "text/plain": [
       "LexToken(GroupStartTagOpen,'<group',19,2095)"
      ]
     },
     "metadata": {},
     "output_type": "display_data"
    },
    {
     "data": {
      "text/plain": [
       "LexToken(UrlKey,'url=',19,2102)"
      ]
     },
     "metadata": {},
     "output_type": "display_data"
    },
    {
     "data": {
      "text/plain": [
       "LexToken(Uri,'https://medlineplus.gov/diagnostictests.html',19,2106)"
      ]
     },
     "metadata": {},
     "output_type": "display_data"
    },
    {
     "data": {
      "text/plain": [
       "LexToken(IdKey,'id=',19,2153)"
      ]
     },
     "metadata": {},
     "output_type": "display_data"
    },
    {
     "data": {
      "text/plain": [
       "LexToken(Integer,25,19,2156)"
      ]
     },
     "metadata": {},
     "output_type": "display_data"
    },
    {
     "data": {
      "text/plain": [
       "LexToken(StartTagClose,'>',19,2160)"
      ]
     },
     "metadata": {},
     "output_type": "display_data"
    },
    {
     "data": {
      "text/plain": [
       "LexToken(Text,'Diagnostic Tests',19,2161)"
      ]
     },
     "metadata": {},
     "output_type": "display_data"
    },
    {
     "data": {
      "text/plain": [
       "LexToken(GroupEndTag,'</group>',19,2177)"
      ]
     },
     "metadata": {},
     "output_type": "display_data"
    },
    {
     "data": {
      "text/plain": [
       "LexToken(GroupStartTagOpen,'<group',20,2188)"
      ]
     },
     "metadata": {},
     "output_type": "display_data"
    },
    {
     "data": {
      "text/plain": [
       "LexToken(UrlKey,'url=',20,2195)"
      ]
     },
     "metadata": {},
     "output_type": "display_data"
    },
    {
     "data": {
      "text/plain": [
       "LexToken(Uri,'https://medlineplus.gov/diabetesmellitus.html',20,2199)"
      ]
     },
     "metadata": {},
     "output_type": "display_data"
    },
    {
     "data": {
      "text/plain": [
       "LexToken(IdKey,'id=',20,2247)"
      ]
     },
     "metadata": {},
     "output_type": "display_data"
    },
    {
     "data": {
      "text/plain": [
       "LexToken(Integer,45,20,2250)"
      ]
     },
     "metadata": {},
     "output_type": "display_data"
    },
    {
     "data": {
      "text/plain": [
       "LexToken(StartTagClose,'>',20,2254)"
      ]
     },
     "metadata": {},
     "output_type": "display_data"
    },
    {
     "data": {
      "text/plain": [
       "LexToken(Text,'Diabetes Mellitus',20,2255)"
      ]
     },
     "metadata": {},
     "output_type": "display_data"
    },
    {
     "data": {
      "text/plain": [
       "LexToken(GroupEndTag,'</group>',20,2272)"
      ]
     },
     "metadata": {},
     "output_type": "display_data"
    },
    {
     "data": {
      "text/plain": [
       "LexToken(LanguageMappedTopicStartTagOpen,'<language-mapped-topic',21,2283)"
      ]
     },
     "metadata": {},
     "output_type": "display_data"
    },
    {
     "data": {
      "text/plain": [
       "LexToken(UrlKey,'url=',21,2306)"
      ]
     },
     "metadata": {},
     "output_type": "display_data"
    },
    {
     "data": {
      "text/plain": [
       "LexToken(Uri,'https://medlineplus.gov/spanish/a1c.html',21,2310)"
      ]
     },
     "metadata": {},
     "output_type": "display_data"
    },
    {
     "data": {
      "text/plain": [
       "LexToken(IdKey,'id=',21,2353)"
      ]
     },
     "metadata": {},
     "output_type": "display_data"
    },
    {
     "data": {
      "text/plain": [
       "LexToken(Integer,6309,21,2356)"
      ]
     },
     "metadata": {},
     "output_type": "display_data"
    },
    {
     "data": {
      "text/plain": [
       "LexToken(LanguageKey,'language=',21,2363)"
      ]
     },
     "metadata": {},
     "output_type": "display_data"
    },
    {
     "data": {
      "text/plain": [
       "LexToken(Language,'Spanish',21,2372)"
      ]
     },
     "metadata": {},
     "output_type": "display_data"
    },
    {
     "data": {
      "text/plain": [
       "LexToken(StartTagClose,'>',21,2381)"
      ]
     },
     "metadata": {},
     "output_type": "display_data"
    },
    {
     "data": {
      "text/plain": [
       "LexToken(Text,'Prueba de hemoglobina glicosilada (HbA1c)',21,2382)"
      ]
     },
     "metadata": {},
     "output_type": "display_data"
    },
    {
     "data": {
      "text/plain": [
       "LexToken(LanguageMappedTopicEndTag,'</language-mapped-topic>',21,2423)"
      ]
     },
     "metadata": {},
     "output_type": "display_data"
    },
    {
     "data": {
      "text/plain": [
       "LexToken(MeshHeadingStartTagOpen,'<mesh-heading',22,2450)"
      ]
     },
     "metadata": {},
     "output_type": "display_data"
    },
    {
     "data": {
      "text/plain": [
       "LexToken(StartTagClose,'>',22,2463)"
      ]
     },
     "metadata": {},
     "output_type": "display_data"
    },
    {
     "data": {
      "text/plain": [
       "LexToken(DescriptorStartTagOpen,'<descriptor',23,2468)"
      ]
     },
     "metadata": {},
     "output_type": "display_data"
    },
    {
     "data": {
      "text/plain": [
       "LexToken(IdKey,'id=',23,2480)"
      ]
     },
     "metadata": {},
     "output_type": "display_data"
    },
    {
     "data": {
      "text/plain": [
       "LexToken(String,'D006442',23,2483)"
      ]
     },
     "metadata": {},
     "output_type": "display_data"
    },
    {
     "data": {
      "text/plain": [
       "LexToken(StartTagClose,'>',23,2492)"
      ]
     },
     "metadata": {},
     "output_type": "display_data"
    },
    {
     "data": {
      "text/plain": [
       "LexToken(Text,'Glycated Hemoglobin',23,2493)"
      ]
     },
     "metadata": {},
     "output_type": "display_data"
    },
    {
     "data": {
      "text/plain": [
       "LexToken(DescriptorEndTag,'</descriptor>',23,2512)"
      ]
     },
     "metadata": {},
     "output_type": "display_data"
    },
    {
     "data": {
      "text/plain": [
       "LexToken(MeshHeadingEndTag,'</mesh-heading>',24,2528)"
      ]
     },
     "metadata": {},
     "output_type": "display_data"
    },
    {
     "data": {
      "text/plain": [
       "LexToken(OtherLanguageStartTagOpen,'<other-language',25,2546)"
      ]
     },
     "metadata": {},
     "output_type": "display_data"
    },
    {
     "data": {
      "text/plain": [
       "LexToken(VernacularNameKey,'vernacular-name=',25,2562)"
      ]
     },
     "metadata": {},
     "output_type": "display_data"
    },
    {
     "data": {
      "text/plain": [
       "LexToken(String,'español',25,2578)"
      ]
     },
     "metadata": {},
     "output_type": "display_data"
    },
    {
     "data": {
      "text/plain": [
       "LexToken(UrlKey,'url=',25,2588)"
      ]
     },
     "metadata": {},
     "output_type": "display_data"
    },
    {
     "data": {
      "text/plain": [
       "LexToken(Uri,'https://medlineplus.gov/spanish/a1c.html',25,2592)"
      ]
     },
     "metadata": {},
     "output_type": "display_data"
    },
    {
     "data": {
      "text/plain": [
       "LexToken(StartTagClose,'>',25,2634)"
      ]
     },
     "metadata": {},
     "output_type": "display_data"
    },
    {
     "data": {
      "text/plain": [
       "LexToken(Text,'Spanish',25,2635)"
      ]
     },
     "metadata": {},
     "output_type": "display_data"
    },
    {
     "data": {
      "text/plain": [
       "LexToken(OtherLanguageEndTag,'</other-language>',25,2642)"
      ]
     },
     "metadata": {},
     "output_type": "display_data"
    },
    {
     "data": {
      "text/plain": [
       "LexToken(PrimaryInstituteStartTagOpen,'<primary-institute',26,2662)"
      ]
     },
     "metadata": {},
     "output_type": "display_data"
    },
    {
     "data": {
      "text/plain": [
       "LexToken(UrlKey,'url=',26,2681)"
      ]
     },
     "metadata": {},
     "output_type": "display_data"
    },
    {
     "data": {
      "text/plain": [
       "LexToken(Uri,'https://www.niddk.nih.gov',26,2685)"
      ]
     },
     "metadata": {},
     "output_type": "display_data"
    },
    {
     "data": {
      "text/plain": [
       "LexToken(StartTagClose,'>',26,2712)"
      ]
     },
     "metadata": {},
     "output_type": "display_data"
    },
    {
     "data": {
      "text/plain": [
       "LexToken(Text,'National Institute of Diabetes and Digestive and Kidney Diseases',26,2713)"
      ]
     },
     "metadata": {},
     "output_type": "display_data"
    },
    {
     "data": {
      "text/plain": [
       "LexToken(PrimaryInstituteEndTag,'</primary-institute>',26,2777)"
      ]
     },
     "metadata": {},
     "output_type": "display_data"
    },
    {
     "data": {
      "text/plain": [
       "LexToken(SeeReferenceStartTagOpen,'<see-reference',27,2800)"
      ]
     },
     "metadata": {},
     "output_type": "display_data"
    },
    {
     "data": {
      "text/plain": [
       "LexToken(StartTagClose,'>',27,2814)"
      ]
     },
     "metadata": {},
     "output_type": "display_data"
    },
    {
     "data": {
      "text/plain": [
       "LexToken(Text,'Hemoglobin A1c',27,2815)"
      ]
     },
     "metadata": {},
     "output_type": "display_data"
    },
    {
     "data": {
      "text/plain": [
       "LexToken(SeeReferenceEndTag,'</see-reference>',27,2829)"
      ]
     },
     "metadata": {},
     "output_type": "display_data"
    },
    {
     "data": {
      "text/plain": [
       "LexToken(SiteStartTagOpen,'<site',28,2848)"
      ]
     },
     "metadata": {},
     "output_type": "display_data"
    },
    {
     "data": {
      "text/plain": [
       "LexToken(TitleKey,'title=',28,2854)"
      ]
     },
     "metadata": {},
     "output_type": "display_data"
    },
    {
     "data": {
      "text/plain": [
       "LexToken(String,'A1C and eAG',28,2860)"
      ]
     },
     "metadata": {},
     "output_type": "display_data"
    },
    {
     "data": {
      "text/plain": [
       "LexToken(UrlKey,'url=',28,2874)"
      ]
     },
     "metadata": {},
     "output_type": "display_data"
    },
    {
     "data": {
      "text/plain": [
       "LexToken(Uri,'https://diabetes.org/a1c-eag-conversion-calculator',28,2878)"
      ]
     },
     "metadata": {},
     "output_type": "display_data"
    },
    {
     "data": {
      "text/plain": [
       "LexToken(LanguageMappedUrlKey,'language-mapped-url=',28,2931)"
      ]
     },
     "metadata": {},
     "output_type": "display_data"
    },
    {
     "data": {
      "text/plain": [
       "LexToken(Uri,'http://www.diabetes.org/es/vivir-con-diabetes/tratamiento-y-cuidado/el-control-de-la-glucosa-en-la-sangre/a1c-y-eag.html?loc=lwd-es-slabnav',28,2951)"
      ]
     },
     "metadata": {},
     "output_type": "display_data"
    },
    {
     "data": {
      "text/plain": [
       "LexToken(StartTagClose,'>',28,3092)"
      ]
     },
     "metadata": {},
     "output_type": "display_data"
    },
    {
     "data": {
      "text/plain": [
       "LexToken(InformationCategoryStartTagOpen,'<information-category',29,3097)"
      ]
     },
     "metadata": {},
     "output_type": "display_data"
    },
    {
     "data": {
      "text/plain": [
       "LexToken(StartTagClose,'>',29,3118)"
      ]
     },
     "metadata": {},
     "output_type": "display_data"
    },
    {
     "data": {
      "text/plain": [
       "LexToken(Text,'Learn More',29,3119)"
      ]
     },
     "metadata": {},
     "output_type": "display_data"
    },
    {
     "data": {
      "text/plain": [
       "LexToken(InformationCategoryEndTag,'</information-category>',29,3129)"
      ]
     },
     "metadata": {},
     "output_type": "display_data"
    },
    {
     "data": {
      "text/plain": [
       "LexToken(OrganizationStartTagOpen,'<organization',30,3156)"
      ]
     },
     "metadata": {},
     "output_type": "display_data"
    },
    {
     "data": {
      "text/plain": [
       "LexToken(StartTagClose,'>',30,3169)"
      ]
     },
     "metadata": {},
     "output_type": "display_data"
    },
    {
     "data": {
      "text/plain": [
       "LexToken(Text,'American Diabetes Association',30,3170)"
      ]
     },
     "metadata": {},
     "output_type": "display_data"
    },
    {
     "data": {
      "text/plain": [
       "LexToken(OrganizationEndTag,'</organization>',30,3199)"
      ]
     },
     "metadata": {},
     "output_type": "display_data"
    },
    {
     "data": {
      "text/plain": [
       "LexToken(SiteEndTag,'</site>',31,3217)"
      ]
     },
     "metadata": {},
     "output_type": "display_data"
    },
    {
     "data": {
      "text/plain": [
       "LexToken(SiteStartTagOpen,'<site',32,3227)"
      ]
     },
     "metadata": {},
     "output_type": "display_data"
    },
    {
     "data": {
      "text/plain": [
       "LexToken(TitleKey,'title=',32,3233)"
      ]
     },
     "metadata": {},
     "output_type": "display_data"
    },
    {
     "data": {
      "text/plain": [
       "LexToken(String,'A1C test',32,3239)"
      ]
     },
     "metadata": {},
     "output_type": "display_data"
    },
    {
     "data": {
      "text/plain": [
       "LexToken(UrlKey,'url=',32,3250)"
      ]
     },
     "metadata": {},
     "output_type": "display_data"
    },
    {
     "data": {
      "text/plain": [
       "LexToken(Uri,'https://medlineplus.gov/ency/article/003640.htm',32,3254)"
      ]
     },
     "metadata": {},
     "output_type": "display_data"
    },
    {
     "data": {
      "text/plain": [
       "LexToken(LanguageMappedUrlKey,'language-mapped-url=',32,3304)"
      ]
     },
     "metadata": {},
     "output_type": "display_data"
    },
    {
     "data": {
      "text/plain": [
       "LexToken(Uri,'https://medlineplus.gov/spanish/ency/article/003640.htm',32,3324)"
      ]
     },
     "metadata": {},
     "output_type": "display_data"
    },
    {
     "data": {
      "text/plain": [
       "LexToken(StartTagClose,'>',32,3381)"
      ]
     },
     "metadata": {},
     "output_type": "display_data"
    },
    {
     "data": {
      "text/plain": [
       "LexToken(InformationCategoryStartTagOpen,'<information-category',33,3386)"
      ]
     },
     "metadata": {},
     "output_type": "display_data"
    },
    {
     "data": {
      "text/plain": [
       "LexToken(StartTagClose,'>',33,3407)"
      ]
     },
     "metadata": {},
     "output_type": "display_data"
    },
    {
     "data": {
      "text/plain": [
       "LexToken(Text,'Patient Handouts',33,3408)"
      ]
     },
     "metadata": {},
     "output_type": "display_data"
    },
    {
     "data": {
      "text/plain": [
       "LexToken(InformationCategoryEndTag,'</information-category>',33,3424)"
      ]
     },
     "metadata": {},
     "output_type": "display_data"
    },
    {
     "data": {
      "text/plain": [
       "LexToken(OrganizationStartTagOpen,'<organization',34,3451)"
      ]
     },
     "metadata": {},
     "output_type": "display_data"
    },
    {
     "data": {
      "text/plain": [
       "LexToken(StartTagClose,'>',34,3464)"
      ]
     },
     "metadata": {},
     "output_type": "display_data"
    },
    {
     "data": {
      "text/plain": [
       "LexToken(Text,'Medical Encyclopedia',34,3465)"
      ]
     },
     "metadata": {},
     "output_type": "display_data"
    },
    {
     "data": {
      "text/plain": [
       "LexToken(OrganizationEndTag,'</organization>',34,3485)"
      ]
     },
     "metadata": {},
     "output_type": "display_data"
    },
    {
     "data": {
      "text/plain": [
       "LexToken(SiteEndTag,'</site>',35,3503)"
      ]
     },
     "metadata": {},
     "output_type": "display_data"
    },
    {
     "data": {
      "text/plain": [
       "LexToken(SiteStartTagOpen,'<site',36,3513)"
      ]
     },
     "metadata": {},
     "output_type": "display_data"
    },
    {
     "data": {
      "text/plain": [
       "LexToken(TitleKey,'title=',36,3519)"
      ]
     },
     "metadata": {},
     "output_type": "display_data"
    },
    {
     "data": {
      "text/plain": [
       "LexToken(String,'A1C Test and Diabetes',36,3525)"
      ]
     },
     "metadata": {},
     "output_type": "display_data"
    },
    {
     "data": {
      "text/plain": [
       "LexToken(UrlKey,'url=',36,3549)"
      ]
     },
     "metadata": {},
     "output_type": "display_data"
    },
    {
     "data": {
      "text/plain": [
       "LexToken(Uri,'https://www.niddk.nih.gov/health-information/diagnostic-tests/a1c-test',36,3553)"
      ]
     },
     "metadata": {},
     "output_type": "display_data"
    },
    {
     "data": {
      "text/plain": [
       "LexToken(LanguageMappedUrlKey,'language-mapped-url=',36,3626)"
      ]
     },
     "metadata": {},
     "output_type": "display_data"
    },
    {
     "data": {
      "text/plain": [
       "LexToken(Uri,'https://www.niddk.nih.gov/health-information/informacion-de-la-salud/pruebas-diagnosticas/prueba-a1c-diabetes',36,3646)"
      ]
     },
     "metadata": {},
     "output_type": "display_data"
    },
    {
     "data": {
      "text/plain": [
       "LexToken(StartTagClose,'>',36,3757)"
      ]
     },
     "metadata": {},
     "output_type": "display_data"
    },
    {
     "data": {
      "text/plain": [
       "LexToken(InformationCategoryStartTagOpen,'<information-category',37,3762)"
      ]
     },
     "metadata": {},
     "output_type": "display_data"
    },
    {
     "data": {
      "text/plain": [
       "LexToken(StartTagClose,'>',37,3783)"
      ]
     },
     "metadata": {},
     "output_type": "display_data"
    },
    {
     "data": {
      "text/plain": [
       "LexToken(Text,'Learn More',37,3784)"
      ]
     },
     "metadata": {},
     "output_type": "display_data"
    },
    {
     "data": {
      "text/plain": [
       "LexToken(InformationCategoryEndTag,'</information-category>',37,3794)"
      ]
     },
     "metadata": {},
     "output_type": "display_data"
    },
    {
     "data": {
      "text/plain": [
       "LexToken(OrganizationStartTagOpen,'<organization',38,3821)"
      ]
     },
     "metadata": {},
     "output_type": "display_data"
    },
    {
     "data": {
      "text/plain": [
       "LexToken(StartTagClose,'>',38,3834)"
      ]
     },
     "metadata": {},
     "output_type": "display_data"
    },
    {
     "data": {
      "text/plain": [
       "LexToken(Text,'National Institute of Diabetes and Digestive and Kidney Diseases',38,3835)"
      ]
     },
     "metadata": {},
     "output_type": "display_data"
    },
    {
     "data": {
      "text/plain": [
       "LexToken(OrganizationEndTag,'</organization>',38,3899)"
      ]
     },
     "metadata": {},
     "output_type": "display_data"
    },
    {
     "data": {
      "text/plain": [
       "LexToken(StandardDescriptionStartTagOpen,'<standard-description',39,3918)"
      ]
     },
     "metadata": {},
     "output_type": "display_data"
    },
    {
     "data": {
      "text/plain": [
       "LexToken(StartTagClose,'>',39,3939)"
      ]
     },
     "metadata": {},
     "output_type": "display_data"
    },
    {
     "data": {
      "text/plain": [
       "LexToken(Text,'NIH',39,3940)"
      ]
     },
     "metadata": {},
     "output_type": "display_data"
    },
    {
     "data": {
      "text/plain": [
       "LexToken(StandardDescriptionEndTag,'</standard-description>',39,3943)"
      ]
     },
     "metadata": {},
     "output_type": "display_data"
    },
    {
     "data": {
      "text/plain": [
       "LexToken(SiteEndTag,'</site>',40,3969)"
      ]
     },
     "metadata": {},
     "output_type": "display_data"
    },
    {
     "data": {
      "text/plain": [
       "LexToken(SiteStartTagOpen,'<site',41,3979)"
      ]
     },
     "metadata": {},
     "output_type": "display_data"
    },
    {
     "data": {
      "text/plain": [
       "LexToken(TitleKey,'title=',41,3985)"
      ]
     },
     "metadata": {},
     "output_type": "display_data"
    },
    {
     "data": {
      "text/plain": [
       "LexToken(String,'A1C Test and Race/Ethnicity',41,3991)"
      ]
     },
     "metadata": {},
     "output_type": "display_data"
    },
    {
     "data": {
      "text/plain": [
       "LexToken(UrlKey,'url=',41,4021)"
      ]
     },
     "metadata": {},
     "output_type": "display_data"
    },
    {
     "data": {
      "text/plain": [
       "LexToken(Uri,'https://www.niddk.nih.gov/health-information/diagnostic-tests/a1c-test-race-ethnicity',41,4025)"
      ]
     },
     "metadata": {},
     "output_type": "display_data"
    },
    {
     "data": {
      "text/plain": [
       "LexToken(StartTagClose,'>',41,4112)"
      ]
     },
     "metadata": {},
     "output_type": "display_data"
    },
    {
     "data": {
      "text/plain": [
       "LexToken(InformationCategoryStartTagOpen,'<information-category',42,4117)"
      ]
     },
     "metadata": {},
     "output_type": "display_data"
    },
    {
     "data": {
      "text/plain": [
       "LexToken(StartTagClose,'>',42,4138)"
      ]
     },
     "metadata": {},
     "output_type": "display_data"
    },
    {
     "data": {
      "text/plain": [
       "LexToken(Text,'Learn More',42,4139)"
      ]
     },
     "metadata": {},
     "output_type": "display_data"
    },
    {
     "data": {
      "text/plain": [
       "LexToken(InformationCategoryEndTag,'</information-category>',42,4149)"
      ]
     },
     "metadata": {},
     "output_type": "display_data"
    },
    {
     "data": {
      "text/plain": [
       "LexToken(OrganizationStartTagOpen,'<organization',43,4176)"
      ]
     },
     "metadata": {},
     "output_type": "display_data"
    },
    {
     "data": {
      "text/plain": [
       "LexToken(StartTagClose,'>',43,4189)"
      ]
     },
     "metadata": {},
     "output_type": "display_data"
    },
    {
     "data": {
      "text/plain": [
       "LexToken(Text,'National Institute of Diabetes and Digestive and Kidney Diseases',43,4190)"
      ]
     },
     "metadata": {},
     "output_type": "display_data"
    },
    {
     "data": {
      "text/plain": [
       "LexToken(OrganizationEndTag,'</organization>',43,4254)"
      ]
     },
     "metadata": {},
     "output_type": "display_data"
    },
    {
     "data": {
      "text/plain": [
       "LexToken(StandardDescriptionStartTagOpen,'<standard-description',44,4273)"
      ]
     },
     "metadata": {},
     "output_type": "display_data"
    },
    {
     "data": {
      "text/plain": [
       "LexToken(StartTagClose,'>',44,4294)"
      ]
     },
     "metadata": {},
     "output_type": "display_data"
    },
    {
     "data": {
      "text/plain": [
       "LexToken(Text,'NIH',44,4295)"
      ]
     },
     "metadata": {},
     "output_type": "display_data"
    },
    {
     "data": {
      "text/plain": [
       "LexToken(StandardDescriptionEndTag,'</standard-description>',44,4298)"
      ]
     },
     "metadata": {},
     "output_type": "display_data"
    },
    {
     "data": {
      "text/plain": [
       "LexToken(SiteEndTag,'</site>',45,4324)"
      ]
     },
     "metadata": {},
     "output_type": "display_data"
    },
    {
     "data": {
      "text/plain": [
       "LexToken(SiteStartTagOpen,'<site',46,4334)"
      ]
     },
     "metadata": {},
     "output_type": "display_data"
    },
    {
     "data": {
      "text/plain": [
       "LexToken(TitleKey,'title=',46,4340)"
      ]
     },
     "metadata": {},
     "output_type": "display_data"
    },
    {
     "data": {
      "text/plain": [
       "LexToken(String,'ClinicalTrials.gov: Hemoglobin A1C',46,4346)"
      ]
     },
     "metadata": {},
     "output_type": "display_data"
    },
    {
     "data": {
      "text/plain": [
       "LexToken(UrlKey,'url=',46,4383)"
      ]
     },
     "metadata": {},
     "output_type": "display_data"
    },
    {
     "data": {
      "text/plain": [
       "LexToken(Uri,'https://clinicaltrials.gov/search?intr=%22Hemoglobin+A1C%22&amp;aggFilters=status:not%20rec',46,4387)"
      ]
     },
     "metadata": {},
     "output_type": "display_data"
    },
    {
     "data": {
      "text/plain": [
       "LexToken(StartTagClose,'>',46,4480)"
      ]
     },
     "metadata": {},
     "output_type": "display_data"
    },
    {
     "data": {
      "text/plain": [
       "LexToken(InformationCategoryStartTagOpen,'<information-category',47,4485)"
      ]
     },
     "metadata": {},
     "output_type": "display_data"
    },
    {
     "data": {
      "text/plain": [
       "LexToken(StartTagClose,'>',47,4506)"
      ]
     },
     "metadata": {},
     "output_type": "display_data"
    },
    {
     "data": {
      "text/plain": [
       "LexToken(Text,'Clinical Trials',47,4507)"
      ]
     },
     "metadata": {},
     "output_type": "display_data"
    },
    {
     "data": {
      "text/plain": [
       "LexToken(InformationCategoryEndTag,'</information-category>',47,4522)"
      ]
     },
     "metadata": {},
     "output_type": "display_data"
    },
    {
     "data": {
      "text/plain": [
       "LexToken(OrganizationStartTagOpen,'<organization',48,4549)"
      ]
     },
     "metadata": {},
     "output_type": "display_data"
    },
    {
     "data": {
      "text/plain": [
       "LexToken(StartTagClose,'>',48,4562)"
      ]
     },
     "metadata": {},
     "output_type": "display_data"
    },
    {
     "data": {
      "text/plain": [
       "LexToken(Text,'National Institutes of Health',48,4563)"
      ]
     },
     "metadata": {},
     "output_type": "display_data"
    },
    {
     "data": {
      "text/plain": [
       "LexToken(OrganizationEndTag,'</organization>',48,4592)"
      ]
     },
     "metadata": {},
     "output_type": "display_data"
    },
    {
     "data": {
      "text/plain": [
       "LexToken(StandardDescriptionStartTagOpen,'<standard-description',49,4611)"
      ]
     },
     "metadata": {},
     "output_type": "display_data"
    },
    {
     "data": {
      "text/plain": [
       "LexToken(StartTagClose,'>',49,4632)"
      ]
     },
     "metadata": {},
     "output_type": "display_data"
    },
    {
     "data": {
      "text/plain": [
       "LexToken(Text,'NIH',49,4633)"
      ]
     },
     "metadata": {},
     "output_type": "display_data"
    },
    {
     "data": {
      "text/plain": [
       "LexToken(StandardDescriptionEndTag,'</standard-description>',49,4636)"
      ]
     },
     "metadata": {},
     "output_type": "display_data"
    },
    {
     "data": {
      "text/plain": [
       "LexToken(SiteEndTag,'</site>',50,4662)"
      ]
     },
     "metadata": {},
     "output_type": "display_data"
    },
    {
     "data": {
      "text/plain": [
       "LexToken(SiteStartTagOpen,'<site',51,4672)"
      ]
     },
     "metadata": {},
     "output_type": "display_data"
    },
    {
     "data": {
      "text/plain": [
       "LexToken(TitleKey,'title=',51,4678)"
      ]
     },
     "metadata": {},
     "output_type": "display_data"
    },
    {
     "data": {
      "text/plain": [
       "LexToken(String,'Hemoglobin A1C (HbA1c) Test',51,4684)"
      ]
     },
     "metadata": {},
     "output_type": "display_data"
    },
    {
     "data": {
      "text/plain": [
       "LexToken(UrlKey,'url=',51,4714)"
      ]
     },
     "metadata": {},
     "output_type": "display_data"
    },
    {
     "data": {
      "text/plain": [
       "LexToken(Uri,'https://medlineplus.gov/lab-tests/hemoglobin-a1c-hba1c-test/',51,4718)"
      ]
     },
     "metadata": {},
     "output_type": "display_data"
    },
    {
     "data": {
      "text/plain": [
       "LexToken(LanguageMappedUrlKey,'language-mapped-url=',51,4781)"
      ]
     },
     "metadata": {},
     "output_type": "display_data"
    },
    {
     "data": {
      "text/plain": [
       "LexToken(Uri,'https://medlineplus.gov/spanish/pruebas-de-laboratorio/prueba-de-hemoglobina-a1c/',51,4801)"
      ]
     },
     "metadata": {},
     "output_type": "display_data"
    },
    {
     "data": {
      "text/plain": [
       "LexToken(StartTagClose,'>',51,4884)"
      ]
     },
     "metadata": {},
     "output_type": "display_data"
    },
    {
     "data": {
      "text/plain": [
       "LexToken(InformationCategoryStartTagOpen,'<information-category',52,4889)"
      ]
     },
     "metadata": {},
     "output_type": "display_data"
    },
    {
     "data": {
      "text/plain": [
       "LexToken(StartTagClose,'>',52,4910)"
      ]
     },
     "metadata": {},
     "output_type": "display_data"
    },
    {
     "data": {
      "text/plain": [
       "LexToken(Text,'Learn More',52,4911)"
      ]
     },
     "metadata": {},
     "output_type": "display_data"
    },
    {
     "data": {
      "text/plain": [
       "LexToken(InformationCategoryEndTag,'</information-category>',52,4921)"
      ]
     },
     "metadata": {},
     "output_type": "display_data"
    },
    {
     "data": {
      "text/plain": [
       "LexToken(OrganizationStartTagOpen,'<organization',53,4948)"
      ]
     },
     "metadata": {},
     "output_type": "display_data"
    },
    {
     "data": {
      "text/plain": [
       "LexToken(StartTagClose,'>',53,4961)"
      ]
     },
     "metadata": {},
     "output_type": "display_data"
    },
    {
     "data": {
      "text/plain": [
       "LexToken(Text,'National Library of Medicine',53,4962)"
      ]
     },
     "metadata": {},
     "output_type": "display_data"
    },
    {
     "data": {
      "text/plain": [
       "LexToken(OrganizationEndTag,'</organization>',53,4990)"
      ]
     },
     "metadata": {},
     "output_type": "display_data"
    },
    {
     "data": {
      "text/plain": [
       "LexToken(StandardDescriptionStartTagOpen,'<standard-description',54,5009)"
      ]
     },
     "metadata": {},
     "output_type": "display_data"
    },
    {
     "data": {
      "text/plain": [
       "LexToken(StartTagClose,'>',54,5030)"
      ]
     },
     "metadata": {},
     "output_type": "display_data"
    },
    {
     "data": {
      "text/plain": [
       "LexToken(Text,'NIH',54,5031)"
      ]
     },
     "metadata": {},
     "output_type": "display_data"
    },
    {
     "data": {
      "text/plain": [
       "LexToken(StandardDescriptionEndTag,'</standard-description>',54,5034)"
      ]
     },
     "metadata": {},
     "output_type": "display_data"
    },
    {
     "data": {
      "text/plain": [
       "LexToken(SiteEndTag,'</site>',55,5060)"
      ]
     },
     "metadata": {},
     "output_type": "display_data"
    },
    {
     "data": {
      "text/plain": [
       "LexToken(SiteStartTagOpen,'<site',56,5070)"
      ]
     },
     "metadata": {},
     "output_type": "display_data"
    },
    {
     "data": {
      "text/plain": [
       "LexToken(TitleKey,'title=',56,5076)"
      ]
     },
     "metadata": {},
     "output_type": "display_data"
    },
    {
     "data": {
      "text/plain": [
       "LexToken(String,'A1C',56,5082)"
      ]
     },
     "metadata": {},
     "output_type": "display_data"
    },
    {
     "data": {
      "text/plain": [
       "LexToken(UrlKey,'url=',56,5088)"
      ]
     },
     "metadata": {},
     "output_type": "display_data"
    },
    {
     "data": {
      "text/plain": [
       "LexToken(Uri,'https://pubmed.ncbi.nlm.nih.gov/?term=%22Glycated+Hemoglobin%22%5Bmajr%3Anoexp%5D+AND+humans%5Bmh%5D+AND+english%5Bla%5D+AND+%22last+1+Year%22+%5Bedat%5D+NOT+%28letter%5Bpt%5D+OR+case+reports%5Bpt%5D+OR+editorial%5Bpt%5D+OR+comment%5Bpt%5D%29+AND+free+full+text%5Bsb%5D+',56,5092)"
      ]
     },
     "metadata": {},
     "output_type": "display_data"
    },
    {
     "data": {
      "text/plain": [
       "LexToken(StartTagClose,'>',56,5364)"
      ]
     },
     "metadata": {},
     "output_type": "display_data"
    },
    {
     "data": {
      "text/plain": [
       "LexToken(InformationCategoryStartTagOpen,'<information-category',57,5369)"
      ]
     },
     "metadata": {},
     "output_type": "display_data"
    },
    {
     "data": {
      "text/plain": [
       "LexToken(StartTagClose,'>',57,5390)"
      ]
     },
     "metadata": {},
     "output_type": "display_data"
    },
    {
     "data": {
      "text/plain": [
       "LexToken(Text,'Journal Articles',57,5391)"
      ]
     },
     "metadata": {},
     "output_type": "display_data"
    },
    {
     "data": {
      "text/plain": [
       "LexToken(InformationCategoryEndTag,'</information-category>',57,5407)"
      ]
     },
     "metadata": {},
     "output_type": "display_data"
    },
    {
     "data": {
      "text/plain": [
       "LexToken(SiteEndTag,'</site>',58,5433)"
      ]
     },
     "metadata": {},
     "output_type": "display_data"
    },
    {
     "data": {
      "text/plain": [
       "LexToken(SiteStartTagOpen,'<site',59,5443)"
      ]
     },
     "metadata": {},
     "output_type": "display_data"
    },
    {
     "data": {
      "text/plain": [
       "LexToken(TitleKey,'title=',59,5449)"
      ]
     },
     "metadata": {},
     "output_type": "display_data"
    },
    {
     "data": {
      "text/plain": [
       "LexToken(String,'Understanding A1C',59,5455)"
      ]
     },
     "metadata": {},
     "output_type": "display_data"
    },
    {
     "data": {
      "text/plain": [
       "LexToken(UrlKey,'url=',59,5475)"
      ]
     },
     "metadata": {},
     "output_type": "display_data"
    },
    {
     "data": {
      "text/plain": [
       "LexToken(Uri,'https://diabetes.org/about-diabetes/a1c',59,5479)"
      ]
     },
     "metadata": {},
     "output_type": "display_data"
    },
    {
     "data": {
      "text/plain": [
       "LexToken(StartTagClose,'>',59,5520)"
      ]
     },
     "metadata": {},
     "output_type": "display_data"
    },
    {
     "data": {
      "text/plain": [
       "LexToken(InformationCategoryStartTagOpen,'<information-category',60,5525)"
      ]
     },
     "metadata": {},
     "output_type": "display_data"
    },
    {
     "data": {
      "text/plain": [
       "LexToken(StartTagClose,'>',60,5546)"
      ]
     },
     "metadata": {},
     "output_type": "display_data"
    },
    {
     "data": {
      "text/plain": [
       "LexToken(Text,'Learn More',60,5547)"
      ]
     },
     "metadata": {},
     "output_type": "display_data"
    },
    {
     "data": {
      "text/plain": [
       "LexToken(InformationCategoryEndTag,'</information-category>',60,5557)"
      ]
     },
     "metadata": {},
     "output_type": "display_data"
    },
    {
     "data": {
      "text/plain": [
       "LexToken(OrganizationStartTagOpen,'<organization',61,5584)"
      ]
     },
     "metadata": {},
     "output_type": "display_data"
    },
    {
     "data": {
      "text/plain": [
       "LexToken(StartTagClose,'>',61,5597)"
      ]
     },
     "metadata": {},
     "output_type": "display_data"
    },
    {
     "data": {
      "text/plain": [
       "LexToken(Text,'American Diabetes Association',61,5598)"
      ]
     },
     "metadata": {},
     "output_type": "display_data"
    },
    {
     "data": {
      "text/plain": [
       "LexToken(OrganizationEndTag,'</organization>',61,5627)"
      ]
     },
     "metadata": {},
     "output_type": "display_data"
    },
    {
     "data": {
      "text/plain": [
       "LexToken(SiteEndTag,'</site>',62,5645)"
      ]
     },
     "metadata": {},
     "output_type": "display_data"
    },
    {
     "data": {
      "text/plain": [
       "LexToken(HealthTopicEndTag,'</health-topic>',63,5654)"
      ]
     },
     "metadata": {},
     "output_type": "display_data"
    }
   ],
   "execution_count": 16
  }
 ],
 "metadata": {
  "kernelspec": {
   "display_name": "Python 3",
   "language": "python",
   "name": "python3"
  },
  "language_info": {
   "codemirror_mode": {
    "name": "ipython",
    "version": 3
   },
   "file_extension": ".py",
   "mimetype": "text/x-python",
   "name": "python",
   "nbconvert_exporter": "python",
   "pygments_lexer": "ipython3",
   "version": "3.12.0"
  }
 },
 "nbformat": 4,
 "nbformat_minor": 5
}
