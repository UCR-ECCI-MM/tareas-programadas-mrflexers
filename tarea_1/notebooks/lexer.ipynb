{
 "cells": [
  {
   "cell_type": "code",
   "execution_count": 1,
   "id": "defc521b858b515b",
   "metadata": {
    "ExecuteTime": {
     "end_time": "2024-09-01T02:53:03.845286Z",
     "start_time": "2024-09-01T02:53:03.842477Z"
    }
   },
   "outputs": [],
   "source": [
    "from datetime import datetime\n",
    "import ply.lex as lex"
   ]
  },
  {
   "cell_type": "code",
   "execution_count": 6,
   "id": "initial_id",
   "metadata": {
    "ExecuteTime": {
     "end_time": "2024-09-01T02:53:03.894814Z",
     "start_time": "2024-09-01T02:53:03.866083Z"
    },
    "collapsed": true
   },
   "outputs": [
    {
     "data": {
      "text/plain": [
       "LexToken(XmlDeclStartTag,'<?xml',2,1)"
      ]
     },
     "metadata": {},
     "output_type": "display_data"
    },
    {
     "data": {
      "text/plain": [
       "LexToken(VersionKey,'version=',2,7)"
      ]
     },
     "metadata": {},
     "output_type": "display_data"
    },
    {
     "data": {
      "text/plain": [
       "LexToken(String,'\"1.0\"',2,15)"
      ]
     },
     "metadata": {},
     "output_type": "display_data"
    },
    {
     "data": {
      "text/plain": [
       "LexToken(EncodingKey,'encoding=',2,21)"
      ]
     },
     "metadata": {},
     "output_type": "display_data"
    },
    {
     "data": {
      "text/plain": [
       "LexToken(String,'\"UTF-8\"',2,30)"
      ]
     },
     "metadata": {},
     "output_type": "display_data"
    },
    {
     "data": {
      "text/plain": [
       "LexToken(XmlDeclEndTag,'?>',2,37)"
      ]
     },
     "metadata": {},
     "output_type": "display_data"
    },
    {
     "data": {
      "text/plain": [
       "LexToken(DocTypeDeclStartTag,'<!DOCTYPE',3,40)"
      ]
     },
     "metadata": {},
     "output_type": "display_data"
    },
    {
     "data": {
      "text/plain": [
       "LexToken(DocTypeDeclName,'health-topics',3,50)"
      ]
     },
     "metadata": {},
     "output_type": "display_data"
    },
    {
     "data": {
      "text/plain": [
       "LexToken(DocTypeDeclExternalId,'PUBLIC \"-//NLM//DTD health-topics //EN\" \"https://medlineplus.gov/xml/mplus_topics.dtd\"',3,64)"
      ]
     },
     "metadata": {},
     "output_type": "display_data"
    },
    {
     "data": {
      "text/plain": [
       "LexToken(StartTagClose,'>',3,150)"
      ]
     },
     "metadata": {},
     "output_type": "display_data"
    },
    {
     "data": {
      "text/plain": [
       "LexToken(HealthTopicsStartTagOpen,'<health-topics',4,152)"
      ]
     },
     "metadata": {},
     "output_type": "display_data"
    },
    {
     "data": {
      "text/plain": [
       "LexToken(TotalKey,'total=',4,167)"
      ]
     },
     "metadata": {},
     "output_type": "display_data"
    },
    {
     "data": {
      "text/plain": [
       "LexToken(Integer,1833,4,173)"
      ]
     },
     "metadata": {},
     "output_type": "display_data"
    },
    {
     "data": {
      "text/plain": [
       "LexToken(DateGeneratedKey,'date-generated=',4,180)"
      ]
     },
     "metadata": {},
     "output_type": "display_data"
    },
    {
     "data": {
      "text/plain": [
       "LexToken(Timestamp,datetime.datetime(2012, 4, 24, 4, 35, 44),4,195)"
      ]
     },
     "metadata": {},
     "output_type": "display_data"
    },
    {
     "data": {
      "text/plain": [
       "LexToken(StartTagClose,'>',4,216)"
      ]
     },
     "metadata": {},
     "output_type": "display_data"
    },
    {
     "data": {
      "text/plain": [
       "LexToken(HealthTopicStartTagOpen,'<health-topic',5,218)"
      ]
     },
     "metadata": {},
     "output_type": "display_data"
    },
    {
     "data": {
      "text/plain": [
       "LexToken(MetaDescKey,'meta-desc=',5,232)"
      ]
     },
     "metadata": {},
     "output_type": "display_data"
    },
    {
     "data": {
      "text/plain": [
       "LexToken(String,'\"Stomach aches can be painful. Find out what might be the cause of your abdominal pain. \"',5,242)"
      ]
     },
     "metadata": {},
     "output_type": "display_data"
    },
    {
     "data": {
      "text/plain": [
       "LexToken(TitleKey,'title=',5,332)"
      ]
     },
     "metadata": {},
     "output_type": "display_data"
    },
    {
     "data": {
      "text/plain": [
       "LexToken(String,'\"Abdominal Pain\"',5,338)"
      ]
     },
     "metadata": {},
     "output_type": "display_data"
    },
    {
     "data": {
      "text/plain": [
       "LexToken(UrlKey,'url=',5,355)"
      ]
     },
     "metadata": {},
     "output_type": "display_data"
    },
    {
     "data": {
      "text/plain": [
       "LexToken(String,'\"https://www.nlm.nih.gov/medlineplus/abdominalpain.html\"',5,359)"
      ]
     },
     "metadata": {},
     "output_type": "display_data"
    },
    {
     "data": {
      "text/plain": [
       "LexToken(IdKey,'id=',5,416)"
      ]
     },
     "metadata": {},
     "output_type": "display_data"
    },
    {
     "data": {
      "text/plain": [
       "LexToken(Integer,3061,5,419)"
      ]
     },
     "metadata": {},
     "output_type": "display_data"
    },
    {
     "data": {
      "text/plain": [
       "LexToken(LanguageKey,'language=',5,426)"
      ]
     },
     "metadata": {},
     "output_type": "display_data"
    },
    {
     "data": {
      "text/plain": [
       "LexToken(Language,'English',5,435)"
      ]
     },
     "metadata": {},
     "output_type": "display_data"
    },
    {
     "data": {
      "text/plain": [
       "LexToken(DateCreatedKey,'date-created=',5,445)"
      ]
     },
     "metadata": {},
     "output_type": "display_data"
    },
    {
     "data": {
      "text/plain": [
       "LexToken(Date,datetime.date(2003, 1, 7),5,458)"
      ]
     },
     "metadata": {},
     "output_type": "display_data"
    },
    {
     "data": {
      "text/plain": [
       "LexToken(StartTagClose,'>',5,470)"
      ]
     },
     "metadata": {},
     "output_type": "display_data"
    }
   ],
   "source": [
    "# List of token names.\n",
    "tokens = [\n",
    "    'StartTagClose',\n",
    "    'XmlDeclStartTag',\n",
    "    'XmlDeclEndTag',\n",
    "    'DocTypeDeclStartTag',\n",
    "    'HealthTopicsStartTagOpen',\n",
    "    'HealthTopicsEndTag',\n",
    "    'HealthTopicStartTagOpen',\n",
    "    'HealthTopicEndTag',\n",
    "    'AlsoCalledStartTagOpen',\n",
    "    'AlsoCalledEndTag',\n",
    "    'FullSummaryStartTagOpen',\n",
    "    'FullSummaryEndTag',\n",
    "    'GroupStartTagOpen',\n",
    "    'GroupEndTag',\n",
    "    'LanguageMappedTopicStartTagOpen',\n",
    "    'LanguageMappedTopicEndTag',\n",
    "    'MeshHeadingStartTagOpen',\n",
    "    'MeshHeadingEndTag',\n",
    "    'DescriptorStartTagOpen',\n",
    "    'DescriptorEndTag',\n",
    "    'OtherLanguageStartTagOpen',\n",
    "    'OtherLanguageEndTag',\n",
    "    'PrimaryInstituteStartTagOpen',\n",
    "    'PrimaryInstituteEndTag',\n",
    "    'SeeReferenceStartTagOpen',\n",
    "    'SeeReferenceEndTag',\n",
    "    'SiteStartTagOpen',\n",
    "    'SiteEndTag',\n",
    "    'InformationCategoryStartTagOpen',\n",
    "    'InformationCategoryEndTag',\n",
    "    'OrganizationStartTagOpen',\n",
    "    'OrganizationEndTag',\n",
    "    'StandardDescriptionStartTagOpen',\n",
    "    'StandardDescriptionEndTag',\n",
    "    'RelatedTopicStartTagOpen',\n",
    "    'RelatedTopicEndTag',\n",
    "    'DocTypeDeclName',\n",
    "    'DocTypeDeclExternalId',\n",
    "    'VersionKey',\n",
    "    'EncodingKey',\n",
    "    'DateGeneratedKey',\n",
    "    'TotalKey',\n",
    "    'IdKey',\n",
    "    'DateCreatedKey',\n",
    "    'LanguageKey',\n",
    "    'TitleKey',\n",
    "    'UrlKey',\n",
    "    'MetaDescKey',\n",
    "    'VernacularNameKey',\n",
    "    'LanguageMappedUrlKey',\n",
    "    'Timestamp',\n",
    "    'Integer',\n",
    "    'Date',\n",
    "    'Language',\n",
    "    'String',\n",
    "    'Uri',\n",
    "]\n",
    "\n",
    "# Regular expression rules for simple tokens\n",
    "t_StartTagClose = r'>'\n",
    "t_XmlDeclStartTag = r'<\\?xml'\n",
    "t_XmlDeclEndTag = r'\\?>'\n",
    "t_DocTypeDeclStartTag = r'<!DOCTYPE'\n",
    "t_HealthTopicsStartTagOpen = r'<health-topics'\n",
    "t_HealthTopicsEndTag = r'</health-topics>'\n",
    "t_HealthTopicStartTagOpen = r'<health-topic'\n",
    "t_HealthTopicEndTag = r'</health-topic>'\n",
    "t_AlsoCalledStartTagOpen = r'<also-called'\n",
    "t_AlsoCalledEndTag = r'</also-called>'\n",
    "t_FullSummaryStartTagOpen = r'<full-summary'\n",
    "t_FullSummaryEndTag = r'</full-summary>'\n",
    "t_GroupStartTagOpen = r'<group'\n",
    "t_GroupEndTag = r'</group>'\n",
    "t_LanguageMappedTopicStartTagOpen = r'<language-mapped-topic'\n",
    "t_LanguageMappedTopicEndTag = r'</language-mapped-topic>'\n",
    "t_MeshHeadingStartTagOpen = r'<mesh-heading'\n",
    "t_MeshHeadingEndTag = r'</mesh-heading>'\n",
    "t_DescriptorStartTagOpen = r'<descriptor'\n",
    "t_DescriptorEndTag = r'</descriptor>'\n",
    "t_OtherLanguageStartTagOpen = r'<other-language'\n",
    "t_OtherLanguageEndTag = r'</other-language>'\n",
    "t_PrimaryInstituteStartTagOpen = r'<primary-institute'\n",
    "t_PrimaryInstituteEndTag = r'</primary-institute>'\n",
    "t_SeeReferenceStartTagOpen = r'<see-reference'\n",
    "t_SeeReferenceEndTag = r'</see-reference>'\n",
    "t_SiteStartTagOpen = r'<site'\n",
    "t_SiteEndTag = r'</site>'\n",
    "t_InformationCategoryStartTagOpen = r'<information-category'\n",
    "t_InformationCategoryEndTag = r'</information-category>'\n",
    "t_OrganizationStartTagOpen = r'<organization'\n",
    "t_OrganizationEndTag = r'</organization>'\n",
    "t_StandardDescriptionStartTagOpen = r'<standard-description'\n",
    "t_StandardDescriptionEndTag = r'</standard-description>'\n",
    "t_RelatedTopicStartTagOpen = r'<related-topic'\n",
    "t_RelatedTopicEndTag = r'</related-topic>'\n",
    "\n",
    "t_DocTypeDeclName = r' health-topics'\n",
    "t_DocTypeDeclExternalId = r'PUBLIC\\s+\"-//NLM//DTD\\s+health-topics\\s+//EN\"\\s+\"https://medlineplus.gov/xml/mplus_topics.dtd\"'\n",
    "\n",
    "t_VersionKey = r'version='\n",
    "t_EncodingKey = r'encoding='\n",
    "t_DateGeneratedKey = r'date-generated='\n",
    "t_TotalKey = r'total='\n",
    "t_IdKey = r'id='\n",
    "t_DateCreatedKey = r'date-created='\n",
    "t_LanguageKey = r'language='\n",
    "t_TitleKey = r'title='\n",
    "t_UrlKey = r'url='\n",
    "t_MetaDescKey = r'meta-desc='\n",
    "t_VernacularNameKey = r'vernacular-name='\n",
    "t_LanguageMappedUrlKey = r'language-mapped-url='\n",
    "\n",
    "t_Uri = r'\\b(?:https?):\\/\\/[^\\s/$.?#].[^\\s\"<>]*'\n",
    "t_String = r'\"[^\"]+\"'\n",
    "\n",
    "def t_Date(t):\n",
    "    r'\"\\d{2}/\\d{2}/\\d{4}\"'\n",
    "    value = t.value\n",
    "    t.value  = datetime.strptime(value.replace('\"', ''), \"%m/%d/%Y\").date()\n",
    "    return t\n",
    "\n",
    "def t_Timestamp(t):\n",
    "    r'\"\\d{2}/\\d{2}/\\d{4}\\s\\d{2}:\\d{2}:\\d{2}\"'\n",
    "    value = t.value\n",
    "    t.value  = datetime.strptime(value.replace('\"', ''), \"%m/%d/%Y %H:%M:%S\")\n",
    "    return t\n",
    "\n",
    "def t_Integer(t):\n",
    "    r'\"\\d+\"'\n",
    "    value = t.value\n",
    "    t.value = int(value.replace('\"', ''))\n",
    "    return t\n",
    "\n",
    " # can be Spanish or English only\n",
    "def t_Language(t):\n",
    "    r'\"(Spanish|English)\"'\n",
    "    t.value = t.value.replace('\"', '')\n",
    "    return t\n",
    "\n",
    "# Define a rule so we can track line numbers\n",
    "def t_newline(t):\n",
    "    r'\\n+'\n",
    "    t.lexer.lineno += len(t.value)\n",
    "\n",
    "# A string containing ignored characters (spaces and tabs)\n",
    "t_ignore = ' \\t'\n",
    "\n",
    "# Error handling rule\n",
    "def t_error(t):\n",
    "    print(f\"Illegal character '{t.value[0]}'\")\n",
    "    t.lexer.skip(1)\n",
    "\n",
    "__file__ = \"lexer.ipynb\"\n",
    "lexer = lex.lex()\n",
    "\n",
    "data = \"\"\"\n",
    "<?xml version=\"1.0\" encoding=\"UTF-8\"?>\n",
    "<!DOCTYPE health-topics PUBLIC \"-//NLM//DTD health-topics //EN\" \"https://medlineplus.gov/xml/mplus_topics.dtd\">\n",
    "<health-topics total=\"1833\" date-generated=\"04/24/2012 04:35:44\">\n",
    "<health-topic meta-desc=\"Stomach aches can be painful. Find out what might be the cause of your abdominal pain. \" title=\"Abdominal Pain\" url=\"https://www.nlm.nih.gov/medlineplus/abdominalpain.html\" id=\"3061\" language=\"English\" date-created=\"01/07/2003\">\n",
    "<also-called>Bellyache</also-called>\n",
    "<full-summary><p>Your abdomen extends from below your chest to your groin. Some people call it the stomach, but your abdomen contains many other important organs. Pain in the abdomen can come from any one of them. The pain may start somewhere else, such as your chest. Severe pain doesn't always mean a serious problem. Nor does mild pain mean a problem is not serious. </p>\n",
    "\n",
    "<p>Call your healthcare provider if mild pain lasts a week or more or if you have pain with other symptoms. Get medical help immediately if</p>\n",
    "<ul>\n",
    "<li>      You have abdominal pain that is sudden and sharp</li>\n",
    "<li>You also have pain in your chest, neck or shoulder </li>\n",
    "<li>      You're vomiting blood or have blood in your stool </li>\n",
    "<li>      Your abdomen is stiff, hard and tender to touch </li>\n",
    "<li>You can't move your bowels, especially if you're also vomiting </li>\n",
    "</ul>\n",
    "</full-summary>\n",
    "<group url=\"https://www.nlm.nih.gov/medlineplus/digestivesystem.html\" id=\"2\">Digestive System</group>\n",
    "<group url=\"https://www.nlm.nih.gov/medlineplus/symptoms.html\" id=\"31\">Symptoms</group>\n",
    "<language-mapped-topic url=\"https://www.nlm.nih.gov/medlineplus/spanish/abdominalpain.html\" id=\"3062\" language=\"Spanish\">Dolor abdominal</language-mapped-topic>\n",
    "<mesh-heading>\n",
    "<descriptor id=\"D015746\">Abdominal Pain</descriptor>\n",
    "</mesh-heading>\n",
    "<other-language vernacular-name=\"español\" url=\"https://www.nlm.nih.gov/medlineplus/spanish/abdominalpain.html\">Spanish</other-language>\n",
    "<related-topic url=\"https://www.nlm.nih.gov/medlineplus/pain.html\" id=\"351\">Pain</related-topic>\n",
    "<related-topic url=\"https://www.nlm.nih.gov/medlineplus/pelvicpain.html\" id=\"4486\">Pelvic Pain</related-topic>\n",
    "<see-reference>Bellyache</see-reference>\n",
    "<see-reference>Pain, Abdominal</see-reference>\n",
    "<see-reference>Stomach Ache</see-reference>\n",
    "<site title=\"Abdominal CT scan\" url=\"https://www.nlm.nih.gov/medlineplus/ency/article/003789.htm\" language-mapped-url=\"https://www.nlm.nih.gov/medlineplus/spanish/ency/article/003789.htm\">\n",
    "<information-category>Encyclopedia</information-category>\n",
    "<information-category>Patient Handouts</information-category>\n",
    "</site>\n",
    "<site title=\"Abdominal mass\" url=\"https://www.nlm.nih.gov/medlineplus/ency/article/003274.htm\" language-mapped-url=\"https://www.nlm.nih.gov/medlineplus/spanish/ency/article/003274.htm\">\n",
    "<information-category>Encyclopedia</information-category>\n",
    "</site>\n",
    "<site title=\"Abdominal Migraine\" url=\"http://www.headaches.org/education/Headache_Topic_Sheets/Abdominal_Migraine\">\n",
    "<information-category>Specific Conditions</information-category>\n",
    "<organization>National Headache Foundation</organization>\n",
    "</site>\n",
    "<site title=\"Your Colicky Baby\" url=\"http://kidshealth.org/parent/growth/growing/colic.html\" language-mapped-url=\"http://kidshealth.org/parent/en_espanol/padres/colic_esp.html\">\n",
    "<information-category>Children</information-category>\n",
    "<organization>Nemours Foundation</organization>\n",
    "</site>\n",
    "<site title=\"Hypnosis May Help Kids' Stomach Woes Long-Term\" url=\"https://www.nlm.nih.gov/medlineplus/news/fullstory_122279.html\">\n",
    "<information-category>Latest News</information-category>\n",
    "<organization>Reuters Health</organization>\n",
    "</site>\n",
    "</health-topic>\n",
    "</health-topics>\"\"\"\n",
    "\n",
    "# Give the lexer some input\n",
    "lexer.input(data)\n",
    "\n",
    "# Tokenize\n",
    "for i in range(0, 30):\n",
    "    tok = lexer.token()\n",
    "    if not tok:\n",
    "        break  # No more input\n",
    "    display(tok)\n",
    "\n",
    "# while True:\n",
    "#     tok = lexer.token()\n",
    "#     if not tok:\n",
    "#         break  # No more input\n",
    "#     display(tok)"
   ]
  }
 ],
 "metadata": {
  "kernelspec": {
   "display_name": "Python 3",
   "language": "python",
   "name": "python3"
  },
  "language_info": {
   "codemirror_mode": {
    "name": "ipython",
    "version": 3
   },
   "file_extension": ".py",
   "mimetype": "text/x-python",
   "name": "python",
   "nbconvert_exporter": "python",
   "pygments_lexer": "ipython3",
   "version": "3.12.0"
  }
 },
 "nbformat": 4,
 "nbformat_minor": 5
}
