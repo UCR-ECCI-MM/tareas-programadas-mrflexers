{
 "cells": [
  {
   "cell_type": "markdown",
   "id": "6d5b70053dca83bb",
   "metadata": {},
   "source": [
    "# Preprocessing"
   ]
  },
  {
   "cell_type": "markdown",
   "id": "952bde087f745086",
   "metadata": {},
   "source": [
    "## Setup"
   ]
  },
  {
   "cell_type": "markdown",
   "id": "17c88ab54097f39f",
   "metadata": {},
   "source": [
    "#### Imports"
   ]
  },
  {
   "cell_type": "code",
   "id": "b6cd075fb2ae915d",
   "metadata": {},
   "source": [
    "import xmltodict as xd\n",
    "import pandas as pd\n",
    "\n",
    "from pandas import DataFrame"
   ],
   "outputs": [],
   "execution_count": null
  },
  {
   "cell_type": "markdown",
   "id": "4542d201d6ab180e",
   "metadata": {},
   "source": [
    "#### Methods"
   ]
  },
  {
   "cell_type": "code",
   "id": "b18ebf01d3e5475f",
   "metadata": {},
   "source": [
    "def _attr_to_df(dicts: list[dict], attr: str, parent_pk: str, parent_prefix: str, attr_pk) -> DataFrame:\n",
    "    dicts_with_attr = [d for d in dicts if attr in d]\n",
    "\n",
    "    for d in dicts_with_attr:\n",
    "        if not isinstance(d[attr], list):\n",
    "            d[attr] = [d[attr]]\n",
    "\n",
    "    attr_meta_df = pd.json_normalize(\n",
    "        dicts_with_attr,\n",
    "        record_path=attr,\n",
    "        meta=[parent_pk],\n",
    "        meta_prefix=parent_prefix\n",
    "    )\n",
    "\n",
    "    parent_pk_col_name = parent_prefix + parent_pk\n",
    "    parent_pk_col = attr_meta_df.pop(parent_pk_col_name)\n",
    "    attr_meta_df.insert(0, parent_pk_col_name, parent_pk_col)\n",
    "\n",
    "    return attr_meta_df"
   ],
   "outputs": [],
   "execution_count": null
  },
  {
   "cell_type": "code",
   "id": "359711f579859e3",
   "metadata": {},
   "source": [
    "def _del_attr(dicts: list[dict], attr: str):\n",
    "    return [{k: v for k, v in d.items() if k != attr} for d in dicts]"
   ],
   "outputs": [],
   "execution_count": null
  },
  {
   "cell_type": "code",
   "id": "2a167f843cad9a99",
   "metadata": {},
   "source": [
    "def _standardize_df(df: DataFrame, pk_col_name: str) -> DataFrame:\n",
    "    if pk_col_name == 'id':\n",
    "        df['id'] = df['id'].astype(int)\n",
    "\n",
    "    pk_col = df.pop(pk_col_name)\n",
    "    df.insert(0, pk_col_name, pk_col)\n",
    "\n",
    "    return df.sort_values(pk_col_name).reset_index(drop=True)"
   ],
   "outputs": [],
   "execution_count": null
  },
  {
   "cell_type": "code",
   "id": "2042565430d5b769",
   "metadata": {},
   "source": [
    "def _extract_attr_as_df(dicts: list[dict], attr: str, parent_pk: str, parent_prefix: str, attr_pk) -> (\n",
    "        list[dict], DataFrame):\n",
    "    attr_meta_df = _attr_to_df(dicts, attr, parent_pk, parent_prefix, attr_pk)\n",
    "\n",
    "    pruned_dicts = _del_attr(dicts, attr)\n",
    "\n",
    "    attr_meta_df = _standardize_df(attr_meta_df, attr_pk)\n",
    "\n",
    "    return pruned_dicts, attr_meta_df"
   ],
   "outputs": [],
   "execution_count": null
  },
  {
   "cell_type": "code",
   "id": "978c6b365e20cb3",
   "metadata": {},
   "source": [
    "def convert(dicts: list[dict], root_name: str, attr_pks: list[(str, str)], root_pk: str = 'id') -> dict:\n",
    "    meta_prefix = root_name + '_'\n",
    "    dataframes = {}\n",
    "    for attr, attr_pk in attr_pks:\n",
    "        (dicts, attr_meta_df) = _extract_attr_as_df(dicts, attr, root_pk, meta_prefix, attr_pk)\n",
    "        dataframes[attr] = attr_meta_df\n",
    "\n",
    "    root_df = _standardize_df(pd.json_normalize(dicts), root_pk)\n",
    "    dataframes[root_name] = root_df\n",
    "    return dataframes"
   ],
   "outputs": [],
   "execution_count": null
  },
  {
   "cell_type": "code",
   "id": "c88d0de0d2a09bc",
   "metadata": {},
   "source": [
    "def replace_keys(d):\n",
    "    if isinstance(d, dict):\n",
    "        return {k.replace('-', '_'): replace_keys(v) for k, v in d.items()}\n",
    "    elif isinstance(d, list):\n",
    "        return [replace_keys(item) for item in d]  # Handle lists by applying replace_keys to each item\n",
    "    return d  # Return other data types unchanged"
   ],
   "outputs": [],
   "execution_count": null
  },
  {
   "cell_type": "markdown",
   "id": "a3165312390a0463",
   "metadata": {},
   "source": [
    "#### Constants"
   ]
  },
  {
   "cell_type": "code",
   "id": "47caf5c2d415183",
   "metadata": {},
   "source": [
    "HT_PK = 'id'\n",
    "HT_META_PREFIX = 'health_topic_'\n",
    "\n",
    "RENAMINGS = {\n",
    "    'meta_desc': 'description',\n",
    "    'standard_description': 'description',\n",
    "    'text': 'name',\n",
    "    0: 'name'\n",
    "}"
   ],
   "outputs": [],
   "execution_count": null
  },
  {
   "cell_type": "markdown",
   "id": "5371c730450d1f28",
   "metadata": {},
   "source": [
    "## Parsing"
   ]
  },
  {
   "cell_type": "code",
   "id": "e913eb8d6edf1d18",
   "metadata": {},
   "source": [
    "with open(\"../data/mplus_topics.xml\", 'r') as file:\n",
    "    health_topics_dict = xd.parse(file.read(), attr_prefix='', cdata_key='text')['health-topics']\n",
    "health_topics = health_topics_dict['health-topic']"
   ],
   "outputs": [],
   "execution_count": null
  },
  {
   "cell_type": "code",
   "id": "fd4397583356de75",
   "metadata": {},
   "source": [
    "dataset_size = len(health_topics)\n",
    "dataset_timestamp = health_topics_dict['date-generated']"
   ],
   "outputs": [],
   "execution_count": null
  },
  {
   "cell_type": "markdown",
   "id": "e2ca9758b521beb7",
   "metadata": {},
   "source": [
    "## Data preparation"
   ]
  },
  {
   "cell_type": "markdown",
   "id": "75b9e2c8baf5973e",
   "metadata": {},
   "source": [
    "#### Pruning unused attributes"
   ]
  },
  {
   "cell_type": "code",
   "id": "cd3e96318161e72a",
   "metadata": {},
   "source": [
    "attrs_to_prune = ['also-called', 'see-reference', 'full-summary', 'mesh-heading', 'language-mapped-topic',\n",
    "                  'other-language']\n",
    "health_topics = [{k: v for k, v in ht.items() if k not in attrs_to_prune} for ht in health_topics]\n",
    "\n",
    "health_topics = replace_keys(health_topics)\n",
    "\n",
    "health_topics = [{**ht, HT_PK: int(ht[HT_PK])} for ht in health_topics]"
   ],
   "outputs": [],
   "execution_count": null
  },
  {
   "cell_type": "markdown",
   "id": "19743dfdcd00b7a9",
   "metadata": {},
   "source": [
    "#### Extracting nested objects"
   ]
  },
  {
   "cell_type": "code",
   "id": "290041f68c55dc23",
   "metadata": {},
   "source": [
    "for ht in health_topics:\n",
    "    if not isinstance(ht['site'], list):\n",
    "        ht['site'] = [ht['site']]\n",
    "\n",
    "sites = [site for ht in health_topics if 'site' in ht for site in ht['site']]"
   ],
   "outputs": [],
   "execution_count": null
  },
  {
   "cell_type": "code",
   "id": "a82f5a62c548bbe8",
   "metadata": {},
   "source": [
    "info_cat_site_df = convert(sites, 'site', [('information_category', 0)], 'url')['information_category']\n",
    "\n",
    "attr_pks = [('site', 'url'), ('primary_institute', 'url'), ('group', 'id'), ('related_topic', 'id')]\n",
    "\n",
    "dfs = convert(health_topics, 'health_topic', attr_pks)\n",
    "\n",
    "site_ht_df = dfs['site']\n",
    "prim_inst_ht_df = dfs['primary_institute']\n",
    "group_ht_df = dfs['group']\n",
    "related_topic_ht_df = dfs['related_topic']\n",
    "health_topic_df = dfs['health_topic']"
   ],
   "outputs": [],
   "execution_count": null
  },
  {
   "cell_type": "markdown",
   "id": "67a9e8a1d95b01d7",
   "metadata": {},
   "source": [
    "#### Normalizing extracted DataFrames"
   ]
  },
  {
   "cell_type": "code",
   "id": "ae5e83250ae408fc",
   "metadata": {},
   "source": [
    "info_cat_df = (info_cat_site_df.drop(columns=['site_url'])\n",
    "               .drop_duplicates([0])\n",
    "               .reset_index(drop=True))\n",
    "\n",
    "site_df = (site_ht_df.drop(columns=['health_topic_id', 'information_category'])\n",
    "           .drop_duplicates(['url'])\n",
    "           .reset_index(drop=True))\n",
    "\n",
    "prim_inst_df = (prim_inst_ht_df.drop(columns=['health_topic_id'])\n",
    "                .drop_duplicates(['url'])\n",
    "                .reset_index(drop=True))\n",
    "\n",
    "group_df = (group_ht_df.drop(columns=['health_topic_id'])\n",
    "            .drop_duplicates(['id'])\n",
    "            .reset_index(drop=True))\n",
    "\n",
    "health_topic_df = health_topic_df.drop_duplicates(['id']).reset_index(drop=True)\n",
    "\n",
    "site_ht_df = (site_ht_df\n",
    "              .drop(columns=['information_category', 'language_mapped_url', 'organization', 'standard_description']))\n",
    "\n",
    "prim_inst_ht_df = prim_inst_ht_df.drop(columns=['text'])\n",
    "\n",
    "group_ht_df = group_ht_df.drop(columns=['url', 'text'])\n",
    "\n",
    "related_topic_ht_df = related_topic_ht_df.drop(columns=['url', 'text'])"
   ],
   "outputs": [],
   "execution_count": null
  },
  {
   "cell_type": "markdown",
   "id": "eb4aab0aaf7f2108",
   "metadata": {},
   "source": [
    "#### Renaming columns"
   ]
  },
  {
   "cell_type": "code",
   "id": "fcdbba49cb5eeb88",
   "metadata": {},
   "source": [
    "dfs = [info_cat_df, site_df, prim_inst_df, group_df, info_cat_site_df, health_topic_df, site_ht_df, prim_inst_ht_df,\n",
    "       group_ht_df, related_topic_ht_df]\n",
    "for df in dfs:\n",
    "    renamings = {k: v for k, v in RENAMINGS.items() if k in list(df.columns.values)}\n",
    "    df.rename(columns=renamings, inplace=True)"
   ],
   "outputs": [],
   "execution_count": null
  },
  {
   "cell_type": "markdown",
   "id": "a6aac82702647217",
   "metadata": {},
   "source": [
    "## Display"
   ]
  },
  {
   "cell_type": "code",
   "id": "3d3239dbbf2fe718",
   "metadata": {},
   "source": [
    "dataset_size"
   ],
   "outputs": [],
   "execution_count": null
  },
  {
   "cell_type": "code",
   "id": "ffda83e9a63c9504",
   "metadata": {},
   "source": [
    "dataset_timestamp"
   ],
   "outputs": [],
   "execution_count": null
  },
  {
   "cell_type": "code",
   "id": "c1bbb9c490c2d8bc",
   "metadata": {},
   "source": [
    "info_cat_df"
   ],
   "outputs": [],
   "execution_count": null
  },
  {
   "cell_type": "code",
   "id": "dd20eb0dee4873d7",
   "metadata": {},
   "source": [
    "site_df"
   ],
   "outputs": [],
   "execution_count": null
  },
  {
   "cell_type": "code",
   "id": "c653711e288962e1",
   "metadata": {},
   "source": [
    "prim_inst_df"
   ],
   "outputs": [],
   "execution_count": null
  },
  {
   "cell_type": "code",
   "id": "b24888d68f9a9573",
   "metadata": {},
   "source": [
    "group_df"
   ],
   "outputs": [],
   "execution_count": null
  },
  {
   "cell_type": "code",
   "id": "d65a9b46a7f958ad",
   "metadata": {},
   "source": [
    "info_cat_site_df"
   ],
   "outputs": [],
   "execution_count": null
  },
  {
   "cell_type": "code",
   "id": "90a0c01d876cbcef",
   "metadata": {},
   "source": [
    "health_topic_df"
   ],
   "outputs": [],
   "execution_count": null
  },
  {
   "cell_type": "code",
   "id": "e8a5f50defb19809",
   "metadata": {},
   "source": [
    "site_ht_df"
   ],
   "outputs": [],
   "execution_count": null
  },
  {
   "cell_type": "code",
   "id": "40249d85a4af09e6",
   "metadata": {},
   "source": [
    "prim_inst_ht_df"
   ],
   "outputs": [],
   "execution_count": null
  },
  {
   "cell_type": "code",
   "id": "8b73de2202edf043",
   "metadata": {},
   "source": [
    "group_ht_df"
   ],
   "outputs": [],
   "execution_count": null
  },
  {
   "cell_type": "code",
   "id": "8bce4b839c65d6d8",
   "metadata": {},
   "source": [
    "related_topic_ht_df"
   ],
   "outputs": [],
   "execution_count": null
  }
 ],
 "metadata": {
  "kernelspec": {
   "display_name": "Python 3",
   "language": "python",
   "name": "python3"
  },
  "language_info": {
   "codemirror_mode": {
    "name": "ipython",
    "version": 2
   },
   "file_extension": ".py",
   "mimetype": "text/x-python",
   "name": "python",
   "nbconvert_exporter": "python",
   "pygments_lexer": "ipython2",
   "version": "2.7.6"
  }
 },
 "nbformat": 4,
 "nbformat_minor": 5
}
